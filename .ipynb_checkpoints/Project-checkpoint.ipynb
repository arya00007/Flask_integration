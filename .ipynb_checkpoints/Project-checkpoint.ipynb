{
 "cells": [
  {
   "cell_type": "code",
   "execution_count": 1,
   "metadata": {},
   "outputs": [],
   "source": [
    "import pandas as pd"
   ]
  },
  {
   "cell_type": "code",
   "execution_count": 2,
   "metadata": {},
   "outputs": [
    {
     "data": {
      "text/plain": [
       "'C:\\\\Users\\\\User\\\\Untitled Folder 1'"
      ]
     },
     "execution_count": 2,
     "metadata": {},
     "output_type": "execute_result"
    }
   ],
   "source": [
    "pwd"
   ]
  },
  {
   "cell_type": "code",
   "execution_count": 3,
   "metadata": {},
   "outputs": [],
   "source": [
    "df=pd.read_csv('Recommendation system Dummy (Responses) - merge sheet.csv')"
   ]
  },
  {
   "cell_type": "code",
   "execution_count": 4,
   "metadata": {},
   "outputs": [
    {
     "data": {
      "text/plain": [
       "(390, 34)"
      ]
     },
     "execution_count": 4,
     "metadata": {},
     "output_type": "execute_result"
    }
   ],
   "source": [
    "df.shape"
   ]
  },
  {
   "cell_type": "code",
   "execution_count": 5,
   "metadata": {},
   "outputs": [
    {
     "data": {
      "text/html": [
       "<div>\n",
       "<style scoped>\n",
       "    .dataframe tbody tr th:only-of-type {\n",
       "        vertical-align: middle;\n",
       "    }\n",
       "\n",
       "    .dataframe tbody tr th {\n",
       "        vertical-align: top;\n",
       "    }\n",
       "\n",
       "    .dataframe thead th {\n",
       "        text-align: right;\n",
       "    }\n",
       "</style>\n",
       "<table border=\"1\" class=\"dataframe\">\n",
       "  <thead>\n",
       "    <tr style=\"text-align: right;\">\n",
       "      <th></th>\n",
       "      <th>Name</th>\n",
       "      <th>Age</th>\n",
       "      <th>Gender</th>\n",
       "      <th>Marital status</th>\n",
       "      <th>Profession</th>\n",
       "      <th>Location</th>\n",
       "      <th>Living with Family</th>\n",
       "      <th>Sleeping Duration</th>\n",
       "      <th>Under Medication</th>\n",
       "      <th>Did you ever tested positive in Covid-19</th>\n",
       "      <th>...</th>\n",
       "      <th>Kind of movies you like to watch these days</th>\n",
       "      <th>Your favourite Web Series</th>\n",
       "      <th>Type of Songs you like to listen</th>\n",
       "      <th>Not being able to stop or control worrying about yourself or your belongings</th>\n",
       "      <th>Get easily annoyed or irritable</th>\n",
       "      <th>Interest or pleasure in Exploring things</th>\n",
       "      <th>Tended to overreact on Situations</th>\n",
       "      <th>What Addiction are you concerned about:-</th>\n",
       "      <th>Select a Quote which you like from the following</th>\n",
       "      <th>Please rate your recent Mental Situation</th>\n",
       "    </tr>\n",
       "  </thead>\n",
       "  <tbody>\n",
       "    <tr>\n",
       "      <td>0</td>\n",
       "      <td>soumitra dey</td>\n",
       "      <td>22</td>\n",
       "      <td>Male</td>\n",
       "      <td>Unmarried</td>\n",
       "      <td>Student</td>\n",
       "      <td>kolkata</td>\n",
       "      <td>Yes</td>\n",
       "      <td>6-8 hours</td>\n",
       "      <td>None</td>\n",
       "      <td>NaN</td>\n",
       "      <td>...</td>\n",
       "      <td>Fantasy</td>\n",
       "      <td>breaking bad</td>\n",
       "      <td>Calm</td>\n",
       "      <td>Not at all</td>\n",
       "      <td>Not at all</td>\n",
       "      <td>love to explore</td>\n",
       "      <td>Sometimes</td>\n",
       "      <td>None</td>\n",
       "      <td>There are wounds that never show on the body t...</td>\n",
       "      <td>4</td>\n",
       "    </tr>\n",
       "    <tr>\n",
       "      <td>1</td>\n",
       "      <td>sayantan chanda</td>\n",
       "      <td>56</td>\n",
       "      <td>Male</td>\n",
       "      <td>Married</td>\n",
       "      <td>Employed</td>\n",
       "      <td>kol</td>\n",
       "      <td>Yes</td>\n",
       "      <td>6-8 hours</td>\n",
       "      <td>Blood Pressure, Hyper Tension, Thyroid</td>\n",
       "      <td>No</td>\n",
       "      <td>...</td>\n",
       "      <td>Sci-Fi</td>\n",
       "      <td>NaN</td>\n",
       "      <td>Calm</td>\n",
       "      <td>Not at all</td>\n",
       "      <td>Not at all</td>\n",
       "      <td>love to explore</td>\n",
       "      <td>Sometimes</td>\n",
       "      <td>Opioids</td>\n",
       "      <td>There are wounds that never show on the body t...</td>\n",
       "      <td>2</td>\n",
       "    </tr>\n",
       "    <tr>\n",
       "      <td>2</td>\n",
       "      <td>Raj kumar</td>\n",
       "      <td>21</td>\n",
       "      <td>Male</td>\n",
       "      <td>Unmarried</td>\n",
       "      <td>Student</td>\n",
       "      <td>Kolkata</td>\n",
       "      <td>Yes</td>\n",
       "      <td>4-6 hours</td>\n",
       "      <td>Hyper Tension</td>\n",
       "      <td>No</td>\n",
       "      <td>...</td>\n",
       "      <td>Horror</td>\n",
       "      <td>NaN</td>\n",
       "      <td>Anxious/Sad</td>\n",
       "      <td>Yes</td>\n",
       "      <td>Yes</td>\n",
       "      <td>Little</td>\n",
       "      <td>Frequently</td>\n",
       "      <td>Tobacco</td>\n",
       "      <td>There are wounds that never show on the body t...</td>\n",
       "      <td>2</td>\n",
       "    </tr>\n",
       "    <tr>\n",
       "      <td>3</td>\n",
       "      <td>Rishab Joshi</td>\n",
       "      <td>23</td>\n",
       "      <td>Male</td>\n",
       "      <td>Unmarried</td>\n",
       "      <td>Student</td>\n",
       "      <td>Kol</td>\n",
       "      <td>Yes</td>\n",
       "      <td>6-8 hours</td>\n",
       "      <td>None</td>\n",
       "      <td>No</td>\n",
       "      <td>...</td>\n",
       "      <td>Comedy</td>\n",
       "      <td>NaN</td>\n",
       "      <td>Energetic</td>\n",
       "      <td>Not at all</td>\n",
       "      <td>Not at all</td>\n",
       "      <td>love to explore</td>\n",
       "      <td>Rarely</td>\n",
       "      <td>Tobacco</td>\n",
       "      <td>Being Happy never goes out of Style</td>\n",
       "      <td>4</td>\n",
       "    </tr>\n",
       "    <tr>\n",
       "      <td>4</td>\n",
       "      <td>Ramesh powar</td>\n",
       "      <td>28</td>\n",
       "      <td>Male</td>\n",
       "      <td>Married</td>\n",
       "      <td>Employed</td>\n",
       "      <td>Gujrat</td>\n",
       "      <td>No</td>\n",
       "      <td>4-6 hours</td>\n",
       "      <td>Thyroid</td>\n",
       "      <td>No</td>\n",
       "      <td>...</td>\n",
       "      <td>Fantasy</td>\n",
       "      <td>NaN</td>\n",
       "      <td>Calm</td>\n",
       "      <td>Not at all</td>\n",
       "      <td>Not at all</td>\n",
       "      <td>love to explore</td>\n",
       "      <td>Rarely</td>\n",
       "      <td>Alcohol</td>\n",
       "      <td>You will never have this day again, so make it...</td>\n",
       "      <td>5</td>\n",
       "    </tr>\n",
       "  </tbody>\n",
       "</table>\n",
       "<p>5 rows × 34 columns</p>\n",
       "</div>"
      ],
      "text/plain": [
       "              Name  Age Gender Marital status Profession Location  \\\n",
       "0     soumitra dey   22   Male      Unmarried    Student  kolkata   \n",
       "1  sayantan chanda   56   Male        Married   Employed      kol   \n",
       "2        Raj kumar   21   Male      Unmarried    Student  Kolkata   \n",
       "3     Rishab Joshi   23   Male      Unmarried    Student      Kol   \n",
       "4     Ramesh powar   28   Male        Married   Employed   Gujrat   \n",
       "\n",
       "  Living with Family Sleeping Duration  \\\n",
       "0                Yes         6-8 hours   \n",
       "1                Yes         6-8 hours   \n",
       "2                Yes         4-6 hours   \n",
       "3                Yes         6-8 hours   \n",
       "4                 No         4-6 hours   \n",
       "\n",
       "                         Under Medication  \\\n",
       "0                                    None   \n",
       "1  Blood Pressure, Hyper Tension, Thyroid   \n",
       "2                           Hyper Tension   \n",
       "3                                    None   \n",
       "4                                 Thyroid   \n",
       "\n",
       "  Did you ever tested positive in Covid-19  ...  \\\n",
       "0                                      NaN  ...   \n",
       "1                                       No  ...   \n",
       "2                                       No  ...   \n",
       "3                                       No  ...   \n",
       "4                                       No  ...   \n",
       "\n",
       "  Kind of movies you like to watch these days Your favourite Web Series  \\\n",
       "0                                     Fantasy              breaking bad   \n",
       "1                                      Sci-Fi                       NaN   \n",
       "2                                      Horror                       NaN   \n",
       "3                                      Comedy                       NaN   \n",
       "4                                     Fantasy                       NaN   \n",
       "\n",
       "  Type of Songs you like to listen  \\\n",
       "0                             Calm   \n",
       "1                             Calm   \n",
       "2                      Anxious/Sad   \n",
       "3                        Energetic   \n",
       "4                             Calm   \n",
       "\n",
       "  Not being able to stop or control worrying about yourself or your belongings  \\\n",
       "0                                         Not at all                             \n",
       "1                                         Not at all                             \n",
       "2                                                Yes                             \n",
       "3                                         Not at all                             \n",
       "4                                         Not at all                             \n",
       "\n",
       "  Get easily annoyed or irritable Interest or pleasure in Exploring things  \\\n",
       "0                      Not at all                          love to explore   \n",
       "1                      Not at all                          love to explore   \n",
       "2                             Yes                                   Little   \n",
       "3                      Not at all                          love to explore   \n",
       "4                      Not at all                          love to explore   \n",
       "\n",
       "  Tended to overreact on Situations What Addiction are you concerned about:-  \\\n",
       "0                         Sometimes                                     None   \n",
       "1                         Sometimes                                  Opioids   \n",
       "2                        Frequently                                  Tobacco   \n",
       "3                            Rarely                                  Tobacco   \n",
       "4                            Rarely                                  Alcohol   \n",
       "\n",
       "    Select a Quote which you like from the following  \\\n",
       "0  There are wounds that never show on the body t...   \n",
       "1  There are wounds that never show on the body t...   \n",
       "2  There are wounds that never show on the body t...   \n",
       "3                Being Happy never goes out of Style   \n",
       "4  You will never have this day again, so make it...   \n",
       "\n",
       "  Please rate your recent Mental Situation  \n",
       "0                                        4  \n",
       "1                                        2  \n",
       "2                                        2  \n",
       "3                                        4  \n",
       "4                                        5  \n",
       "\n",
       "[5 rows x 34 columns]"
      ]
     },
     "execution_count": 5,
     "metadata": {},
     "output_type": "execute_result"
    }
   ],
   "source": [
    "df.head(5)"
   ]
  },
  {
   "cell_type": "code",
   "execution_count": 6,
   "metadata": {},
   "outputs": [
    {
     "data": {
      "text/plain": [
       "Name                                                                              0\n",
       "Age                                                                               0\n",
       "Gender                                                                            0\n",
       "Marital status                                                                    0\n",
       "Profession                                                                        0\n",
       "Location                                                                          0\n",
       "Living with Family                                                                0\n",
       "Sleeping Duration                                                                 0\n",
       "Under Medication                                                                  1\n",
       "Did you ever tested positive in Covid-19                                          1\n",
       "Did you have/had depression problems                                              1\n",
       "If yes, did you still have depression?                                          152\n",
       "if yes, how long  you are in depression?                                        259\n",
       "Physical Activities                                                               0\n",
       "Amount of time spent in physical activity in a day                                0\n",
       "Regular Diet                                                                      0\n",
       "Hours you spent with your family                                                  0\n",
       "did you loose someone from your family for Covid-19?                              1\n",
       "Hours spent on your own per day                                                  25\n",
       "Are you a member of any club?                                                    34\n",
       "Hours you spent with friends in  a week                                           0\n",
       "Do you have Social Media Addiction                                                0\n",
       "News you like to Browse on Internet?                                              0\n",
       "Your Hobbies                                                                    191\n",
       "Kind of movies you like to watch these days                                       0\n",
       "Your favourite Web Series                                                       246\n",
       "Type of Songs you like to listen                                                  1\n",
       "Not being able to stop or control worrying about yourself or your belongings      0\n",
       "Get easily annoyed or irritable                                                   0\n",
       "Interest or pleasure in Exploring things                                          0\n",
       "Tended to overreact on Situations                                                 0\n",
       "What Addiction are you concerned about:-                                          0\n",
       "Select a Quote which you like from the following                                  0\n",
       "Please rate your recent Mental Situation                                          0\n",
       "dtype: int64"
      ]
     },
     "execution_count": 6,
     "metadata": {},
     "output_type": "execute_result"
    }
   ],
   "source": [
    "df.isnull().sum()"
   ]
  },
  {
   "cell_type": "markdown",
   "metadata": {},
   "source": [
    "## DATA CLEANING\n"
   ]
  },
  {
   "cell_type": "code",
   "execution_count": 7,
   "metadata": {},
   "outputs": [],
   "source": [
    "df['Under Medication']=df['Under Medication'].fillna('None')"
   ]
  },
  {
   "cell_type": "code",
   "execution_count": 8,
   "metadata": {},
   "outputs": [],
   "source": [
    "df['If yes, did you still have depression?']=df['If yes, did you still have depression?'].fillna('No')"
   ]
  },
  {
   "cell_type": "code",
   "execution_count": 9,
   "metadata": {},
   "outputs": [
    {
     "data": {
      "text/plain": [
       "0    more than 3 months\n",
       "dtype: object"
      ]
     },
     "execution_count": 9,
     "metadata": {},
     "output_type": "execute_result"
    }
   ],
   "source": [
    "df['if yes, how long  you are in depression?'].mode()"
   ]
  },
  {
   "cell_type": "code",
   "execution_count": 10,
   "metadata": {},
   "outputs": [],
   "source": [
    "df['if yes, how long  you are in depression?']=df['if yes, how long  you are in depression?'].fillna('more than 3 months')"
   ]
  },
  {
   "cell_type": "code",
   "execution_count": 11,
   "metadata": {},
   "outputs": [
    {
     "data": {
      "text/plain": [
       "array(['More than 2', '1 - 2', nan, 'Not at all', '0 - 1'], dtype=object)"
      ]
     },
     "execution_count": 11,
     "metadata": {},
     "output_type": "execute_result"
    }
   ],
   "source": [
    "df['Hours spent on your own per day'].unique()"
   ]
  },
  {
   "cell_type": "code",
   "execution_count": 12,
   "metadata": {},
   "outputs": [],
   "source": [
    "df['Hours spent on your own per day']=df['Hours spent on your own per day'].fillna('More than 2')"
   ]
  },
  {
   "cell_type": "code",
   "execution_count": 13,
   "metadata": {},
   "outputs": [],
   "source": [
    "df['Are you a member of any club?']=df['Are you a member of any club?'].fillna('no')"
   ]
  },
  {
   "cell_type": "code",
   "execution_count": 14,
   "metadata": {},
   "outputs": [
    {
     "data": {
      "text/plain": [
       "0    Calm\n",
       "dtype: object"
      ]
     },
     "execution_count": 14,
     "metadata": {},
     "output_type": "execute_result"
    }
   ],
   "source": [
    "df['Type of Songs you like to listen'].mode()"
   ]
  },
  {
   "cell_type": "code",
   "execution_count": 15,
   "metadata": {},
   "outputs": [],
   "source": [
    "df['Type of Songs you like to listen']=df['Type of Songs you like to listen'].fillna('Calm')"
   ]
  },
  {
   "cell_type": "code",
   "execution_count": 16,
   "metadata": {},
   "outputs": [],
   "source": [
    "df1=df.drop(columns='Your Hobbies',axis=1)"
   ]
  },
  {
   "cell_type": "code",
   "execution_count": 17,
   "metadata": {},
   "outputs": [],
   "source": [
    "df1=df1.drop(columns='Your favourite Web Series',axis=1)"
   ]
  },
  {
   "cell_type": "code",
   "execution_count": 18,
   "metadata": {},
   "outputs": [
    {
     "data": {
      "text/plain": [
       "Name                                                                            0\n",
       "Age                                                                             0\n",
       "Gender                                                                          0\n",
       "Marital status                                                                  0\n",
       "Profession                                                                      0\n",
       "Location                                                                        0\n",
       "Living with Family                                                              0\n",
       "Sleeping Duration                                                               0\n",
       "Under Medication                                                                0\n",
       "Did you ever tested positive in Covid-19                                        1\n",
       "Did you have/had depression problems                                            1\n",
       "If yes, did you still have depression?                                          0\n",
       "if yes, how long  you are in depression?                                        0\n",
       "Physical Activities                                                             0\n",
       "Amount of time spent in physical activity in a day                              0\n",
       "Regular Diet                                                                    0\n",
       "Hours you spent with your family                                                0\n",
       "did you loose someone from your family for Covid-19?                            1\n",
       "Hours spent on your own per day                                                 0\n",
       "Are you a member of any club?                                                   0\n",
       "Hours you spent with friends in  a week                                         0\n",
       "Do you have Social Media Addiction                                              0\n",
       "News you like to Browse on Internet?                                            0\n",
       "Kind of movies you like to watch these days                                     0\n",
       "Type of Songs you like to listen                                                0\n",
       "Not being able to stop or control worrying about yourself or your belongings    0\n",
       "Get easily annoyed or irritable                                                 0\n",
       "Interest or pleasure in Exploring things                                        0\n",
       "Tended to overreact on Situations                                               0\n",
       "What Addiction are you concerned about:-                                        0\n",
       "Select a Quote which you like from the following                                0\n",
       "Please rate your recent Mental Situation                                        0\n",
       "dtype: int64"
      ]
     },
     "execution_count": 18,
     "metadata": {},
     "output_type": "execute_result"
    }
   ],
   "source": [
    "df1.isna().sum()"
   ]
  },
  {
   "cell_type": "code",
   "execution_count": 19,
   "metadata": {},
   "outputs": [],
   "source": [
    "df1['Gender']=df1['Gender'].map({'Male':0,'Female':1})"
   ]
  },
  {
   "cell_type": "code",
   "execution_count": 20,
   "metadata": {},
   "outputs": [],
   "source": [
    "df1['Marital status']=df1['Marital status'].map({'Unmarried':0,'Married':1})"
   ]
  },
  {
   "cell_type": "code",
   "execution_count": 21,
   "metadata": {},
   "outputs": [
    {
     "data": {
      "text/plain": [
       "array(['Student', 'Employed', 'Unemployed'], dtype=object)"
      ]
     },
     "execution_count": 21,
     "metadata": {},
     "output_type": "execute_result"
    }
   ],
   "source": [
    "df1['Profession'].unique()"
   ]
  },
  {
   "cell_type": "code",
   "execution_count": 22,
   "metadata": {},
   "outputs": [],
   "source": [
    "df1['Profession']=df1['Profession'].map({'Student':0,'Employed':1,'Unemployed':2})"
   ]
  },
  {
   "cell_type": "code",
   "execution_count": 23,
   "metadata": {},
   "outputs": [],
   "source": [
    "df1['Living with Family']=df1['Living with Family'].map({'Yes':0,'No':1})"
   ]
  },
  {
   "cell_type": "code",
   "execution_count": 24,
   "metadata": {},
   "outputs": [],
   "source": [
    "df1['Sleeping Duration']=df1['Sleeping Duration'].map({'8-10 hours':0,'6-8 hours':1, '4-6 hours':2, '2-4 hours':3})"
   ]
  },
  {
   "cell_type": "code",
   "execution_count": 25,
   "metadata": {},
   "outputs": [
    {
     "data": {
      "text/plain": [
       "0    None\n",
       "dtype: object"
      ]
     },
     "execution_count": 25,
     "metadata": {},
     "output_type": "execute_result"
    }
   ],
   "source": [
    "df1['Under Medication'].mode()"
   ]
  },
  {
   "cell_type": "code",
   "execution_count": 26,
   "metadata": {},
   "outputs": [],
   "source": [
    "df1=df1.drop(columns='Under Medication',axis=1)"
   ]
  },
  {
   "cell_type": "code",
   "execution_count": 27,
   "metadata": {},
   "outputs": [
    {
     "data": {
      "text/plain": [
       "array([nan, 'No', 'Yes'], dtype=object)"
      ]
     },
     "execution_count": 27,
     "metadata": {},
     "output_type": "execute_result"
    }
   ],
   "source": [
    "df1['Did you ever tested positive in Covid-19'].unique()"
   ]
  },
  {
   "cell_type": "code",
   "execution_count": 28,
   "metadata": {},
   "outputs": [],
   "source": [
    "df1['Did you ever tested positive in Covid-19']=df1['Did you ever tested positive in Covid-19'].map({'Yes':1, 'No':0})"
   ]
  },
  {
   "cell_type": "code",
   "execution_count": 29,
   "metadata": {},
   "outputs": [],
   "source": [
    "df1['Did you have/had depression problems']=df1['Did you have/had depression problems'].map({'Yes':1, 'No':0})"
   ]
  },
  {
   "cell_type": "code",
   "execution_count": 30,
   "metadata": {},
   "outputs": [],
   "source": [
    "df1['If yes, did you still have depression?']=df1['If yes, did you still have depression?'].map({'No':1, 'Yes':0})"
   ]
  },
  {
   "cell_type": "code",
   "execution_count": 31,
   "metadata": {},
   "outputs": [],
   "source": [
    "df1['if yes, how long  you are in depression?']=df1['if yes, how long  you are in depression?'].map({'1- 3 month':0, 'more than 3 months':1, 'less then a week':2,'less than a month':3})"
   ]
  },
  {
   "cell_type": "code",
   "execution_count": 32,
   "metadata": {},
   "outputs": [],
   "source": [
    "df1['Amount of time spent in physical activity in a day']=df1['Amount of time spent in physical activity in a day'].map({'30min - 1hr':0, 'None':5, '1-2 hr':1, '2-3 hr':2, '3-4 hr':3, '4 + hr':4})"
   ]
  },
  {
   "cell_type": "code",
   "execution_count": 33,
   "metadata": {},
   "outputs": [],
   "source": [
    "df1['Regular Diet']=df1['Regular Diet'].map({'4 meals/day':1, '3 meals/day':2, 'Irregular':4, '2 meals/day':3, '5':0})"
   ]
  },
  {
   "cell_type": "code",
   "execution_count": 34,
   "metadata": {},
   "outputs": [],
   "source": [
    "df1['Hours you spent with your family']=df1['Hours you spent with your family'].map({'Frequently':0, 'Sometimes':1, 'Not at all':3, 'Once or Twice a week':2})"
   ]
  },
  {
   "cell_type": "code",
   "execution_count": 35,
   "metadata": {},
   "outputs": [],
   "source": [
    "df1['did you loose someone from your family for Covid-19?']=df1['did you loose someone from your family for Covid-19?'].map({'No':0,'Yes':1})"
   ]
  },
  {
   "cell_type": "code",
   "execution_count": 36,
   "metadata": {},
   "outputs": [],
   "source": [
    "df1['Hours spent on your own per day']=df1['Hours spent on your own per day'].map({'More than 2':0, 'Not at all':1, '1 - 2':2, '0 - 1':3})"
   ]
  },
  {
   "cell_type": "code",
   "execution_count": 37,
   "metadata": {},
   "outputs": [
    {
     "data": {
      "text/plain": [
       "array([0, 2, 1, 3], dtype=int64)"
      ]
     },
     "execution_count": 37,
     "metadata": {},
     "output_type": "execute_result"
    }
   ],
   "source": [
    "df1['Hours spent on your own per day'].unique()"
   ]
  },
  {
   "cell_type": "code",
   "execution_count": 38,
   "metadata": {},
   "outputs": [],
   "source": [
    "df1['Are you a member of any club?']=df1['Are you a member of any club?'].map({'No':0, 'Yes':1, 'no':0})"
   ]
  },
  {
   "cell_type": "code",
   "execution_count": 39,
   "metadata": {},
   "outputs": [],
   "source": [
    "df1['Hours you spent with friends in  a week']=df1['Hours you spent with friends in  a week'].map({'Frequently':0, 'Sometimes':1, 'Once or Twice in a week':2, 'Not at all':3})"
   ]
  },
  {
   "cell_type": "code",
   "execution_count": 40,
   "metadata": {},
   "outputs": [],
   "source": [
    "df1['Do you have Social Media Addiction']=df1['Do you have Social Media Addiction'].map({'Yes':0, 'Maybe':1, 'No':2})"
   ]
  },
  {
   "cell_type": "code",
   "execution_count": 41,
   "metadata": {},
   "outputs": [
    {
     "data": {
      "text/plain": [
       "array(['Fantasy', 'Sci-Fi', 'Horror', 'Comedy', 'Psychological Thriller',\n",
       "       'Motivational', 'All the above. No filter. Everything', 'Nothing',\n",
       "       'Bhojpuri', 'All but mostly comedy ', 'Romantic', 'All', 'none',\n",
       "       'Detective ', 'Drama', \"I don't like movies at all\",\n",
       "       'Anal sex videos,cosmic sex', 'None'], dtype=object)"
      ]
     },
     "execution_count": 41,
     "metadata": {},
     "output_type": "execute_result"
    }
   ],
   "source": [
    "df1['Kind of movies you like to watch these days'].unique()"
   ]
  },
  {
   "cell_type": "code",
   "execution_count": 42,
   "metadata": {},
   "outputs": [],
   "source": [
    "df1=df1.drop(columns='Kind of movies you like to watch these days',axis=1)"
   ]
  },
  {
   "cell_type": "code",
   "execution_count": 43,
   "metadata": {},
   "outputs": [],
   "source": [
    "df1=df1.drop(columns='Type of Songs you like to listen',axis=1)"
   ]
  },
  {
   "cell_type": "code",
   "execution_count": 44,
   "metadata": {},
   "outputs": [],
   "source": [
    "df1['Not being able to stop or control worrying about yourself or your belongings']=df1['Not being able to stop or control worrying about yourself or your belongings'].map({'Yes':0,'Not at all':1})"
   ]
  },
  {
   "cell_type": "code",
   "execution_count": 45,
   "metadata": {},
   "outputs": [],
   "source": [
    "df1['Get easily annoyed or irritable']=df1['Get easily annoyed or irritable'].map({'Yes':0, 'Not at all':1})"
   ]
  },
  {
   "cell_type": "code",
   "execution_count": 46,
   "metadata": {},
   "outputs": [],
   "source": [
    "df1['Tended to overreact on Situations']=df1['Tended to overreact on Situations'].map({'Sometimes':0, 'Frequently':1, 'Rarely':2, 'Always':3})"
   ]
  },
  {
   "cell_type": "code",
   "execution_count": 47,
   "metadata": {},
   "outputs": [],
   "source": [
    "df1['Interest or pleasure in Exploring things']=df1['Interest or pleasure in Exploring things'].map({'love to explore':2, 'Little':1, 'Not at all':0})"
   ]
  },
  {
   "cell_type": "code",
   "execution_count": 48,
   "metadata": {},
   "outputs": [
    {
     "data": {
      "text/plain": [
       "array(['None', 'Opioids', 'Tobacco', 'Alcohol',\n",
       "       'Social media. If its considered as one.', 'Cannabis', 'Phone',\n",
       "       'Junk Food', 'using phone', 'Social media',\n",
       "       'Addicted to having no addiction', 'women', 'Meye'], dtype=object)"
      ]
     },
     "execution_count": 48,
     "metadata": {},
     "output_type": "execute_result"
    }
   ],
   "source": [
    "df1['What Addiction are you concerned about:-'].unique()"
   ]
  },
  {
   "cell_type": "code",
   "execution_count": 49,
   "metadata": {},
   "outputs": [],
   "source": [
    "df1['What Addiction are you concerned about:-']=df1['What Addiction are you concerned about:-'].map({'None':6, 'Alcohol':5, 'Tobacco':4, 'Phone':3, 'Junk Food':2, 'using phone':1,\n",
    "       'Social media':0,'Social media. If its considered as one.':0,'Addicted to having no addiction':6,'women':5,'Meye':5,'Opioids':7,'Cannabis':8,'using phone':3})"
   ]
  },
  {
   "cell_type": "code",
   "execution_count": 50,
   "metadata": {},
   "outputs": [],
   "source": [
    "df1['Select a Quote which you like from the following']=df1['Select a Quote which you like from the following'].map({\n",
    "    'Be healthy and take care of yourself, but be happy with beautiful things that makes you, You.':0,\n",
    "       'Even nicest people have their limits':1,\n",
    "       'You will never have this day again, so make it Count.':2,\n",
    "       'There are wounds that never show on the body that are deeper and more hurtful than anything that bleeds.':3,\n",
    "       'When irritated I have learnt to be silent.':4,\n",
    "       'Tears come from the heart not from the brain.':5,\n",
    "       'Being Happy never goes out of Style':6,\n",
    "       \"I really  want to talk to someone about my thought and feeling, but I can't Express.\":7})"
   ]
  },
  {
   "cell_type": "code",
   "execution_count": 51,
   "metadata": {},
   "outputs": [
    {
     "data": {
      "text/plain": [
       "array([3, 6, 2, 5, 0, 1, 4, 7], dtype=int64)"
      ]
     },
     "execution_count": 51,
     "metadata": {},
     "output_type": "execute_result"
    }
   ],
   "source": [
    "df1['Select a Quote which you like from the following'].unique()"
   ]
  },
  {
   "cell_type": "code",
   "execution_count": 52,
   "metadata": {},
   "outputs": [],
   "source": [
    "df1=df1.drop(columns='Name',axis=1)"
   ]
  },
  {
   "cell_type": "code",
   "execution_count": 53,
   "metadata": {},
   "outputs": [],
   "source": [
    "df1=df1.drop(columns='Location',axis=1)"
   ]
  },
  {
   "cell_type": "code",
   "execution_count": 54,
   "metadata": {},
   "outputs": [],
   "source": [
    "df1=df1.drop(columns='News you like to Browse on Internet?',axis=1)"
   ]
  },
  {
   "cell_type": "code",
   "execution_count": 55,
   "metadata": {},
   "outputs": [],
   "source": [
    "df1=df1.drop(columns='Physical Activities',axis=1)"
   ]
  },
  {
   "cell_type": "code",
   "execution_count": 56,
   "metadata": {},
   "outputs": [
    {
     "data": {
      "text/html": [
       "<div>\n",
       "<style scoped>\n",
       "    .dataframe tbody tr th:only-of-type {\n",
       "        vertical-align: middle;\n",
       "    }\n",
       "\n",
       "    .dataframe tbody tr th {\n",
       "        vertical-align: top;\n",
       "    }\n",
       "\n",
       "    .dataframe thead th {\n",
       "        text-align: right;\n",
       "    }\n",
       "</style>\n",
       "<table border=\"1\" class=\"dataframe\">\n",
       "  <thead>\n",
       "    <tr style=\"text-align: right;\">\n",
       "      <th></th>\n",
       "      <th>Age</th>\n",
       "      <th>Gender</th>\n",
       "      <th>Marital status</th>\n",
       "      <th>Profession</th>\n",
       "      <th>Living with Family</th>\n",
       "      <th>Sleeping Duration</th>\n",
       "      <th>Did you ever tested positive in Covid-19</th>\n",
       "      <th>Did you have/had depression problems</th>\n",
       "      <th>If yes, did you still have depression?</th>\n",
       "      <th>if yes, how long  you are in depression?</th>\n",
       "      <th>...</th>\n",
       "      <th>Are you a member of any club?</th>\n",
       "      <th>Hours you spent with friends in  a week</th>\n",
       "      <th>Do you have Social Media Addiction</th>\n",
       "      <th>Not being able to stop or control worrying about yourself or your belongings</th>\n",
       "      <th>Get easily annoyed or irritable</th>\n",
       "      <th>Interest or pleasure in Exploring things</th>\n",
       "      <th>Tended to overreact on Situations</th>\n",
       "      <th>What Addiction are you concerned about:-</th>\n",
       "      <th>Select a Quote which you like from the following</th>\n",
       "      <th>Please rate your recent Mental Situation</th>\n",
       "    </tr>\n",
       "  </thead>\n",
       "  <tbody>\n",
       "    <tr>\n",
       "      <td>0</td>\n",
       "      <td>22</td>\n",
       "      <td>0.0</td>\n",
       "      <td>0</td>\n",
       "      <td>0</td>\n",
       "      <td>0</td>\n",
       "      <td>1.0</td>\n",
       "      <td>NaN</td>\n",
       "      <td>NaN</td>\n",
       "      <td>1</td>\n",
       "      <td>1</td>\n",
       "      <td>...</td>\n",
       "      <td>1</td>\n",
       "      <td>3</td>\n",
       "      <td>2</td>\n",
       "      <td>1</td>\n",
       "      <td>1</td>\n",
       "      <td>2</td>\n",
       "      <td>0</td>\n",
       "      <td>6</td>\n",
       "      <td>3</td>\n",
       "      <td>4</td>\n",
       "    </tr>\n",
       "    <tr>\n",
       "      <td>1</td>\n",
       "      <td>56</td>\n",
       "      <td>0.0</td>\n",
       "      <td>1</td>\n",
       "      <td>1</td>\n",
       "      <td>0</td>\n",
       "      <td>1.0</td>\n",
       "      <td>0.0</td>\n",
       "      <td>0.0</td>\n",
       "      <td>1</td>\n",
       "      <td>1</td>\n",
       "      <td>...</td>\n",
       "      <td>0</td>\n",
       "      <td>1</td>\n",
       "      <td>2</td>\n",
       "      <td>1</td>\n",
       "      <td>1</td>\n",
       "      <td>2</td>\n",
       "      <td>0</td>\n",
       "      <td>7</td>\n",
       "      <td>3</td>\n",
       "      <td>2</td>\n",
       "    </tr>\n",
       "    <tr>\n",
       "      <td>2</td>\n",
       "      <td>21</td>\n",
       "      <td>0.0</td>\n",
       "      <td>0</td>\n",
       "      <td>0</td>\n",
       "      <td>0</td>\n",
       "      <td>2.0</td>\n",
       "      <td>0.0</td>\n",
       "      <td>1.0</td>\n",
       "      <td>1</td>\n",
       "      <td>1</td>\n",
       "      <td>...</td>\n",
       "      <td>0</td>\n",
       "      <td>3</td>\n",
       "      <td>0</td>\n",
       "      <td>0</td>\n",
       "      <td>0</td>\n",
       "      <td>1</td>\n",
       "      <td>1</td>\n",
       "      <td>4</td>\n",
       "      <td>3</td>\n",
       "      <td>2</td>\n",
       "    </tr>\n",
       "    <tr>\n",
       "      <td>3</td>\n",
       "      <td>23</td>\n",
       "      <td>0.0</td>\n",
       "      <td>0</td>\n",
       "      <td>0</td>\n",
       "      <td>0</td>\n",
       "      <td>1.0</td>\n",
       "      <td>0.0</td>\n",
       "      <td>0.0</td>\n",
       "      <td>1</td>\n",
       "      <td>1</td>\n",
       "      <td>...</td>\n",
       "      <td>0</td>\n",
       "      <td>2</td>\n",
       "      <td>2</td>\n",
       "      <td>1</td>\n",
       "      <td>1</td>\n",
       "      <td>2</td>\n",
       "      <td>2</td>\n",
       "      <td>4</td>\n",
       "      <td>6</td>\n",
       "      <td>4</td>\n",
       "    </tr>\n",
       "    <tr>\n",
       "      <td>4</td>\n",
       "      <td>28</td>\n",
       "      <td>0.0</td>\n",
       "      <td>1</td>\n",
       "      <td>1</td>\n",
       "      <td>1</td>\n",
       "      <td>2.0</td>\n",
       "      <td>0.0</td>\n",
       "      <td>1.0</td>\n",
       "      <td>1</td>\n",
       "      <td>1</td>\n",
       "      <td>...</td>\n",
       "      <td>0</td>\n",
       "      <td>2</td>\n",
       "      <td>2</td>\n",
       "      <td>1</td>\n",
       "      <td>1</td>\n",
       "      <td>2</td>\n",
       "      <td>2</td>\n",
       "      <td>5</td>\n",
       "      <td>2</td>\n",
       "      <td>5</td>\n",
       "    </tr>\n",
       "  </tbody>\n",
       "</table>\n",
       "<p>5 rows × 25 columns</p>\n",
       "</div>"
      ],
      "text/plain": [
       "   Age  Gender  Marital status  Profession  Living with Family  \\\n",
       "0   22     0.0               0           0                   0   \n",
       "1   56     0.0               1           1                   0   \n",
       "2   21     0.0               0           0                   0   \n",
       "3   23     0.0               0           0                   0   \n",
       "4   28     0.0               1           1                   1   \n",
       "\n",
       "   Sleeping Duration  Did you ever tested positive in Covid-19  \\\n",
       "0                1.0                                       NaN   \n",
       "1                1.0                                       0.0   \n",
       "2                2.0                                       0.0   \n",
       "3                1.0                                       0.0   \n",
       "4                2.0                                       0.0   \n",
       "\n",
       "   Did you have/had depression problems  \\\n",
       "0                                   NaN   \n",
       "1                                   0.0   \n",
       "2                                   1.0   \n",
       "3                                   0.0   \n",
       "4                                   1.0   \n",
       "\n",
       "   If yes, did you still have depression?  \\\n",
       "0                                       1   \n",
       "1                                       1   \n",
       "2                                       1   \n",
       "3                                       1   \n",
       "4                                       1   \n",
       "\n",
       "   if yes, how long  you are in depression?  ...  \\\n",
       "0                                         1  ...   \n",
       "1                                         1  ...   \n",
       "2                                         1  ...   \n",
       "3                                         1  ...   \n",
       "4                                         1  ...   \n",
       "\n",
       "   Are you a member of any club?  Hours you spent with friends in  a week  \\\n",
       "0                              1                                        3   \n",
       "1                              0                                        1   \n",
       "2                              0                                        3   \n",
       "3                              0                                        2   \n",
       "4                              0                                        2   \n",
       "\n",
       "   Do you have Social Media Addiction  \\\n",
       "0                                   2   \n",
       "1                                   2   \n",
       "2                                   0   \n",
       "3                                   2   \n",
       "4                                   2   \n",
       "\n",
       "   Not being able to stop or control worrying about yourself or your belongings  \\\n",
       "0                                                  1                              \n",
       "1                                                  1                              \n",
       "2                                                  0                              \n",
       "3                                                  1                              \n",
       "4                                                  1                              \n",
       "\n",
       "   Get easily annoyed or irritable  Interest or pleasure in Exploring things  \\\n",
       "0                                1                                         2   \n",
       "1                                1                                         2   \n",
       "2                                0                                         1   \n",
       "3                                1                                         2   \n",
       "4                                1                                         2   \n",
       "\n",
       "   Tended to overreact on Situations  \\\n",
       "0                                  0   \n",
       "1                                  0   \n",
       "2                                  1   \n",
       "3                                  2   \n",
       "4                                  2   \n",
       "\n",
       "   What Addiction are you concerned about:-  \\\n",
       "0                                         6   \n",
       "1                                         7   \n",
       "2                                         4   \n",
       "3                                         4   \n",
       "4                                         5   \n",
       "\n",
       "   Select a Quote which you like from the following  \\\n",
       "0                                                 3   \n",
       "1                                                 3   \n",
       "2                                                 3   \n",
       "3                                                 6   \n",
       "4                                                 2   \n",
       "\n",
       "   Please rate your recent Mental Situation  \n",
       "0                                         4  \n",
       "1                                         2  \n",
       "2                                         2  \n",
       "3                                         4  \n",
       "4                                         5  \n",
       "\n",
       "[5 rows x 25 columns]"
      ]
     },
     "execution_count": 56,
     "metadata": {},
     "output_type": "execute_result"
    }
   ],
   "source": [
    "df1.head(5)"
   ]
  },
  {
   "cell_type": "code",
   "execution_count": 57,
   "metadata": {},
   "outputs": [],
   "source": [
    "df1['Did you ever tested positive in Covid-19']=df1['Did you ever tested positive in Covid-19'].fillna(0)"
   ]
  },
  {
   "cell_type": "code",
   "execution_count": 58,
   "metadata": {},
   "outputs": [],
   "source": [
    "df1['Did you have/had depression problems']=df1['Did you have/had depression problems'].fillna(0)"
   ]
  },
  {
   "cell_type": "code",
   "execution_count": 64,
   "metadata": {},
   "outputs": [
    {
     "data": {
      "text/plain": [
       "Age                                                                             0\n",
       "Gender                                                                          0\n",
       "Marital status                                                                  0\n",
       "Profession                                                                      0\n",
       "Living with Family                                                              0\n",
       "Sleeping Duration                                                               0\n",
       "Did you ever tested positive in Covid-19                                        0\n",
       "Did you have/had depression problems                                            0\n",
       "If yes, did you still have depression?                                          0\n",
       "if yes, how long  you are in depression?                                        0\n",
       "Amount of time spent in physical activity in a day                              0\n",
       "Regular Diet                                                                    0\n",
       "Hours you spent with your family                                                0\n",
       "did you loose someone from your family for Covid-19?                            0\n",
       "Hours spent on your own per day                                                 0\n",
       "Are you a member of any club?                                                   0\n",
       "Hours you spent with friends in  a week                                         0\n",
       "Do you have Social Media Addiction                                              0\n",
       "Not being able to stop or control worrying about yourself or your belongings    0\n",
       "Get easily annoyed or irritable                                                 0\n",
       "Interest or pleasure in Exploring things                                        0\n",
       "Tended to overreact on Situations                                               0\n",
       "What Addiction are you concerned about:-                                        0\n",
       "Select a Quote which you like from the following                                0\n",
       "Please rate your recent Mental Situation                                        0\n",
       "dtype: int64"
      ]
     },
     "execution_count": 64,
     "metadata": {},
     "output_type": "execute_result"
    }
   ],
   "source": [
    "df1.isna().sum()"
   ]
  },
  {
   "cell_type": "code",
   "execution_count": 60,
   "metadata": {},
   "outputs": [],
   "source": [
    "df1['Sleeping Duration']=df1['Sleeping Duration'].fillna(1)"
   ]
  },
  {
   "cell_type": "code",
   "execution_count": 61,
   "metadata": {},
   "outputs": [],
   "source": [
    "df1['Regular Diet']=df1['Regular Diet'].fillna(2)"
   ]
  },
  {
   "cell_type": "code",
   "execution_count": 62,
   "metadata": {},
   "outputs": [],
   "source": [
    "df1['did you loose someone from your family for Covid-19?']=df1['did you loose someone from your family for Covid-19?'].fillna(0)"
   ]
  },
  {
   "cell_type": "code",
   "execution_count": 63,
   "metadata": {},
   "outputs": [],
   "source": [
    "df1['Gender']=df1['Gender'].fillna(0)"
   ]
  },
  {
   "cell_type": "markdown",
   "metadata": {},
   "source": [
    "# Data  Analysis"
   ]
  },
  {
   "cell_type": "code",
   "execution_count": 65,
   "metadata": {},
   "outputs": [],
   "source": [
    "import matplotlib.pyplot as plt\n",
    "import seaborn as sns"
   ]
  },
  {
   "cell_type": "code",
   "execution_count": 66,
   "metadata": {},
   "outputs": [
    {
     "data": {
      "text/plain": [
       "<seaborn.axisgrid.FacetGrid at 0x16af036cc48>"
      ]
     },
     "execution_count": 66,
     "metadata": {},
     "output_type": "execute_result"
    },
    {
     "data": {
      "image/png": "[encoded data removed]",
      "text/plain": [
       "<Figure size 360x360 with 1 Axes>"
      ]
     },
     "metadata": {
      "needs_background": "light"
     },
     "output_type": "display_data"
    }
   ],
   "source": [
    "sns.catplot(x='Please rate your recent Mental Situation',data=df1,kind='count')"
   ]
  },
  {
   "cell_type": "code",
   "execution_count": 67,
   "metadata": {},
   "outputs": [
    {
     "data": {
      "text/plain": [
       "<matplotlib.axes._subplots.AxesSubplot at 0x16af0378388>"
      ]
     },
     "execution_count": 67,
     "metadata": {},
     "output_type": "execute_result"
    },
    {
     "data": {
      "image/png": "[encoded data removed]",
      "text/plain": [
       "<Figure size 360x360 with 1 Axes>"
      ]
     },
     "metadata": {
      "needs_background": "light"
     },
     "output_type": "display_data"
    }
   ],
   "source": [
    "#age vs ratings\n",
    "plot=plt.figure(figsize=(5,5))\n",
    "sns.barplot(x='Please rate your recent Mental Situation',y='Age',data=df1)"
   ]
  },
  {
   "cell_type": "code",
   "execution_count": 68,
   "metadata": {},
   "outputs": [
    {
     "data": {
      "text/plain": [
       "<matplotlib.axes._subplots.AxesSubplot at 0x16aef96bf48>"
      ]
     },
     "execution_count": 68,
     "metadata": {},
     "output_type": "execute_result"
    },
    {
     "data": {
      "image/png": "[encoded data removed]",
      "text/plain": [
       "<Figure size 360x360 with 1 Axes>"
      ]
     },
     "metadata": {
      "needs_background": "light"
     },
     "output_type": "display_data"
    }
   ],
   "source": [
    "#Did you have/had depression problems vs ratings\n",
    "plot=plt.figure(figsize=(5,5))\n",
    "sns.barplot(y='Please rate your recent Mental Situation',x='Did you have/had depression problems',data=df1)"
   ]
  },
  {
   "cell_type": "code",
   "execution_count": 69,
   "metadata": {},
   "outputs": [
    {
     "data": {
      "text/plain": [
       "<matplotlib.axes._subplots.AxesSubplot at 0x16af171e788>"
      ]
     },
     "execution_count": 69,
     "metadata": {},
     "output_type": "execute_result"
    },
    {
     "data": {
      "image/png": "[encoded data removed]",
      "text/plain": [
       "<Figure size 360x360 with 1 Axes>"
      ]
     },
     "metadata": {
      "needs_background": "light"
     },
     "output_type": "display_data"
    }
   ],
   "source": [
    "#covid vs ratings\n",
    "plot=plt.figure(figsize=(5,5))\n",
    "sns.barplot(x='Please rate your recent Mental Situation',y='Did you ever tested positive in Covid-19',data=df1)"
   ]
  },
  {
   "cell_type": "markdown",
   "metadata": {},
   "source": [
    "Correlation"
   ]
  },
  {
   "cell_type": "code",
   "execution_count": 70,
   "metadata": {},
   "outputs": [],
   "source": [
    "correlation=df1.corr()"
   ]
  },
  {
   "cell_type": "code",
   "execution_count": 71,
   "metadata": {},
   "outputs": [
    {
     "data": {
      "text/plain": [
       "<matplotlib.axes._subplots.AxesSubplot at 0x16af1807948>"
      ]
     },
     "execution_count": 71,
     "metadata": {},
     "output_type": "execute_result"
    },
    {
     "data": {
      "image/png": "[encoded data removed]",
      "text/plain": [
       "<Figure size 4320x720 with 2 Axes>"
      ]
     },
     "metadata": {
      "needs_background": "light"
     },
     "output_type": "display_data"
    }
   ],
   "source": [
    "plt.figure(figsize=(60,10))\n",
    "sns.heatmap(correlation,cbar=True,square=True,fmt='.1f',annot=True,annot_kws={'size':8},cmap='Reds')"
   ]
  },
  {
   "cell_type": "code",
   "execution_count": 72,
   "metadata": {},
   "outputs": [],
   "source": [
    "df1=df1.drop(columns='Marital status',axis=1)\n",
    "df1=df1.drop(columns='Profession',axis=1)"
   ]
  },
  {
   "cell_type": "markdown",
   "metadata": {},
   "source": [
    "# Split"
   ]
  },
  {
   "cell_type": "code",
   "execution_count": 80,
   "metadata": {},
   "outputs": [
    {
     "name": "stdout",
     "output_type": "stream",
     "text": [
      "0      1\n",
      "1      0\n",
      "2      0\n",
      "3      1\n",
      "4      1\n",
      "      ..\n",
      "385    1\n",
      "386    1\n",
      "387    1\n",
      "388    1\n",
      "389    1\n",
      "Name: Please rate your recent Mental Situation, Length: 390, dtype: int64\n"
     ]
    }
   ],
   "source": [
    "Y = df1['Please rate your recent Mental Situation'].apply(lambda y_value : 1 if y_value>=3 else 0 )\n",
    "print(Y)"
   ]
  },
  {
   "cell_type": "code",
   "execution_count": 81,
   "metadata": {},
   "outputs": [],
   "source": [
    "from sklearn.model_selection import train_test_split"
   ]
  },
  {
   "cell_type": "code",
   "execution_count": 82,
   "metadata": {},
   "outputs": [],
   "source": [
    "X_train,X_test,y_train,y_test=train_test_split(df1.drop(['Please rate your recent Mental Situation'],axis='columns'),Y,random_state=42)"
   ]
  },
  {
   "cell_type": "code",
   "execution_count": 96,
   "metadata": {},
   "outputs": [],
   "source": [
    "from sklearn.ensemble import RandomForestClassifier\n",
    "from sklearn.linear_model import LogisticRegression\n",
    "from sklearn.tree import DecisionTreeClassifier\n",
    "from sklearn.svm import SVC"
   ]
  },
  {
   "cell_type": "code",
   "execution_count": 97,
   "metadata": {},
   "outputs": [],
   "source": [
    "m1=RandomForestClassifier()\n",
    "m2=LogisticRegression()\n",
    "m3=DecisionTreeClassifier()\n",
    "m4=SVC() "
   ]
  },
  {
   "cell_type": "code",
   "execution_count": 99,
   "metadata": {},
   "outputs": [],
   "source": [
    "from sklearn.ensemble import VotingClassifier"
   ]
  },
  {
   "cell_type": "code",
   "execution_count": 100,
   "metadata": {},
   "outputs": [],
   "source": [
    "model=VotingClassifier([('rfc',m1),('lr',m2),('dtc',m3),('svm',m4)\n",
    "                       ]\n",
    "                      )"
   ]
  },
  {
   "cell_type": "code",
   "execution_count": 104,
   "metadata": {},
   "outputs": [
    {
     "name": "stderr",
     "output_type": "stream",
     "text": [
      "D:\\Python\\lib\\site-packages\\sklearn\\ensemble\\forest.py:245: FutureWarning: The default value of n_estimators will change from 10 in version 0.20 to 100 in 0.22.\n",
      "  \"10 in version 0.20 to 100 in 0.22.\", FutureWarning)\n",
      "D:\\Python\\lib\\site-packages\\sklearn\\linear_model\\logistic.py:432: FutureWarning: Default solver will be changed to 'lbfgs' in 0.22. Specify a solver to silence this warning.\n",
      "  FutureWarning)\n",
      "D:\\Python\\lib\\site-packages\\sklearn\\svm\\base.py:193: FutureWarning: The default value of gamma will change from 'auto' to 'scale' in version 0.22 to account better for unscaled features. Set gamma explicitly to 'auto' or 'scale' to avoid this warning.\n",
      "  \"avoid this warning.\", FutureWarning)\n"
     ]
    },
    {
     "data": {
      "text/plain": [
       "VotingClassifier(estimators=[('rfc',\n",
       "                              RandomForestClassifier(bootstrap=True,\n",
       "                                                     class_weight=None,\n",
       "                                                     criterion='gini',\n",
       "                                                     max_depth=None,\n",
       "                                                     max_features='auto',\n",
       "                                                     max_leaf_nodes=None,\n",
       "                                                     min_impurity_decrease=0.0,\n",
       "                                                     min_impurity_split=None,\n",
       "                                                     min_samples_leaf=1,\n",
       "                                                     min_samples_split=2,\n",
       "                                                     min_weight_fraction_leaf=0.0,\n",
       "                                                     n_estimators='warn',\n",
       "                                                     n_jobs=None,\n",
       "                                                     oob_score=False,\n",
       "                                                     random_state=None,\n",
       "                                                     ve...\n",
       "                                                     min_weight_fraction_leaf=0.0,\n",
       "                                                     presort=False,\n",
       "                                                     random_state=None,\n",
       "                                                     splitter='best')),\n",
       "                             ('svm',\n",
       "                              SVC(C=1.0, cache_size=200, class_weight=None,\n",
       "                                  coef0=0.0, decision_function_shape='ovr',\n",
       "                                  degree=3, gamma='auto_deprecated',\n",
       "                                  kernel='rbf', max_iter=-1, probability=False,\n",
       "                                  random_state=None, shrinking=True, tol=0.001,\n",
       "                                  verbose=False))],\n",
       "                 flatten_transform=True, n_jobs=None, voting='hard',\n",
       "                 weights=None)"
      ]
     },
     "execution_count": 104,
     "metadata": {},
     "output_type": "execute_result"
    }
   ],
   "source": [
    "model.fit(X_train,y_train)"
   ]
  },
  {
   "cell_type": "code",
   "execution_count": 105,
   "metadata": {},
   "outputs": [
    {
     "data": {
      "text/plain": [
       "86.73469387755102"
      ]
     },
     "execution_count": 105,
     "metadata": {},
     "output_type": "execute_result"
    }
   ],
   "source": [
    "model.score(X_test,y_test)*100"
   ]
  },
  {
   "cell_type": "code",
   "execution_count": null,
   "metadata": {},
   "outputs": [],
   "source": []
  },
  {
   "cell_type": "code",
   "execution_count": 91,
   "metadata": {},
   "outputs": [
    {
     "name": "stderr",
     "output_type": "stream",
     "text": [
      "D:\\Python\\lib\\site-packages\\sklearn\\linear_model\\logistic.py:432: FutureWarning: Default solver will be changed to 'lbfgs' in 0.22. Specify a solver to silence this warning.\n",
      "  FutureWarning)\n"
     ]
    },
    {
     "data": {
      "text/plain": [
       "LogisticRegression(C=1.0, class_weight=None, dual=False, fit_intercept=True,\n",
       "                   intercept_scaling=1, l1_ratio=None, max_iter=100,\n",
       "                   multi_class='warn', n_jobs=None, penalty='l2',\n",
       "                   random_state=None, solver='warn', tol=0.0001, verbose=0,\n",
       "                   warm_start=False)"
      ]
     },
     "execution_count": 91,
     "metadata": {},
     "output_type": "execute_result"
    }
   ],
   "source": [
    "from sklearn.linear_model import LogisticRegression\n",
    "model3=LogisticRegression()\n",
    "model3.fit(X_train,y_train)"
   ]
  },
  {
   "cell_type": "code",
   "execution_count": 92,
   "metadata": {},
   "outputs": [
    {
     "data": {
      "text/plain": [
       "0.8571428571428571"
      ]
     },
     "execution_count": 92,
     "metadata": {},
     "output_type": "execute_result"
    }
   ],
   "source": [
    "model3.score(X_test,y_test)"
   ]
  },
  {
   "cell_type": "code",
   "execution_count": null,
   "metadata": {},
   "outputs": [],
   "source": []
  },
  {
   "cell_type": "code",
   "execution_count": null,
   "metadata": {},
   "outputs": [],
   "source": []
  },
  {
   "cell_type": "code",
   "execution_count": 223,
   "metadata": {},
   "outputs": [],
   "source": [
    "df2=pd.get_dummies(df1,columns=['Please rate your recent Mental Situation'])"
   ]
  },
  {
   "cell_type": "code",
   "execution_count": 224,
   "metadata": {},
   "outputs": [
    {
     "data": {
      "text/html": [
       "<div>\n",
       "<style scoped>\n",
       "    .dataframe tbody tr th:only-of-type {\n",
       "        vertical-align: middle;\n",
       "    }\n",
       "\n",
       "    .dataframe tbody tr th {\n",
       "        vertical-align: top;\n",
       "    }\n",
       "\n",
       "    .dataframe thead th {\n",
       "        text-align: right;\n",
       "    }\n",
       "</style>\n",
       "<table border=\"1\" class=\"dataframe\">\n",
       "  <thead>\n",
       "    <tr style=\"text-align: right;\">\n",
       "      <th></th>\n",
       "      <th>Age</th>\n",
       "      <th>Gender</th>\n",
       "      <th>Living with Family</th>\n",
       "      <th>Sleeping Duration</th>\n",
       "      <th>Did you ever tested positive in Covid-19</th>\n",
       "      <th>Did you have/had depression problems</th>\n",
       "      <th>If yes, did you still have depression?</th>\n",
       "      <th>if yes, how long  you are in depression?</th>\n",
       "      <th>Amount of time spent in physical activity in a day</th>\n",
       "      <th>Regular Diet</th>\n",
       "      <th>...</th>\n",
       "      <th>Get easily annoyed or irritable</th>\n",
       "      <th>Interest or pleasure in Exploring things</th>\n",
       "      <th>Tended to overreact on Situations</th>\n",
       "      <th>What Addiction are you concerned about:-</th>\n",
       "      <th>Select a Quote which you like from the following</th>\n",
       "      <th>Please rate your recent Mental Situation_1</th>\n",
       "      <th>Please rate your recent Mental Situation_2</th>\n",
       "      <th>Please rate your recent Mental Situation_3</th>\n",
       "      <th>Please rate your recent Mental Situation_4</th>\n",
       "      <th>Please rate your recent Mental Situation_5</th>\n",
       "    </tr>\n",
       "  </thead>\n",
       "  <tbody>\n",
       "    <tr>\n",
       "      <td>0</td>\n",
       "      <td>22</td>\n",
       "      <td>0.0</td>\n",
       "      <td>0</td>\n",
       "      <td>1.0</td>\n",
       "      <td>0.0</td>\n",
       "      <td>0.0</td>\n",
       "      <td>1</td>\n",
       "      <td>1</td>\n",
       "      <td>1</td>\n",
       "      <td>2.0</td>\n",
       "      <td>...</td>\n",
       "      <td>1</td>\n",
       "      <td>2</td>\n",
       "      <td>0</td>\n",
       "      <td>6</td>\n",
       "      <td>3</td>\n",
       "      <td>0</td>\n",
       "      <td>0</td>\n",
       "      <td>0</td>\n",
       "      <td>1</td>\n",
       "      <td>0</td>\n",
       "    </tr>\n",
       "    <tr>\n",
       "      <td>1</td>\n",
       "      <td>56</td>\n",
       "      <td>0.0</td>\n",
       "      <td>0</td>\n",
       "      <td>1.0</td>\n",
       "      <td>0.0</td>\n",
       "      <td>0.0</td>\n",
       "      <td>1</td>\n",
       "      <td>1</td>\n",
       "      <td>0</td>\n",
       "      <td>1.0</td>\n",
       "      <td>...</td>\n",
       "      <td>1</td>\n",
       "      <td>2</td>\n",
       "      <td>0</td>\n",
       "      <td>7</td>\n",
       "      <td>3</td>\n",
       "      <td>0</td>\n",
       "      <td>1</td>\n",
       "      <td>0</td>\n",
       "      <td>0</td>\n",
       "      <td>0</td>\n",
       "    </tr>\n",
       "    <tr>\n",
       "      <td>2</td>\n",
       "      <td>21</td>\n",
       "      <td>0.0</td>\n",
       "      <td>0</td>\n",
       "      <td>2.0</td>\n",
       "      <td>0.0</td>\n",
       "      <td>1.0</td>\n",
       "      <td>1</td>\n",
       "      <td>1</td>\n",
       "      <td>5</td>\n",
       "      <td>3.0</td>\n",
       "      <td>...</td>\n",
       "      <td>0</td>\n",
       "      <td>1</td>\n",
       "      <td>1</td>\n",
       "      <td>4</td>\n",
       "      <td>3</td>\n",
       "      <td>0</td>\n",
       "      <td>1</td>\n",
       "      <td>0</td>\n",
       "      <td>0</td>\n",
       "      <td>0</td>\n",
       "    </tr>\n",
       "    <tr>\n",
       "      <td>3</td>\n",
       "      <td>23</td>\n",
       "      <td>0.0</td>\n",
       "      <td>0</td>\n",
       "      <td>1.0</td>\n",
       "      <td>0.0</td>\n",
       "      <td>0.0</td>\n",
       "      <td>1</td>\n",
       "      <td>1</td>\n",
       "      <td>1</td>\n",
       "      <td>1.0</td>\n",
       "      <td>...</td>\n",
       "      <td>1</td>\n",
       "      <td>2</td>\n",
       "      <td>2</td>\n",
       "      <td>4</td>\n",
       "      <td>6</td>\n",
       "      <td>0</td>\n",
       "      <td>0</td>\n",
       "      <td>0</td>\n",
       "      <td>1</td>\n",
       "      <td>0</td>\n",
       "    </tr>\n",
       "    <tr>\n",
       "      <td>4</td>\n",
       "      <td>28</td>\n",
       "      <td>0.0</td>\n",
       "      <td>1</td>\n",
       "      <td>2.0</td>\n",
       "      <td>0.0</td>\n",
       "      <td>1.0</td>\n",
       "      <td>1</td>\n",
       "      <td>1</td>\n",
       "      <td>5</td>\n",
       "      <td>2.0</td>\n",
       "      <td>...</td>\n",
       "      <td>1</td>\n",
       "      <td>2</td>\n",
       "      <td>2</td>\n",
       "      <td>5</td>\n",
       "      <td>2</td>\n",
       "      <td>0</td>\n",
       "      <td>0</td>\n",
       "      <td>0</td>\n",
       "      <td>0</td>\n",
       "      <td>1</td>\n",
       "    </tr>\n",
       "  </tbody>\n",
       "</table>\n",
       "<p>5 rows × 27 columns</p>\n",
       "</div>"
      ],
      "text/plain": [
       "   Age  Gender  Living with Family  Sleeping Duration  \\\n",
       "0   22     0.0                   0                1.0   \n",
       "1   56     0.0                   0                1.0   \n",
       "2   21     0.0                   0                2.0   \n",
       "3   23     0.0                   0                1.0   \n",
       "4   28     0.0                   1                2.0   \n",
       "\n",
       "   Did you ever tested positive in Covid-19  \\\n",
       "0                                       0.0   \n",
       "1                                       0.0   \n",
       "2                                       0.0   \n",
       "3                                       0.0   \n",
       "4                                       0.0   \n",
       "\n",
       "   Did you have/had depression problems  \\\n",
       "0                                   0.0   \n",
       "1                                   0.0   \n",
       "2                                   1.0   \n",
       "3                                   0.0   \n",
       "4                                   1.0   \n",
       "\n",
       "   If yes, did you still have depression?  \\\n",
       "0                                       1   \n",
       "1                                       1   \n",
       "2                                       1   \n",
       "3                                       1   \n",
       "4                                       1   \n",
       "\n",
       "   if yes, how long  you are in depression?  \\\n",
       "0                                         1   \n",
       "1                                         1   \n",
       "2                                         1   \n",
       "3                                         1   \n",
       "4                                         1   \n",
       "\n",
       "   Amount of time spent in physical activity in a day  Regular Diet  ...  \\\n",
       "0                                                  1            2.0  ...   \n",
       "1                                                  0            1.0  ...   \n",
       "2                                                  5            3.0  ...   \n",
       "3                                                  1            1.0  ...   \n",
       "4                                                  5            2.0  ...   \n",
       "\n",
       "   Get easily annoyed or irritable  Interest or pleasure in Exploring things  \\\n",
       "0                                1                                         2   \n",
       "1                                1                                         2   \n",
       "2                                0                                         1   \n",
       "3                                1                                         2   \n",
       "4                                1                                         2   \n",
       "\n",
       "   Tended to overreact on Situations  \\\n",
       "0                                  0   \n",
       "1                                  0   \n",
       "2                                  1   \n",
       "3                                  2   \n",
       "4                                  2   \n",
       "\n",
       "   What Addiction are you concerned about:-  \\\n",
       "0                                         6   \n",
       "1                                         7   \n",
       "2                                         4   \n",
       "3                                         4   \n",
       "4                                         5   \n",
       "\n",
       "   Select a Quote which you like from the following  \\\n",
       "0                                                 3   \n",
       "1                                                 3   \n",
       "2                                                 3   \n",
       "3                                                 6   \n",
       "4                                                 2   \n",
       "\n",
       "   Please rate your recent Mental Situation_1  \\\n",
       "0                                           0   \n",
       "1                                           0   \n",
       "2                                           0   \n",
       "3                                           0   \n",
       "4                                           0   \n",
       "\n",
       "   Please rate your recent Mental Situation_2  \\\n",
       "0                                           0   \n",
       "1                                           1   \n",
       "2                                           1   \n",
       "3                                           0   \n",
       "4                                           0   \n",
       "\n",
       "   Please rate your recent Mental Situation_3  \\\n",
       "0                                           0   \n",
       "1                                           0   \n",
       "2                                           0   \n",
       "3                                           0   \n",
       "4                                           0   \n",
       "\n",
       "   Please rate your recent Mental Situation_4  \\\n",
       "0                                           1   \n",
       "1                                           0   \n",
       "2                                           0   \n",
       "3                                           1   \n",
       "4                                           0   \n",
       "\n",
       "   Please rate your recent Mental Situation_5  \n",
       "0                                           0  \n",
       "1                                           0  \n",
       "2                                           0  \n",
       "3                                           0  \n",
       "4                                           1  \n",
       "\n",
       "[5 rows x 27 columns]"
      ]
     },
     "execution_count": 224,
     "metadata": {},
     "output_type": "execute_result"
    }
   ],
   "source": [
    "df2.head()"
   ]
  },
  {
   "cell_type": "code",
   "execution_count": 225,
   "metadata": {},
   "outputs": [],
   "source": [
    "Y1=df2['Please rate your recent Mental Situation_1'].values\n",
    "Y2=df2['Please rate your recent Mental Situation_2'].values\n",
    "Y3=df2['Please rate your recent Mental Situation_3'].values\n",
    "Y4=df2['Please rate your recent Mental Situation_4'].values\n",
    "Y5=df2['Please rate your recent Mental Situation_5'].values"
   ]
  },
  {
   "cell_type": "code",
   "execution_count": 226,
   "metadata": {},
   "outputs": [],
   "source": [
    "X_train1,X_test1,y_train1,y_test1=train_test_split(df2.drop(['Please rate your recent Mental Situation_1','Please rate your recent Mental Situation_2','Please rate your recent Mental Situation_3','Please rate your recent Mental Situation_4','Please rate your recent Mental Situation_5'],axis='columns'),Y1,random_state=42)"
   ]
  },
  {
   "cell_type": "code",
   "execution_count": 227,
   "metadata": {},
   "outputs": [
    {
     "name": "stderr",
     "output_type": "stream",
     "text": [
      "D:\\Python\\lib\\site-packages\\sklearn\\linear_model\\logistic.py:432: FutureWarning: Default solver will be changed to 'lbfgs' in 0.22. Specify a solver to silence this warning.\n",
      "  FutureWarning)\n"
     ]
    },
    {
     "data": {
      "text/plain": [
       "LogisticRegression(C=1.0, class_weight=None, dual=False, fit_intercept=True,\n",
       "                   intercept_scaling=1, l1_ratio=None, max_iter=100,\n",
       "                   multi_class='warn', n_jobs=None, penalty='l2',\n",
       "                   random_state=None, solver='warn', tol=0.0001, verbose=0,\n",
       "                   warm_start=False)"
      ]
     },
     "execution_count": 227,
     "metadata": {},
     "output_type": "execute_result"
    }
   ],
   "source": [
    "from sklearn.linear_model import LogisticRegression\n",
    "model5=LogisticRegression()\n",
    "model5.fit(X_train1,y_train1)"
   ]
  },
  {
   "cell_type": "code",
   "execution_count": 242,
   "metadata": {},
   "outputs": [],
   "source": [
    "a1=model5.score(X_test1,y_test1)"
   ]
  },
  {
   "cell_type": "code",
   "execution_count": 229,
   "metadata": {},
   "outputs": [
    {
     "name": "stdout",
     "output_type": "stream",
     "text": [
      "[0 0 0 0 0 0 0 1 0 0 0 0 0 0 0 0 0 0 1 0 0 0 0 0 0 0 0 0 0 1 0 0 1 0 0 0 0\n",
      " 0 0 0 0 0 0 0 0 0 1 0 0 0 1 0 0 0 0 0 0 0 1 1 0 0 0 0 0 0 1 0 0 0 0 0 1 0\n",
      " 0 0 0 0 0 0 0 0 0 0 0 0 0 0 1 1 0 0 0 0 0 0 0 0]\n"
     ]
    }
   ],
   "source": [
    "print(y_test1)"
   ]
  },
  {
   "cell_type": "code",
   "execution_count": 230,
   "metadata": {},
   "outputs": [
    {
     "name": "stderr",
     "output_type": "stream",
     "text": [
      "D:\\Python\\lib\\site-packages\\sklearn\\linear_model\\logistic.py:432: FutureWarning: Default solver will be changed to 'lbfgs' in 0.22. Specify a solver to silence this warning.\n",
      "  FutureWarning)\n"
     ]
    },
    {
     "data": {
      "text/plain": [
       "LogisticRegression(C=1.0, class_weight=None, dual=False, fit_intercept=True,\n",
       "                   intercept_scaling=1, l1_ratio=None, max_iter=100,\n",
       "                   multi_class='warn', n_jobs=None, penalty='l2',\n",
       "                   random_state=None, solver='warn', tol=0.0001, verbose=0,\n",
       "                   warm_start=False)"
      ]
     },
     "execution_count": 230,
     "metadata": {},
     "output_type": "execute_result"
    }
   ],
   "source": [
    "X_train2,X_test2,y_train2,y_test2=train_test_split(df2.drop(['Please rate your recent Mental Situation_1','Please rate your recent Mental Situation_2','Please rate your recent Mental Situation_3','Please rate your recent Mental Situation_4','Please rate your recent Mental Situation_5'],axis='columns'),Y2,random_state=42)\n",
    "from sklearn.linear_model import LogisticRegression\n",
    "model6=LogisticRegression()\n",
    "model6.fit(X_train2,y_train2)"
   ]
  },
  {
   "cell_type": "code",
   "execution_count": 243,
   "metadata": {},
   "outputs": [],
   "source": [
    "a2=model6.score(X_test2,y_test2)"
   ]
  },
  {
   "cell_type": "code",
   "execution_count": 232,
   "metadata": {},
   "outputs": [
    {
     "name": "stderr",
     "output_type": "stream",
     "text": [
      "D:\\Python\\lib\\site-packages\\sklearn\\linear_model\\logistic.py:432: FutureWarning: Default solver will be changed to 'lbfgs' in 0.22. Specify a solver to silence this warning.\n",
      "  FutureWarning)\n"
     ]
    },
    {
     "data": {
      "text/plain": [
       "LogisticRegression(C=1.0, class_weight=None, dual=False, fit_intercept=True,\n",
       "                   intercept_scaling=1, l1_ratio=None, max_iter=100,\n",
       "                   multi_class='warn', n_jobs=None, penalty='l2',\n",
       "                   random_state=None, solver='warn', tol=0.0001, verbose=0,\n",
       "                   warm_start=False)"
      ]
     },
     "execution_count": 232,
     "metadata": {},
     "output_type": "execute_result"
    }
   ],
   "source": [
    "X_train5,X_test5,y_train5,y_test5=train_test_split(df2.drop(['Please rate your recent Mental Situation_1','Please rate your recent Mental Situation_2','Please rate your recent Mental Situation_3','Please rate your recent Mental Situation_4','Please rate your recent Mental Situation_5'],axis='columns'),Y5,random_state=42)\n",
    "from sklearn.linear_model import LogisticRegression\n",
    "model9=LogisticRegression()\n",
    "model9.fit(X_train5,y_train5)"
   ]
  },
  {
   "cell_type": "code",
   "execution_count": 247,
   "metadata": {},
   "outputs": [],
   "source": [
    "a5=model9.score(X_test5,y_test5)"
   ]
  },
  {
   "cell_type": "code",
   "execution_count": 235,
   "metadata": {},
   "outputs": [
    {
     "name": "stderr",
     "output_type": "stream",
     "text": [
      "D:\\Python\\lib\\site-packages\\sklearn\\linear_model\\logistic.py:432: FutureWarning: Default solver will be changed to 'lbfgs' in 0.22. Specify a solver to silence this warning.\n",
      "  FutureWarning)\n"
     ]
    },
    {
     "data": {
      "text/plain": [
       "LogisticRegression(C=1.0, class_weight=None, dual=False, fit_intercept=True,\n",
       "                   intercept_scaling=1, l1_ratio=None, max_iter=100,\n",
       "                   multi_class='warn', n_jobs=None, penalty='l2',\n",
       "                   random_state=None, solver='warn', tol=0.0001, verbose=0,\n",
       "                   warm_start=False)"
      ]
     },
     "execution_count": 235,
     "metadata": {},
     "output_type": "execute_result"
    }
   ],
   "source": [
    "X_train3,X_test3,y_train3,y_test3=train_test_split(df2.drop(['Please rate your recent Mental Situation_1','Please rate your recent Mental Situation_2','Please rate your recent Mental Situation_3','Please rate your recent Mental Situation_4','Please rate your recent Mental Situation_5'],axis='columns'),Y3,random_state=42)\n",
    "from sklearn.linear_model import LogisticRegression\n",
    "model7=LogisticRegression()\n",
    "model7.fit(X_train3,y_train3)"
   ]
  },
  {
   "cell_type": "code",
   "execution_count": 245,
   "metadata": {},
   "outputs": [],
   "source": [
    "a3=model7.score(X_test3,y_test3)"
   ]
  },
  {
   "cell_type": "code",
   "execution_count": 237,
   "metadata": {},
   "outputs": [
    {
     "name": "stderr",
     "output_type": "stream",
     "text": [
      "D:\\Python\\lib\\site-packages\\sklearn\\linear_model\\logistic.py:432: FutureWarning: Default solver will be changed to 'lbfgs' in 0.22. Specify a solver to silence this warning.\n",
      "  FutureWarning)\n"
     ]
    },
    {
     "data": {
      "text/plain": [
       "LogisticRegression(C=1.0, class_weight=None, dual=False, fit_intercept=True,\n",
       "                   intercept_scaling=1, l1_ratio=None, max_iter=100,\n",
       "                   multi_class='warn', n_jobs=None, penalty='l2',\n",
       "                   random_state=None, solver='warn', tol=0.0001, verbose=0,\n",
       "                   warm_start=False)"
      ]
     },
     "execution_count": 237,
     "metadata": {},
     "output_type": "execute_result"
    }
   ],
   "source": [
    "X_train4,X_test4,y_train4,y_test4=train_test_split(df2.drop(['Please rate your recent Mental Situation_1','Please rate your recent Mental Situation_2','Please rate your recent Mental Situation_3','Please rate your recent Mental Situation_4','Please rate your recent Mental Situation_5'],axis='columns'),Y4,random_state=42)\n",
    "from sklearn.linear_model import LogisticRegression\n",
    "model8=LogisticRegression()\n",
    "model8.fit(X_train4,y_train4)"
   ]
  },
  {
   "cell_type": "code",
   "execution_count": 246,
   "metadata": {},
   "outputs": [],
   "source": [
    "a4=model8.score(X_test4,y_test4)"
   ]
  },
  {
   "cell_type": "code",
   "execution_count": 268,
   "metadata": {},
   "outputs": [],
   "source": [
    "my_list={'rating1':a1,'rating2':a2,'rating3':a3,'rating4':a4,'rating5':a5}"
   ]
  },
  {
   "cell_type": "code",
   "execution_count": 269,
   "metadata": {},
   "outputs": [
    {
     "data": {
      "image/png": "[encoded data removed]",
      "text/plain": [
       "<Figure size 720x360 with 1 Axes>"
      ]
     },
     "metadata": {
      "needs_background": "light"
     },
     "output_type": "display_data"
    }
   ],
   "source": [
    "fig=plt.figure(figsize=(10,5))\n",
    "plt.bar(list(my_list.keys()),list(my_list.values()),color='red',width=0.5)\n",
    "plt.xlabel('Ratings')\n",
    "plt.ylabel('Accuracy')\n",
    "plt.title('Logistic Regression accuracy')\n",
    "plt.show()"
   ]
  },
  {
   "cell_type": "code",
   "execution_count": 270,
   "metadata": {},
   "outputs": [],
   "source": [
    "my_list={'logregrating1':a1,'logregrating2':a2,'logregrating3':a3,'logregrating4':a4,'logregrating5':a5,'randomforest':a6,'DecisionTree':a7}"
   ]
  },
  {
   "cell_type": "code",
   "execution_count": 271,
   "metadata": {},
   "outputs": [
    {
     "data": {
      "image/png": "[encoded data removed]",
      "text/plain": [
       "<Figure size 720x360 with 1 Axes>"
      ]
     },
     "metadata": {
      "needs_background": "light"
     },
     "output_type": "display_data"
    }
   ],
   "source": [
    "fig=plt.figure(figsize=(10,5))\n",
    "plt.bar(list(my_list.keys()),list(my_list.values()),color='Blue',width=0.8)\n",
    "plt.xlabel('Algorithms')\n",
    "plt.ylabel('Accuracy')\n",
    "plt.title('Ratings accuracy')\n",
    "plt.show()"
   ]
  },
  {
   "cell_type": "code",
   "execution_count": null,
   "metadata": {},
   "outputs": [],
   "source": []
  }
 ],
 "metadata": {
  "kernelspec": {
   "display_name": "Python 3",
   "language": "python",
   "name": "python3"
  },
  "language_info": {
   "codemirror_mode": {
    "name": "ipython",
    "version": 3
   },
   "file_extension": ".py",
   "mimetype": "text/x-python",
   "name": "python",
   "nbconvert_exporter": "python",
   "pygments_lexer": "ipython3",
   "version": "3.7.4"
  }
 },
 "nbformat": 4,
 "nbformat_minor": 2
}
