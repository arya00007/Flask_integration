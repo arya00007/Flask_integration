{
 "cells": [
  {
   "cell_type": "code",
   "execution_count": 1,
   "metadata": {},
   "outputs": [],
   "source": [
    "import pandas as pd"
   ]
  },
  {
   "cell_type": "code",
   "execution_count": 2,
   "metadata": {},
   "outputs": [
    {
     "data": {
      "text/plain": [
       "'C:\\\\Users\\\\User\\\\Untitled Folder 1'"
      ]
     },
     "execution_count": 2,
     "metadata": {},
     "output_type": "execute_result"
    }
   ],
   "source": [
    "pwd"
   ]
  },
  {
   "cell_type": "code",
   "execution_count": 3,
   "metadata": {},
   "outputs": [],
   "source": [
    "df=pd.read_csv('Recommendation system Dummy (Responses) - merge sheet.csv')"
   ]
  },
  {
   "cell_type": "code",
   "execution_count": 4,
   "metadata": {},
   "outputs": [
    {
     "data": {
      "text/plain": [
       "(390, 34)"
      ]
     },
     "execution_count": 4,
     "metadata": {},
     "output_type": "execute_result"
    }
   ],
   "source": [
    "df.shape"
   ]
  },
  {
   "cell_type": "code",
   "execution_count": 5,
   "metadata": {},
   "outputs": [
    {
     "data": {
      "text/html": [
       "<div>\n",
       "<style scoped>\n",
       "    .dataframe tbody tr th:only-of-type {\n",
       "        vertical-align: middle;\n",
       "    }\n",
       "\n",
       "    .dataframe tbody tr th {\n",
       "        vertical-align: top;\n",
       "    }\n",
       "\n",
       "    .dataframe thead th {\n",
       "        text-align: right;\n",
       "    }\n",
       "</style>\n",
       "<table border=\"1\" class=\"dataframe\">\n",
       "  <thead>\n",
       "    <tr style=\"text-align: right;\">\n",
       "      <th></th>\n",
       "      <th>Name</th>\n",
       "      <th>Age</th>\n",
       "      <th>Gender</th>\n",
       "      <th>Marital status</th>\n",
       "      <th>Profession</th>\n",
       "      <th>Location</th>\n",
       "      <th>Living with Family</th>\n",
       "      <th>Sleeping Duration</th>\n",
       "      <th>Under Medication</th>\n",
       "      <th>Did you ever tested positive in Covid-19</th>\n",
       "      <th>...</th>\n",
       "      <th>Kind of movies you like to watch these days</th>\n",
       "      <th>Your favourite Web Series</th>\n",
       "      <th>Type of Songs you like to listen</th>\n",
       "      <th>Not being able to stop or control worrying about yourself or your belongings</th>\n",
       "      <th>Get easily annoyed or irritable</th>\n",
       "      <th>Interest or pleasure in Exploring things</th>\n",
       "      <th>Tended to overreact on Situations</th>\n",
       "      <th>What Addiction are you concerned about:-</th>\n",
       "      <th>Select a Quote which you like from the following</th>\n",
       "      <th>Please rate your recent Mental Situation</th>\n",
       "    </tr>\n",
       "  </thead>\n",
       "  <tbody>\n",
       "    <tr>\n",
       "      <th>0</th>\n",
       "      <td>soumitra dey</td>\n",
       "      <td>22</td>\n",
       "      <td>Male</td>\n",
       "      <td>Unmarried</td>\n",
       "      <td>Student</td>\n",
       "      <td>kolkata</td>\n",
       "      <td>Yes</td>\n",
       "      <td>6-8 hours</td>\n",
       "      <td>None</td>\n",
       "      <td>NaN</td>\n",
       "      <td>...</td>\n",
       "      <td>Fantasy</td>\n",
       "      <td>breaking bad</td>\n",
       "      <td>Calm</td>\n",
       "      <td>Not at all</td>\n",
       "      <td>Not at all</td>\n",
       "      <td>love to explore</td>\n",
       "      <td>Sometimes</td>\n",
       "      <td>None</td>\n",
       "      <td>There are wounds that never show on the body t...</td>\n",
       "      <td>4</td>\n",
       "    </tr>\n",
       "    <tr>\n",
       "      <th>1</th>\n",
       "      <td>sayantan chanda</td>\n",
       "      <td>56</td>\n",
       "      <td>Male</td>\n",
       "      <td>Married</td>\n",
       "      <td>Employed</td>\n",
       "      <td>kol</td>\n",
       "      <td>Yes</td>\n",
       "      <td>6-8 hours</td>\n",
       "      <td>Blood Pressure, Hyper Tension, Thyroid</td>\n",
       "      <td>No</td>\n",
       "      <td>...</td>\n",
       "      <td>Sci-Fi</td>\n",
       "      <td>NaN</td>\n",
       "      <td>Calm</td>\n",
       "      <td>Not at all</td>\n",
       "      <td>Not at all</td>\n",
       "      <td>love to explore</td>\n",
       "      <td>Sometimes</td>\n",
       "      <td>Opioids</td>\n",
       "      <td>There are wounds that never show on the body t...</td>\n",
       "      <td>2</td>\n",
       "    </tr>\n",
       "    <tr>\n",
       "      <th>2</th>\n",
       "      <td>Raj kumar</td>\n",
       "      <td>21</td>\n",
       "      <td>Male</td>\n",
       "      <td>Unmarried</td>\n",
       "      <td>Student</td>\n",
       "      <td>Kolkata</td>\n",
       "      <td>Yes</td>\n",
       "      <td>4-6 hours</td>\n",
       "      <td>Hyper Tension</td>\n",
       "      <td>No</td>\n",
       "      <td>...</td>\n",
       "      <td>Horror</td>\n",
       "      <td>NaN</td>\n",
       "      <td>Anxious/Sad</td>\n",
       "      <td>Yes</td>\n",
       "      <td>Yes</td>\n",
       "      <td>Little</td>\n",
       "      <td>Frequently</td>\n",
       "      <td>Tobacco</td>\n",
       "      <td>There are wounds that never show on the body t...</td>\n",
       "      <td>2</td>\n",
       "    </tr>\n",
       "    <tr>\n",
       "      <th>3</th>\n",
       "      <td>Rishab Joshi</td>\n",
       "      <td>23</td>\n",
       "      <td>Male</td>\n",
       "      <td>Unmarried</td>\n",
       "      <td>Student</td>\n",
       "      <td>Kol</td>\n",
       "      <td>Yes</td>\n",
       "      <td>6-8 hours</td>\n",
       "      <td>None</td>\n",
       "      <td>No</td>\n",
       "      <td>...</td>\n",
       "      <td>Comedy</td>\n",
       "      <td>NaN</td>\n",
       "      <td>Energetic</td>\n",
       "      <td>Not at all</td>\n",
       "      <td>Not at all</td>\n",
       "      <td>love to explore</td>\n",
       "      <td>Rarely</td>\n",
       "      <td>Tobacco</td>\n",
       "      <td>Being Happy never goes out of Style</td>\n",
       "      <td>4</td>\n",
       "    </tr>\n",
       "    <tr>\n",
       "      <th>4</th>\n",
       "      <td>Ramesh powar</td>\n",
       "      <td>28</td>\n",
       "      <td>Male</td>\n",
       "      <td>Married</td>\n",
       "      <td>Employed</td>\n",
       "      <td>Gujrat</td>\n",
       "      <td>No</td>\n",
       "      <td>4-6 hours</td>\n",
       "      <td>Thyroid</td>\n",
       "      <td>No</td>\n",
       "      <td>...</td>\n",
       "      <td>Fantasy</td>\n",
       "      <td>NaN</td>\n",
       "      <td>Calm</td>\n",
       "      <td>Not at all</td>\n",
       "      <td>Not at all</td>\n",
       "      <td>love to explore</td>\n",
       "      <td>Rarely</td>\n",
       "      <td>Alcohol</td>\n",
       "      <td>You will never have this day again, so make it...</td>\n",
       "      <td>5</td>\n",
       "    </tr>\n",
       "  </tbody>\n",
       "</table>\n",
       "<p>5 rows × 34 columns</p>\n",
       "</div>"
      ],
      "text/plain": [
       "              Name  Age Gender Marital status Profession Location  \\\n",
       "0     soumitra dey   22   Male      Unmarried    Student  kolkata   \n",
       "1  sayantan chanda   56   Male        Married   Employed      kol   \n",
       "2        Raj kumar   21   Male      Unmarried    Student  Kolkata   \n",
       "3     Rishab Joshi   23   Male      Unmarried    Student      Kol   \n",
       "4     Ramesh powar   28   Male        Married   Employed   Gujrat   \n",
       "\n",
       "  Living with Family Sleeping Duration  \\\n",
       "0                Yes         6-8 hours   \n",
       "1                Yes         6-8 hours   \n",
       "2                Yes         4-6 hours   \n",
       "3                Yes         6-8 hours   \n",
       "4                 No         4-6 hours   \n",
       "\n",
       "                         Under Medication  \\\n",
       "0                                    None   \n",
       "1  Blood Pressure, Hyper Tension, Thyroid   \n",
       "2                           Hyper Tension   \n",
       "3                                    None   \n",
       "4                                 Thyroid   \n",
       "\n",
       "  Did you ever tested positive in Covid-19  ...  \\\n",
       "0                                      NaN  ...   \n",
       "1                                       No  ...   \n",
       "2                                       No  ...   \n",
       "3                                       No  ...   \n",
       "4                                       No  ...   \n",
       "\n",
       "  Kind of movies you like to watch these days Your favourite Web Series  \\\n",
       "0                                     Fantasy              breaking bad   \n",
       "1                                      Sci-Fi                       NaN   \n",
       "2                                      Horror                       NaN   \n",
       "3                                      Comedy                       NaN   \n",
       "4                                     Fantasy                       NaN   \n",
       "\n",
       "  Type of Songs you like to listen  \\\n",
       "0                             Calm   \n",
       "1                             Calm   \n",
       "2                      Anxious/Sad   \n",
       "3                        Energetic   \n",
       "4                             Calm   \n",
       "\n",
       "  Not being able to stop or control worrying about yourself or your belongings  \\\n",
       "0                                         Not at all                             \n",
       "1                                         Not at all                             \n",
       "2                                                Yes                             \n",
       "3                                         Not at all                             \n",
       "4                                         Not at all                             \n",
       "\n",
       "  Get easily annoyed or irritable Interest or pleasure in Exploring things  \\\n",
       "0                      Not at all                          love to explore   \n",
       "1                      Not at all                          love to explore   \n",
       "2                             Yes                                   Little   \n",
       "3                      Not at all                          love to explore   \n",
       "4                      Not at all                          love to explore   \n",
       "\n",
       "  Tended to overreact on Situations What Addiction are you concerned about:-  \\\n",
       "0                         Sometimes                                     None   \n",
       "1                         Sometimes                                  Opioids   \n",
       "2                        Frequently                                  Tobacco   \n",
       "3                            Rarely                                  Tobacco   \n",
       "4                            Rarely                                  Alcohol   \n",
       "\n",
       "    Select a Quote which you like from the following  \\\n",
       "0  There are wounds that never show on the body t...   \n",
       "1  There are wounds that never show on the body t...   \n",
       "2  There are wounds that never show on the body t...   \n",
       "3                Being Happy never goes out of Style   \n",
       "4  You will never have this day again, so make it...   \n",
       "\n",
       "  Please rate your recent Mental Situation  \n",
       "0                                        4  \n",
       "1                                        2  \n",
       "2                                        2  \n",
       "3                                        4  \n",
       "4                                        5  \n",
       "\n",
       "[5 rows x 34 columns]"
      ]
     },
     "execution_count": 5,
     "metadata": {},
     "output_type": "execute_result"
    }
   ],
   "source": [
    "df.head()"
   ]
  },
  {
   "cell_type": "code",
   "execution_count": 6,
   "metadata": {},
   "outputs": [
    {
     "data": {
      "text/plain": [
       "Name                                                                              0\n",
       "Age                                                                               0\n",
       "Gender                                                                            0\n",
       "Marital status                                                                    0\n",
       "Profession                                                                        0\n",
       "Location                                                                          0\n",
       "Living with Family                                                                0\n",
       "Sleeping Duration                                                                 0\n",
       "Under Medication                                                                  1\n",
       "Did you ever tested positive in Covid-19                                          1\n",
       "Did you have/had depression problems                                              1\n",
       "If yes, did you still have depression?                                          152\n",
       "if yes, how long  you are in depression?                                        259\n",
       "Physical Activities                                                               0\n",
       "Amount of time spent in physical activity in a day                                0\n",
       "Regular Diet                                                                      0\n",
       "Hours you spent with your family                                                  0\n",
       "did you loose someone from your family for Covid-19?                              1\n",
       "Hours spent on your own per day                                                  25\n",
       "Are you a member of any club?                                                    34\n",
       "Hours you spent with friends in  a week                                           0\n",
       "Do you have Social Media Addiction                                                0\n",
       "News you like to Browse on Internet?                                              0\n",
       "Your Hobbies                                                                    191\n",
       "Kind of movies you like to watch these days                                       0\n",
       "Your favourite Web Series                                                       246\n",
       "Type of Songs you like to listen                                                  1\n",
       "Not being able to stop or control worrying about yourself or your belongings      0\n",
       "Get easily annoyed or irritable                                                   0\n",
       "Interest or pleasure in Exploring things                                          0\n",
       "Tended to overreact on Situations                                                 0\n",
       "What Addiction are you concerned about:-                                          0\n",
       "Select a Quote which you like from the following                                  0\n",
       "Please rate your recent Mental Situation                                          0\n",
       "dtype: int64"
      ]
     },
     "execution_count": 6,
     "metadata": {},
     "output_type": "execute_result"
    }
   ],
   "source": [
    "df.isnull().sum()"
   ]
  },
  {
   "cell_type": "markdown",
   "metadata": {},
   "source": [
    "## DATA CLEANING\n"
   ]
  },
  {
   "cell_type": "code",
   "execution_count": 7,
   "metadata": {},
   "outputs": [],
   "source": [
    "df['Under Medication']=df['Under Medication'].fillna('None')"
   ]
  },
  {
   "cell_type": "code",
   "execution_count": 8,
   "metadata": {},
   "outputs": [],
   "source": [
    "df['If yes, did you still have depression?']=df['If yes, did you still have depression?'].fillna('No')"
   ]
  },
  {
   "cell_type": "code",
   "execution_count": 9,
   "metadata": {},
   "outputs": [
    {
     "data": {
      "text/plain": [
       "0    more than 3 months\n",
       "dtype: object"
      ]
     },
     "execution_count": 9,
     "metadata": {},
     "output_type": "execute_result"
    }
   ],
   "source": [
    "df['if yes, how long  you are in depression?'].mode()"
   ]
  },
  {
   "cell_type": "code",
   "execution_count": 10,
   "metadata": {},
   "outputs": [],
   "source": [
    "df['if yes, how long  you are in depression?']=df['if yes, how long  you are in depression?'].fillna('more than 3 months')"
   ]
  },
  {
   "cell_type": "code",
   "execution_count": 11,
   "metadata": {},
   "outputs": [
    {
     "data": {
      "text/plain": [
       "array(['More than 2', '1 - 2', nan, 'Not at all', '0 - 1'], dtype=object)"
      ]
     },
     "execution_count": 11,
     "metadata": {},
     "output_type": "execute_result"
    }
   ],
   "source": [
    "df['Hours spent on your own per day'].unique()"
   ]
  },
  {
   "cell_type": "code",
   "execution_count": 12,
   "metadata": {},
   "outputs": [],
   "source": [
    "df['Hours spent on your own per day']=df['Hours spent on your own per day'].fillna('More than 2')"
   ]
  },
  {
   "cell_type": "code",
   "execution_count": 13,
   "metadata": {},
   "outputs": [],
   "source": [
    "df['Are you a member of any club?']=df['Are you a member of any club?'].fillna('no')"
   ]
  },
  {
   "cell_type": "code",
   "execution_count": 14,
   "metadata": {},
   "outputs": [
    {
     "data": {
      "text/plain": [
       "0    Calm\n",
       "dtype: object"
      ]
     },
     "execution_count": 14,
     "metadata": {},
     "output_type": "execute_result"
    }
   ],
   "source": [
    "df['Type of Songs you like to listen'].mode()"
   ]
  },
  {
   "cell_type": "code",
   "execution_count": 15,
   "metadata": {},
   "outputs": [],
   "source": [
    "df['Type of Songs you like to listen']=df['Type of Songs you like to listen'].fillna('Calm')"
   ]
  },
  {
   "cell_type": "code",
   "execution_count": 16,
   "metadata": {},
   "outputs": [],
   "source": [
    "df1=df.drop(columns='Your Hobbies',axis=1)"
   ]
  },
  {
   "cell_type": "code",
   "execution_count": 17,
   "metadata": {},
   "outputs": [],
   "source": [
    "df1=df1.drop(columns='Your favourite Web Series',axis=1)"
   ]
  },
  {
   "cell_type": "code",
   "execution_count": 18,
   "metadata": {},
   "outputs": [
    {
     "data": {
      "text/plain": [
       "Name                                                                            0\n",
       "Age                                                                             0\n",
       "Gender                                                                          0\n",
       "Marital status                                                                  0\n",
       "Profession                                                                      0\n",
       "Location                                                                        0\n",
       "Living with Family                                                              0\n",
       "Sleeping Duration                                                               0\n",
       "Under Medication                                                                0\n",
       "Did you ever tested positive in Covid-19                                        1\n",
       "Did you have/had depression problems                                            1\n",
       "If yes, did you still have depression?                                          0\n",
       "if yes, how long  you are in depression?                                        0\n",
       "Physical Activities                                                             0\n",
       "Amount of time spent in physical activity in a day                              0\n",
       "Regular Diet                                                                    0\n",
       "Hours you spent with your family                                                0\n",
       "did you loose someone from your family for Covid-19?                            1\n",
       "Hours spent on your own per day                                                 0\n",
       "Are you a member of any club?                                                   0\n",
       "Hours you spent with friends in  a week                                         0\n",
       "Do you have Social Media Addiction                                              0\n",
       "News you like to Browse on Internet?                                            0\n",
       "Kind of movies you like to watch these days                                     0\n",
       "Type of Songs you like to listen                                                0\n",
       "Not being able to stop or control worrying about yourself or your belongings    0\n",
       "Get easily annoyed or irritable                                                 0\n",
       "Interest or pleasure in Exploring things                                        0\n",
       "Tended to overreact on Situations                                               0\n",
       "What Addiction are you concerned about:-                                        0\n",
       "Select a Quote which you like from the following                                0\n",
       "Please rate your recent Mental Situation                                        0\n",
       "dtype: int64"
      ]
     },
     "execution_count": 18,
     "metadata": {},
     "output_type": "execute_result"
    }
   ],
   "source": [
    "df1.isna().sum()"
   ]
  },
  {
   "cell_type": "code",
   "execution_count": 19,
   "metadata": {},
   "outputs": [],
   "source": [
    "df1['Gender']=df1['Gender'].map({'Male':0,'Female':1})"
   ]
  },
  {
   "cell_type": "code",
   "execution_count": 20,
   "metadata": {},
   "outputs": [],
   "source": [
    "df1['Marital status']=df1['Marital status'].map({'Unmarried':0,'Married':1})"
   ]
  },
  {
   "cell_type": "code",
   "execution_count": 21,
   "metadata": {},
   "outputs": [
    {
     "data": {
      "text/plain": [
       "array(['Student', 'Employed', 'Unemployed'], dtype=object)"
      ]
     },
     "execution_count": 21,
     "metadata": {},
     "output_type": "execute_result"
    }
   ],
   "source": [
    "df1['Profession'].unique()"
   ]
  },
  {
   "cell_type": "code",
   "execution_count": 22,
   "metadata": {},
   "outputs": [],
   "source": [
    "df1['Profession']=df1['Profession'].map({'Student':0,'Employed':1,'Unemployed':2})"
   ]
  },
  {
   "cell_type": "code",
   "execution_count": 23,
   "metadata": {},
   "outputs": [],
   "source": [
    "df1['Living with Family']=df1['Living with Family'].map({'Yes':0,'No':1})"
   ]
  },
  {
   "cell_type": "code",
   "execution_count": 24,
   "metadata": {},
   "outputs": [],
   "source": [
    "df1['Sleeping Duration']=df1['Sleeping Duration'].map({'8-10 hours':0,'6-8 hours':1, '4-6 hours':2, '2-4 hours':3})"
   ]
  },
  {
   "cell_type": "code",
   "execution_count": 25,
   "metadata": {},
   "outputs": [
    {
     "data": {
      "text/plain": [
       "0    None\n",
       "dtype: object"
      ]
     },
     "execution_count": 25,
     "metadata": {},
     "output_type": "execute_result"
    }
   ],
   "source": [
    "df1['Under Medication'].mode()"
   ]
  },
  {
   "cell_type": "code",
   "execution_count": 26,
   "metadata": {},
   "outputs": [],
   "source": [
    "df1=df1.drop(columns='Under Medication',axis=1)"
   ]
  },
  {
   "cell_type": "code",
   "execution_count": 27,
   "metadata": {},
   "outputs": [
    {
     "data": {
      "text/plain": [
       "array([nan, 'No', 'Yes'], dtype=object)"
      ]
     },
     "execution_count": 27,
     "metadata": {},
     "output_type": "execute_result"
    }
   ],
   "source": [
    "df1['Did you ever tested positive in Covid-19'].unique()"
   ]
  },
  {
   "cell_type": "code",
   "execution_count": 28,
   "metadata": {},
   "outputs": [],
   "source": [
    "df1['Did you ever tested positive in Covid-19']=df1['Did you ever tested positive in Covid-19'].map({'Yes':1, 'No':0})"
   ]
  },
  {
   "cell_type": "code",
   "execution_count": 29,
   "metadata": {},
   "outputs": [],
   "source": [
    "df1['Did you have/had depression problems']=df1['Did you have/had depression problems'].map({'Yes':1, 'No':0})"
   ]
  },
  {
   "cell_type": "code",
   "execution_count": 30,
   "metadata": {},
   "outputs": [],
   "source": [
    "df1['If yes, did you still have depression?']=df1['If yes, did you still have depression?'].map({'No':1, 'Yes':0})"
   ]
  },
  {
   "cell_type": "code",
   "execution_count": 31,
   "metadata": {},
   "outputs": [],
   "source": [
    "df1['if yes, how long  you are in depression?']=df1['if yes, how long  you are in depression?'].map({'1- 3 month':0, 'more than 3 months':1, 'less then a week':2,'less than a month':3})"
   ]
  },
  {
   "cell_type": "code",
   "execution_count": 32,
   "metadata": {},
   "outputs": [],
   "source": [
    "df1['Amount of time spent in physical activity in a day']=df1['Amount of time spent in physical activity in a day'].map({'30min - 1hr':0, 'None':5, '1-2 hr':1, '2-3 hr':2, '3-4 hr':3, '4 + hr':4})"
   ]
  },
  {
   "cell_type": "code",
   "execution_count": 33,
   "metadata": {},
   "outputs": [],
   "source": [
    "df1['Regular Diet']=df1['Regular Diet'].map({'4 meals/day':1, '3 meals/day':2, 'Irregular':4, '2 meals/day':3, '5':0})"
   ]
  },
  {
   "cell_type": "code",
   "execution_count": 34,
   "metadata": {},
   "outputs": [],
   "source": [
    "df1['Hours you spent with your family']=df1['Hours you spent with your family'].map({'Frequently':0, 'Sometimes':1, 'Not at all':3, 'Once or Twice a week':2})"
   ]
  },
  {
   "cell_type": "code",
   "execution_count": 35,
   "metadata": {},
   "outputs": [],
   "source": [
    "df1['did you loose someone from your family for Covid-19?']=df1['did you loose someone from your family for Covid-19?'].map({'No':0,'Yes':1})"
   ]
  },
  {
   "cell_type": "code",
   "execution_count": 36,
   "metadata": {},
   "outputs": [],
   "source": [
    "df1['Hours spent on your own per day']=df1['Hours spent on your own per day'].map({'More than 2':0, 'Not at all':1, '1 - 2':2, '0 - 1':3})"
   ]
  },
  {
   "cell_type": "code",
   "execution_count": 37,
   "metadata": {},
   "outputs": [
    {
     "data": {
      "text/plain": [
       "array([0, 2, 1, 3], dtype=int64)"
      ]
     },
     "execution_count": 37,
     "metadata": {},
     "output_type": "execute_result"
    }
   ],
   "source": [
    "df1['Hours spent on your own per day'].unique()"
   ]
  },
  {
   "cell_type": "code",
   "execution_count": 38,
   "metadata": {},
   "outputs": [],
   "source": [
    "df1['Are you a member of any club?']=df1['Are you a member of any club?'].map({'No':0, 'Yes':1, 'no':0})"
   ]
  },
  {
   "cell_type": "code",
   "execution_count": 39,
   "metadata": {},
   "outputs": [],
   "source": [
    "df1['Hours you spent with friends in  a week']=df1['Hours you spent with friends in  a week'].map({'Frequently':0, 'Sometimes':1, 'Once or Twice in a week':2, 'Not at all':3})"
   ]
  },
  {
   "cell_type": "code",
   "execution_count": 40,
   "metadata": {},
   "outputs": [],
   "source": [
    "df1['Do you have Social Media Addiction']=df1['Do you have Social Media Addiction'].map({'Yes':0, 'Maybe':1, 'No':2})"
   ]
  },
  {
   "cell_type": "code",
   "execution_count": 41,
   "metadata": {},
   "outputs": [],
   "source": [
    "df1=df1.drop(columns='Kind of movies you like to watch these days',axis=1)"
   ]
  },
  {
   "cell_type": "code",
   "execution_count": 42,
   "metadata": {},
   "outputs": [],
   "source": [
    "df1=df1.drop(columns='Type of Songs you like to listen',axis=1)"
   ]
  },
  {
   "cell_type": "code",
   "execution_count": 43,
   "metadata": {},
   "outputs": [],
   "source": [
    "df1['Not being able to stop or control worrying about yourself or your belongings']=df1['Not being able to stop or control worrying about yourself or your belongings'].map({'Yes':0,'Not at all':1})"
   ]
  },
  {
   "cell_type": "code",
   "execution_count": 44,
   "metadata": {},
   "outputs": [],
   "source": [
    "df1['Get easily annoyed or irritable']=df1['Get easily annoyed or irritable'].map({'Yes':0, 'Not at all':1})"
   ]
  },
  {
   "cell_type": "code",
   "execution_count": 45,
   "metadata": {},
   "outputs": [],
   "source": [
    "df1['Tended to overreact on Situations']=df1['Tended to overreact on Situations'].map({'Sometimes':0, 'Frequently':1, 'Rarely':2, 'Always':3})"
   ]
  },
  {
   "cell_type": "code",
   "execution_count": 46,
   "metadata": {},
   "outputs": [],
   "source": [
    "df1['Interest or pleasure in Exploring things']=df1['Interest or pleasure in Exploring things'].map({'love to explore':2, 'Little':1, 'Not at all':0})"
   ]
  },
  {
   "cell_type": "code",
   "execution_count": 47,
   "metadata": {},
   "outputs": [
    {
     "data": {
      "text/plain": [
       "array(['None', 'Opioids', 'Tobacco', 'Alcohol',\n",
       "       'Social media. If its considered as one.', 'Cannabis', 'Phone',\n",
       "       'Junk Food', 'using phone', 'Social media',\n",
       "       'Addicted to having no addiction', 'women', 'Meye'], dtype=object)"
      ]
     },
     "execution_count": 47,
     "metadata": {},
     "output_type": "execute_result"
    }
   ],
   "source": [
    "df1['What Addiction are you concerned about:-'].unique()"
   ]
  },
  {
   "cell_type": "code",
   "execution_count": 48,
   "metadata": {},
   "outputs": [],
   "source": [
    "df1['What Addiction are you concerned about:-']=df1['What Addiction are you concerned about:-'].map({'None':6, 'Alcohol':5, 'Tobacco':4, 'Phone':3, 'Junk Food':2, 'using phone':1,\n",
    "       'Social media':0,'Social media. If its considered as one.':0,'Addicted to having no addiction':6,'women':5,'Meye':5,'Opioids':7,'Cannabis':8,'using phone':3})"
   ]
  },
  {
   "cell_type": "code",
   "execution_count": 49,
   "metadata": {},
   "outputs": [],
   "source": [
    "df1['Select a Quote which you like from the following']=df1['Select a Quote which you like from the following'].map({\n",
    "    'Be healthy and take care of yourself, but be happy with beautiful things that makes you, You.':0,\n",
    "       'Even nicest people have their limits':1,\n",
    "       'You will never have this day again, so make it Count.':2,\n",
    "       'There are wounds that never show on the body that are deeper and more hurtful than anything that bleeds.':3,\n",
    "       'When irritated I have learnt to be silent.':4,\n",
    "       'Tears come from the heart not from the brain.':5,\n",
    "       'Being Happy never goes out of Style':6,\n",
    "       \"I really  want to talk to someone about my thought and feeling, but I can't Express.\":7})"
   ]
  },
  {
   "cell_type": "code",
   "execution_count": 50,
   "metadata": {},
   "outputs": [
    {
     "data": {
      "text/plain": [
       "array([3, 6, 2, 5, 0, 1, 4, 7], dtype=int64)"
      ]
     },
     "execution_count": 50,
     "metadata": {},
     "output_type": "execute_result"
    }
   ],
   "source": [
    "df1['Select a Quote which you like from the following'].unique()"
   ]
  },
  {
   "cell_type": "code",
   "execution_count": 51,
   "metadata": {},
   "outputs": [],
   "source": [
    "df1=df1.drop(columns='Name',axis=1)"
   ]
  },
  {
   "cell_type": "code",
   "execution_count": 52,
   "metadata": {},
   "outputs": [],
   "source": [
    "df1=df1.drop(columns='Location',axis=1)"
   ]
  },
  {
   "cell_type": "code",
   "execution_count": 53,
   "metadata": {},
   "outputs": [],
   "source": [
    "df1=df1.drop(columns='News you like to Browse on Internet?',axis=1)"
   ]
  },
  {
   "cell_type": "code",
   "execution_count": 54,
   "metadata": {},
   "outputs": [],
   "source": [
    "df1=df1.drop(columns='Physical Activities',axis=1)"
   ]
  },
  {
   "cell_type": "code",
   "execution_count": 55,
   "metadata": {},
   "outputs": [
    {
     "data": {
      "text/html": [
       "<div>\n",
       "<style scoped>\n",
       "    .dataframe tbody tr th:only-of-type {\n",
       "        vertical-align: middle;\n",
       "    }\n",
       "\n",
       "    .dataframe tbody tr th {\n",
       "        vertical-align: top;\n",
       "    }\n",
       "\n",
       "    .dataframe thead th {\n",
       "        text-align: right;\n",
       "    }\n",
       "</style>\n",
       "<table border=\"1\" class=\"dataframe\">\n",
       "  <thead>\n",
       "    <tr style=\"text-align: right;\">\n",
       "      <th></th>\n",
       "      <th>Age</th>\n",
       "      <th>Gender</th>\n",
       "      <th>Marital status</th>\n",
       "      <th>Profession</th>\n",
       "      <th>Living with Family</th>\n",
       "      <th>Sleeping Duration</th>\n",
       "      <th>Did you ever tested positive in Covid-19</th>\n",
       "      <th>Did you have/had depression problems</th>\n",
       "      <th>If yes, did you still have depression?</th>\n",
       "      <th>if yes, how long  you are in depression?</th>\n",
       "      <th>...</th>\n",
       "      <th>Are you a member of any club?</th>\n",
       "      <th>Hours you spent with friends in  a week</th>\n",
       "      <th>Do you have Social Media Addiction</th>\n",
       "      <th>Not being able to stop or control worrying about yourself or your belongings</th>\n",
       "      <th>Get easily annoyed or irritable</th>\n",
       "      <th>Interest or pleasure in Exploring things</th>\n",
       "      <th>Tended to overreact on Situations</th>\n",
       "      <th>What Addiction are you concerned about:-</th>\n",
       "      <th>Select a Quote which you like from the following</th>\n",
       "      <th>Please rate your recent Mental Situation</th>\n",
       "    </tr>\n",
       "  </thead>\n",
       "  <tbody>\n",
       "    <tr>\n",
       "      <th>0</th>\n",
       "      <td>22</td>\n",
       "      <td>0.0</td>\n",
       "      <td>0</td>\n",
       "      <td>0</td>\n",
       "      <td>0</td>\n",
       "      <td>1.0</td>\n",
       "      <td>NaN</td>\n",
       "      <td>NaN</td>\n",
       "      <td>1</td>\n",
       "      <td>1</td>\n",
       "      <td>...</td>\n",
       "      <td>1</td>\n",
       "      <td>3</td>\n",
       "      <td>2</td>\n",
       "      <td>1</td>\n",
       "      <td>1</td>\n",
       "      <td>2</td>\n",
       "      <td>0</td>\n",
       "      <td>6</td>\n",
       "      <td>3</td>\n",
       "      <td>4</td>\n",
       "    </tr>\n",
       "    <tr>\n",
       "      <th>1</th>\n",
       "      <td>56</td>\n",
       "      <td>0.0</td>\n",
       "      <td>1</td>\n",
       "      <td>1</td>\n",
       "      <td>0</td>\n",
       "      <td>1.0</td>\n",
       "      <td>0.0</td>\n",
       "      <td>0.0</td>\n",
       "      <td>1</td>\n",
       "      <td>1</td>\n",
       "      <td>...</td>\n",
       "      <td>0</td>\n",
       "      <td>1</td>\n",
       "      <td>2</td>\n",
       "      <td>1</td>\n",
       "      <td>1</td>\n",
       "      <td>2</td>\n",
       "      <td>0</td>\n",
       "      <td>7</td>\n",
       "      <td>3</td>\n",
       "      <td>2</td>\n",
       "    </tr>\n",
       "    <tr>\n",
       "      <th>2</th>\n",
       "      <td>21</td>\n",
       "      <td>0.0</td>\n",
       "      <td>0</td>\n",
       "      <td>0</td>\n",
       "      <td>0</td>\n",
       "      <td>2.0</td>\n",
       "      <td>0.0</td>\n",
       "      <td>1.0</td>\n",
       "      <td>1</td>\n",
       "      <td>1</td>\n",
       "      <td>...</td>\n",
       "      <td>0</td>\n",
       "      <td>3</td>\n",
       "      <td>0</td>\n",
       "      <td>0</td>\n",
       "      <td>0</td>\n",
       "      <td>1</td>\n",
       "      <td>1</td>\n",
       "      <td>4</td>\n",
       "      <td>3</td>\n",
       "      <td>2</td>\n",
       "    </tr>\n",
       "    <tr>\n",
       "      <th>3</th>\n",
       "      <td>23</td>\n",
       "      <td>0.0</td>\n",
       "      <td>0</td>\n",
       "      <td>0</td>\n",
       "      <td>0</td>\n",
       "      <td>1.0</td>\n",
       "      <td>0.0</td>\n",
       "      <td>0.0</td>\n",
       "      <td>1</td>\n",
       "      <td>1</td>\n",
       "      <td>...</td>\n",
       "      <td>0</td>\n",
       "      <td>2</td>\n",
       "      <td>2</td>\n",
       "      <td>1</td>\n",
       "      <td>1</td>\n",
       "      <td>2</td>\n",
       "      <td>2</td>\n",
       "      <td>4</td>\n",
       "      <td>6</td>\n",
       "      <td>4</td>\n",
       "    </tr>\n",
       "    <tr>\n",
       "      <th>4</th>\n",
       "      <td>28</td>\n",
       "      <td>0.0</td>\n",
       "      <td>1</td>\n",
       "      <td>1</td>\n",
       "      <td>1</td>\n",
       "      <td>2.0</td>\n",
       "      <td>0.0</td>\n",
       "      <td>1.0</td>\n",
       "      <td>1</td>\n",
       "      <td>1</td>\n",
       "      <td>...</td>\n",
       "      <td>0</td>\n",
       "      <td>2</td>\n",
       "      <td>2</td>\n",
       "      <td>1</td>\n",
       "      <td>1</td>\n",
       "      <td>2</td>\n",
       "      <td>2</td>\n",
       "      <td>5</td>\n",
       "      <td>2</td>\n",
       "      <td>5</td>\n",
       "    </tr>\n",
       "  </tbody>\n",
       "</table>\n",
       "<p>5 rows × 25 columns</p>\n",
       "</div>"
      ],
      "text/plain": [
       "   Age  Gender  Marital status  Profession  Living with Family  \\\n",
       "0   22     0.0               0           0                   0   \n",
       "1   56     0.0               1           1                   0   \n",
       "2   21     0.0               0           0                   0   \n",
       "3   23     0.0               0           0                   0   \n",
       "4   28     0.0               1           1                   1   \n",
       "\n",
       "   Sleeping Duration  Did you ever tested positive in Covid-19  \\\n",
       "0                1.0                                       NaN   \n",
       "1                1.0                                       0.0   \n",
       "2                2.0                                       0.0   \n",
       "3                1.0                                       0.0   \n",
       "4                2.0                                       0.0   \n",
       "\n",
       "   Did you have/had depression problems  \\\n",
       "0                                   NaN   \n",
       "1                                   0.0   \n",
       "2                                   1.0   \n",
       "3                                   0.0   \n",
       "4                                   1.0   \n",
       "\n",
       "   If yes, did you still have depression?  \\\n",
       "0                                       1   \n",
       "1                                       1   \n",
       "2                                       1   \n",
       "3                                       1   \n",
       "4                                       1   \n",
       "\n",
       "   if yes, how long  you are in depression?  ...  \\\n",
       "0                                         1  ...   \n",
       "1                                         1  ...   \n",
       "2                                         1  ...   \n",
       "3                                         1  ...   \n",
       "4                                         1  ...   \n",
       "\n",
       "   Are you a member of any club?  Hours you spent with friends in  a week  \\\n",
       "0                              1                                        3   \n",
       "1                              0                                        1   \n",
       "2                              0                                        3   \n",
       "3                              0                                        2   \n",
       "4                              0                                        2   \n",
       "\n",
       "   Do you have Social Media Addiction  \\\n",
       "0                                   2   \n",
       "1                                   2   \n",
       "2                                   0   \n",
       "3                                   2   \n",
       "4                                   2   \n",
       "\n",
       "   Not being able to stop or control worrying about yourself or your belongings  \\\n",
       "0                                                  1                              \n",
       "1                                                  1                              \n",
       "2                                                  0                              \n",
       "3                                                  1                              \n",
       "4                                                  1                              \n",
       "\n",
       "   Get easily annoyed or irritable  Interest or pleasure in Exploring things  \\\n",
       "0                                1                                         2   \n",
       "1                                1                                         2   \n",
       "2                                0                                         1   \n",
       "3                                1                                         2   \n",
       "4                                1                                         2   \n",
       "\n",
       "   Tended to overreact on Situations  \\\n",
       "0                                  0   \n",
       "1                                  0   \n",
       "2                                  1   \n",
       "3                                  2   \n",
       "4                                  2   \n",
       "\n",
       "   What Addiction are you concerned about:-  \\\n",
       "0                                         6   \n",
       "1                                         7   \n",
       "2                                         4   \n",
       "3                                         4   \n",
       "4                                         5   \n",
       "\n",
       "   Select a Quote which you like from the following  \\\n",
       "0                                                 3   \n",
       "1                                                 3   \n",
       "2                                                 3   \n",
       "3                                                 6   \n",
       "4                                                 2   \n",
       "\n",
       "   Please rate your recent Mental Situation  \n",
       "0                                         4  \n",
       "1                                         2  \n",
       "2                                         2  \n",
       "3                                         4  \n",
       "4                                         5  \n",
       "\n",
       "[5 rows x 25 columns]"
      ]
     },
     "execution_count": 55,
     "metadata": {},
     "output_type": "execute_result"
    }
   ],
   "source": [
    "df1.head(5)"
   ]
  },
  {
   "cell_type": "code",
   "execution_count": 56,
   "metadata": {},
   "outputs": [],
   "source": [
    "df1['Did you ever tested positive in Covid-19']=df1['Did you ever tested positive in Covid-19'].fillna(0)"
   ]
  },
  {
   "cell_type": "code",
   "execution_count": 57,
   "metadata": {},
   "outputs": [],
   "source": [
    "df1['Did you have/had depression problems']=df1['Did you have/had depression problems'].fillna(0)"
   ]
  },
  {
   "cell_type": "code",
   "execution_count": 58,
   "metadata": {},
   "outputs": [
    {
     "data": {
      "text/plain": [
       "Age                                                                             0\n",
       "Gender                                                                          2\n",
       "Marital status                                                                  0\n",
       "Profession                                                                      0\n",
       "Living with Family                                                              0\n",
       "Sleeping Duration                                                               2\n",
       "Did you ever tested positive in Covid-19                                        0\n",
       "Did you have/had depression problems                                            0\n",
       "If yes, did you still have depression?                                          0\n",
       "if yes, how long  you are in depression?                                        0\n",
       "Amount of time spent in physical activity in a day                              0\n",
       "Regular Diet                                                                    2\n",
       "Hours you spent with your family                                                0\n",
       "did you loose someone from your family for Covid-19?                            1\n",
       "Hours spent on your own per day                                                 0\n",
       "Are you a member of any club?                                                   0\n",
       "Hours you spent with friends in  a week                                         0\n",
       "Do you have Social Media Addiction                                              0\n",
       "Not being able to stop or control worrying about yourself or your belongings    0\n",
       "Get easily annoyed or irritable                                                 0\n",
       "Interest or pleasure in Exploring things                                        0\n",
       "Tended to overreact on Situations                                               0\n",
       "What Addiction are you concerned about:-                                        0\n",
       "Select a Quote which you like from the following                                0\n",
       "Please rate your recent Mental Situation                                        0\n",
       "dtype: int64"
      ]
     },
     "execution_count": 58,
     "metadata": {},
     "output_type": "execute_result"
    }
   ],
   "source": [
    "df1.isna().sum()"
   ]
  },
  {
   "cell_type": "code",
   "execution_count": 59,
   "metadata": {},
   "outputs": [],
   "source": [
    "df1['Sleeping Duration']=df1['Sleeping Duration'].fillna(1)"
   ]
  },
  {
   "cell_type": "code",
   "execution_count": 60,
   "metadata": {},
   "outputs": [],
   "source": [
    "df1['Regular Diet']=df1['Regular Diet'].fillna(2)"
   ]
  },
  {
   "cell_type": "code",
   "execution_count": 61,
   "metadata": {},
   "outputs": [],
   "source": [
    "df1['did you loose someone from your family for Covid-19?']=df1['did you loose someone from your family for Covid-19?'].fillna(0)"
   ]
  },
  {
   "cell_type": "code",
   "execution_count": 62,
   "metadata": {},
   "outputs": [],
   "source": [
    "df1['Gender']=df1['Gender'].fillna(0)"
   ]
  },
  {
   "cell_type": "code",
   "execution_count": 63,
   "metadata": {},
   "outputs": [
    {
     "data": {
      "text/html": [
       "<div>\n",
       "<style scoped>\n",
       "    .dataframe tbody tr th:only-of-type {\n",
       "        vertical-align: middle;\n",
       "    }\n",
       "\n",
       "    .dataframe tbody tr th {\n",
       "        vertical-align: top;\n",
       "    }\n",
       "\n",
       "    .dataframe thead th {\n",
       "        text-align: right;\n",
       "    }\n",
       "</style>\n",
       "<table border=\"1\" class=\"dataframe\">\n",
       "  <thead>\n",
       "    <tr style=\"text-align: right;\">\n",
       "      <th></th>\n",
       "      <th>Age</th>\n",
       "      <th>Gender</th>\n",
       "      <th>Marital status</th>\n",
       "      <th>Profession</th>\n",
       "      <th>Living with Family</th>\n",
       "      <th>Sleeping Duration</th>\n",
       "      <th>Did you ever tested positive in Covid-19</th>\n",
       "      <th>Did you have/had depression problems</th>\n",
       "      <th>If yes, did you still have depression?</th>\n",
       "      <th>if yes, how long  you are in depression?</th>\n",
       "      <th>...</th>\n",
       "      <th>Are you a member of any club?</th>\n",
       "      <th>Hours you spent with friends in  a week</th>\n",
       "      <th>Do you have Social Media Addiction</th>\n",
       "      <th>Not being able to stop or control worrying about yourself or your belongings</th>\n",
       "      <th>Get easily annoyed or irritable</th>\n",
       "      <th>Interest or pleasure in Exploring things</th>\n",
       "      <th>Tended to overreact on Situations</th>\n",
       "      <th>What Addiction are you concerned about:-</th>\n",
       "      <th>Select a Quote which you like from the following</th>\n",
       "      <th>Please rate your recent Mental Situation</th>\n",
       "    </tr>\n",
       "  </thead>\n",
       "  <tbody>\n",
       "    <tr>\n",
       "      <th>0</th>\n",
       "      <td>22</td>\n",
       "      <td>0.0</td>\n",
       "      <td>0</td>\n",
       "      <td>0</td>\n",
       "      <td>0</td>\n",
       "      <td>1.0</td>\n",
       "      <td>0.0</td>\n",
       "      <td>0.0</td>\n",
       "      <td>1</td>\n",
       "      <td>1</td>\n",
       "      <td>...</td>\n",
       "      <td>1</td>\n",
       "      <td>3</td>\n",
       "      <td>2</td>\n",
       "      <td>1</td>\n",
       "      <td>1</td>\n",
       "      <td>2</td>\n",
       "      <td>0</td>\n",
       "      <td>6</td>\n",
       "      <td>3</td>\n",
       "      <td>4</td>\n",
       "    </tr>\n",
       "    <tr>\n",
       "      <th>1</th>\n",
       "      <td>56</td>\n",
       "      <td>0.0</td>\n",
       "      <td>1</td>\n",
       "      <td>1</td>\n",
       "      <td>0</td>\n",
       "      <td>1.0</td>\n",
       "      <td>0.0</td>\n",
       "      <td>0.0</td>\n",
       "      <td>1</td>\n",
       "      <td>1</td>\n",
       "      <td>...</td>\n",
       "      <td>0</td>\n",
       "      <td>1</td>\n",
       "      <td>2</td>\n",
       "      <td>1</td>\n",
       "      <td>1</td>\n",
       "      <td>2</td>\n",
       "      <td>0</td>\n",
       "      <td>7</td>\n",
       "      <td>3</td>\n",
       "      <td>2</td>\n",
       "    </tr>\n",
       "    <tr>\n",
       "      <th>2</th>\n",
       "      <td>21</td>\n",
       "      <td>0.0</td>\n",
       "      <td>0</td>\n",
       "      <td>0</td>\n",
       "      <td>0</td>\n",
       "      <td>2.0</td>\n",
       "      <td>0.0</td>\n",
       "      <td>1.0</td>\n",
       "      <td>1</td>\n",
       "      <td>1</td>\n",
       "      <td>...</td>\n",
       "      <td>0</td>\n",
       "      <td>3</td>\n",
       "      <td>0</td>\n",
       "      <td>0</td>\n",
       "      <td>0</td>\n",
       "      <td>1</td>\n",
       "      <td>1</td>\n",
       "      <td>4</td>\n",
       "      <td>3</td>\n",
       "      <td>2</td>\n",
       "    </tr>\n",
       "    <tr>\n",
       "      <th>3</th>\n",
       "      <td>23</td>\n",
       "      <td>0.0</td>\n",
       "      <td>0</td>\n",
       "      <td>0</td>\n",
       "      <td>0</td>\n",
       "      <td>1.0</td>\n",
       "      <td>0.0</td>\n",
       "      <td>0.0</td>\n",
       "      <td>1</td>\n",
       "      <td>1</td>\n",
       "      <td>...</td>\n",
       "      <td>0</td>\n",
       "      <td>2</td>\n",
       "      <td>2</td>\n",
       "      <td>1</td>\n",
       "      <td>1</td>\n",
       "      <td>2</td>\n",
       "      <td>2</td>\n",
       "      <td>4</td>\n",
       "      <td>6</td>\n",
       "      <td>4</td>\n",
       "    </tr>\n",
       "    <tr>\n",
       "      <th>4</th>\n",
       "      <td>28</td>\n",
       "      <td>0.0</td>\n",
       "      <td>1</td>\n",
       "      <td>1</td>\n",
       "      <td>1</td>\n",
       "      <td>2.0</td>\n",
       "      <td>0.0</td>\n",
       "      <td>1.0</td>\n",
       "      <td>1</td>\n",
       "      <td>1</td>\n",
       "      <td>...</td>\n",
       "      <td>0</td>\n",
       "      <td>2</td>\n",
       "      <td>2</td>\n",
       "      <td>1</td>\n",
       "      <td>1</td>\n",
       "      <td>2</td>\n",
       "      <td>2</td>\n",
       "      <td>5</td>\n",
       "      <td>2</td>\n",
       "      <td>5</td>\n",
       "    </tr>\n",
       "  </tbody>\n",
       "</table>\n",
       "<p>5 rows × 25 columns</p>\n",
       "</div>"
      ],
      "text/plain": [
       "   Age  Gender  Marital status  Profession  Living with Family  \\\n",
       "0   22     0.0               0           0                   0   \n",
       "1   56     0.0               1           1                   0   \n",
       "2   21     0.0               0           0                   0   \n",
       "3   23     0.0               0           0                   0   \n",
       "4   28     0.0               1           1                   1   \n",
       "\n",
       "   Sleeping Duration  Did you ever tested positive in Covid-19  \\\n",
       "0                1.0                                       0.0   \n",
       "1                1.0                                       0.0   \n",
       "2                2.0                                       0.0   \n",
       "3                1.0                                       0.0   \n",
       "4                2.0                                       0.0   \n",
       "\n",
       "   Did you have/had depression problems  \\\n",
       "0                                   0.0   \n",
       "1                                   0.0   \n",
       "2                                   1.0   \n",
       "3                                   0.0   \n",
       "4                                   1.0   \n",
       "\n",
       "   If yes, did you still have depression?  \\\n",
       "0                                       1   \n",
       "1                                       1   \n",
       "2                                       1   \n",
       "3                                       1   \n",
       "4                                       1   \n",
       "\n",
       "   if yes, how long  you are in depression?  ...  \\\n",
       "0                                         1  ...   \n",
       "1                                         1  ...   \n",
       "2                                         1  ...   \n",
       "3                                         1  ...   \n",
       "4                                         1  ...   \n",
       "\n",
       "   Are you a member of any club?  Hours you spent with friends in  a week  \\\n",
       "0                              1                                        3   \n",
       "1                              0                                        1   \n",
       "2                              0                                        3   \n",
       "3                              0                                        2   \n",
       "4                              0                                        2   \n",
       "\n",
       "   Do you have Social Media Addiction  \\\n",
       "0                                   2   \n",
       "1                                   2   \n",
       "2                                   0   \n",
       "3                                   2   \n",
       "4                                   2   \n",
       "\n",
       "   Not being able to stop or control worrying about yourself or your belongings  \\\n",
       "0                                                  1                              \n",
       "1                                                  1                              \n",
       "2                                                  0                              \n",
       "3                                                  1                              \n",
       "4                                                  1                              \n",
       "\n",
       "   Get easily annoyed or irritable  Interest or pleasure in Exploring things  \\\n",
       "0                                1                                         2   \n",
       "1                                1                                         2   \n",
       "2                                0                                         1   \n",
       "3                                1                                         2   \n",
       "4                                1                                         2   \n",
       "\n",
       "   Tended to overreact on Situations  \\\n",
       "0                                  0   \n",
       "1                                  0   \n",
       "2                                  1   \n",
       "3                                  2   \n",
       "4                                  2   \n",
       "\n",
       "   What Addiction are you concerned about:-  \\\n",
       "0                                         6   \n",
       "1                                         7   \n",
       "2                                         4   \n",
       "3                                         4   \n",
       "4                                         5   \n",
       "\n",
       "   Select a Quote which you like from the following  \\\n",
       "0                                                 3   \n",
       "1                                                 3   \n",
       "2                                                 3   \n",
       "3                                                 6   \n",
       "4                                                 2   \n",
       "\n",
       "   Please rate your recent Mental Situation  \n",
       "0                                         4  \n",
       "1                                         2  \n",
       "2                                         2  \n",
       "3                                         4  \n",
       "4                                         5  \n",
       "\n",
       "[5 rows x 25 columns]"
      ]
     },
     "execution_count": 63,
     "metadata": {},
     "output_type": "execute_result"
    }
   ],
   "source": [
    "df1.head()"
   ]
  },
  {
   "cell_type": "code",
   "execution_count": 64,
   "metadata": {},
   "outputs": [],
   "source": [
    "df1.rename(columns={'Living with Family':'Living With Family','Did you ever tested positive in Covid-19':'Tested Positive For COVID',\n",
    "                   'If yes, did you still have depression?':'Still Having Depression','if yes, how long you are in depression?':'Depression Tenure','Amount of time spent in physical activity in a day':'Physical Activites','Hours you spent with your family':'Family Time','did you loose someone from your family for Covid-19?':'Lost someone due to COVID','Are you a member of any club?':'Member of any club','Hours you spent with friends in  a week':'Time With Friends','Not being able to stop or control worrying about yourself or your belongings':'Worried all the time','Interest or pleasure in Exploring things':'Explorer','What Addiction are you concerned about:-':'Addictions','Select a Quote which you like from the following':'Select a Quote','if yes, how long  you are in depression?':'Depression tenure','Did you have/had depression problems':'Depression Problems From Past'},inplace=True)"
   ]
  },
  {
   "cell_type": "code",
   "execution_count": 65,
   "metadata": {},
   "outputs": [],
   "source": [
    "df1['Gender']=df1['Gender'].astype(int)\n",
    "df1['Tested Positive For COVID']=df1['Tested Positive For COVID'].astype(int)\n",
    "df1['Sleeping Duration']=df1['Sleeping Duration'].astype(int)\n",
    "df1['Depression Problems From Past']=df1['Depression Problems From Past'].astype(int)\n",
    "df1['Regular Diet']=df1['Regular Diet'].astype(int)\n",
    "df1['Lost someone due to COVID']=df1['Lost someone due to COVID'].astype(int)"
   ]
  },
  {
   "cell_type": "code",
   "execution_count": 66,
   "metadata": {},
   "outputs": [
    {
     "data": {
      "text/plain": [
       "Age                                         int64\n",
       "Gender                                      int32\n",
       "Marital status                              int64\n",
       "Profession                                  int64\n",
       "Living With Family                          int64\n",
       "Sleeping Duration                           int32\n",
       "Tested Positive For COVID                   int32\n",
       "Depression Problems From Past               int32\n",
       "Still Having Depression                     int64\n",
       "Depression tenure                           int64\n",
       "Physical Activites                          int64\n",
       "Regular Diet                                int32\n",
       "Family Time                                 int64\n",
       "Lost someone due to COVID                   int32\n",
       "Hours spent on your own per day             int64\n",
       "Member of any club                          int64\n",
       "Time With Friends                           int64\n",
       "Do you have Social Media Addiction          int64\n",
       "Worried all the time                        int64\n",
       "Get easily annoyed or irritable             int64\n",
       "Explorer                                    int64\n",
       "Tended to overreact on Situations           int64\n",
       "Addictions                                  int64\n",
       "Select a Quote                              int64\n",
       "Please rate your recent Mental Situation    int64\n",
       "dtype: object"
      ]
     },
     "execution_count": 66,
     "metadata": {},
     "output_type": "execute_result"
    }
   ],
   "source": [
    "df1.dtypes"
   ]
  },
  {
   "cell_type": "code",
   "execution_count": 67,
   "metadata": {},
   "outputs": [
    {
     "data": {
      "text/plain": [
       "Age                                         0\n",
       "Gender                                      0\n",
       "Marital status                              0\n",
       "Profession                                  0\n",
       "Living With Family                          0\n",
       "Sleeping Duration                           0\n",
       "Tested Positive For COVID                   0\n",
       "Depression Problems From Past               0\n",
       "Still Having Depression                     0\n",
       "Depression tenure                           0\n",
       "Physical Activites                          0\n",
       "Regular Diet                                0\n",
       "Family Time                                 0\n",
       "Lost someone due to COVID                   0\n",
       "Hours spent on your own per day             0\n",
       "Member of any club                          0\n",
       "Time With Friends                           0\n",
       "Do you have Social Media Addiction          0\n",
       "Worried all the time                        0\n",
       "Get easily annoyed or irritable             0\n",
       "Explorer                                    0\n",
       "Tended to overreact on Situations           0\n",
       "Addictions                                  0\n",
       "Select a Quote                              0\n",
       "Please rate your recent Mental Situation    0\n",
       "dtype: int64"
      ]
     },
     "execution_count": 67,
     "metadata": {},
     "output_type": "execute_result"
    }
   ],
   "source": [
    "df1.isnull().sum()"
   ]
  },
  {
   "cell_type": "code",
   "execution_count": 68,
   "metadata": {},
   "outputs": [],
   "source": [
    "df1=df1.drop(columns=\"Addictions\",axis=1)"
   ]
  },
  {
   "cell_type": "code",
   "execution_count": 69,
   "metadata": {},
   "outputs": [
    {
     "data": {
      "text/plain": [
       "array([0, 1])"
      ]
     },
     "execution_count": 69,
     "metadata": {},
     "output_type": "execute_result"
    }
   ],
   "source": [
    "df1['Gender'].unique()"
   ]
  },
  {
   "cell_type": "markdown",
   "metadata": {},
   "source": [
    "# Data  Analysis"
   ]
  },
  {
   "cell_type": "code",
   "execution_count": 115,
   "metadata": {},
   "outputs": [],
   "source": [
    "import matplotlib.pyplot as plt\n",
    "import seaborn as sns"
   ]
  },
  {
   "cell_type": "code",
   "execution_count": 116,
   "metadata": {},
   "outputs": [
    {
     "data": {
      "text/plain": [
       "<seaborn.axisgrid.FacetGrid at 0x2996f5d5fc8>"
      ]
     },
     "execution_count": 116,
     "metadata": {},
     "output_type": "execute_result"
    },
    {
     "data": {
      "image/png": "[encoded data removed]",
      "text/plain": [
       "<Figure size 360x360 with 1 Axes>"
      ]
     },
     "metadata": {
      "needs_background": "light"
     },
     "output_type": "display_data"
    }
   ],
   "source": [
    "sns.catplot(x='Please rate your recent Mental Situation',data=df1,kind='count')"
   ]
  },
  {
   "cell_type": "code",
   "execution_count": 119,
   "metadata": {},
   "outputs": [],
   "source": [
    "dfb=df1"
   ]
  },
  {
   "cell_type": "code",
   "execution_count": 120,
   "metadata": {},
   "outputs": [],
   "source": [
    "dfb['Please rate your recent Mental Situation']= df1['Please rate your recent Mental Situation'].apply(lambda y_value : 1 if y_value>=2 else 0 )"
   ]
  },
  {
   "cell_type": "code",
   "execution_count": 124,
   "metadata": {},
   "outputs": [
    {
     "data": {
      "text/plain": [
       "<seaborn.axisgrid.FacetGrid at 0x299681af8c8>"
      ]
     },
     "execution_count": 124,
     "metadata": {},
     "output_type": "execute_result"
    },
    {
     "data": {
      "image/png": "[encoded data removed]",
      "text/plain": [
       "<Figure size 360x360 with 1 Axes>"
      ]
     },
     "metadata": {
      "needs_background": "light"
     },
     "output_type": "display_data"
    }
   ],
   "source": [
    "sns.catplot(x='Please rate your recent Mental Situation',data=dfb,kind='count')"
   ]
  },
  {
   "cell_type": "code",
   "execution_count": 123,
   "metadata": {},
   "outputs": [
    {
     "data": {
      "text/html": [
       "<div>\n",
       "<style scoped>\n",
       "    .dataframe tbody tr th:only-of-type {\n",
       "        vertical-align: middle;\n",
       "    }\n",
       "\n",
       "    .dataframe tbody tr th {\n",
       "        vertical-align: top;\n",
       "    }\n",
       "\n",
       "    .dataframe thead th {\n",
       "        text-align: right;\n",
       "    }\n",
       "</style>\n",
       "<table border=\"1\" class=\"dataframe\">\n",
       "  <thead>\n",
       "    <tr style=\"text-align: right;\">\n",
       "      <th></th>\n",
       "      <th>Age</th>\n",
       "      <th>Gender</th>\n",
       "      <th>Marital status</th>\n",
       "      <th>Profession</th>\n",
       "      <th>Living With Family</th>\n",
       "      <th>Sleeping Duration</th>\n",
       "      <th>Tested Positive For COVID</th>\n",
       "      <th>Depression Problems From Past</th>\n",
       "      <th>Still Having Depression</th>\n",
       "      <th>Depression tenure</th>\n",
       "      <th>...</th>\n",
       "      <th>Hours spent on your own per day</th>\n",
       "      <th>Member of any club</th>\n",
       "      <th>Time With Friends</th>\n",
       "      <th>Do you have Social Media Addiction</th>\n",
       "      <th>Worried all the time</th>\n",
       "      <th>Get easily annoyed or irritable</th>\n",
       "      <th>Explorer</th>\n",
       "      <th>Tended to overreact on Situations</th>\n",
       "      <th>Select a Quote</th>\n",
       "      <th>Please rate your recent Mental Situation</th>\n",
       "    </tr>\n",
       "  </thead>\n",
       "  <tbody>\n",
       "    <tr>\n",
       "      <th>0</th>\n",
       "      <td>22</td>\n",
       "      <td>0</td>\n",
       "      <td>0</td>\n",
       "      <td>0</td>\n",
       "      <td>0</td>\n",
       "      <td>1</td>\n",
       "      <td>0</td>\n",
       "      <td>0</td>\n",
       "      <td>1</td>\n",
       "      <td>1</td>\n",
       "      <td>...</td>\n",
       "      <td>0</td>\n",
       "      <td>1</td>\n",
       "      <td>3</td>\n",
       "      <td>2</td>\n",
       "      <td>1</td>\n",
       "      <td>1</td>\n",
       "      <td>2</td>\n",
       "      <td>0</td>\n",
       "      <td>3</td>\n",
       "      <td>1</td>\n",
       "    </tr>\n",
       "    <tr>\n",
       "      <th>1</th>\n",
       "      <td>56</td>\n",
       "      <td>0</td>\n",
       "      <td>1</td>\n",
       "      <td>1</td>\n",
       "      <td>0</td>\n",
       "      <td>1</td>\n",
       "      <td>0</td>\n",
       "      <td>0</td>\n",
       "      <td>1</td>\n",
       "      <td>1</td>\n",
       "      <td>...</td>\n",
       "      <td>2</td>\n",
       "      <td>0</td>\n",
       "      <td>1</td>\n",
       "      <td>2</td>\n",
       "      <td>1</td>\n",
       "      <td>1</td>\n",
       "      <td>2</td>\n",
       "      <td>0</td>\n",
       "      <td>3</td>\n",
       "      <td>0</td>\n",
       "    </tr>\n",
       "    <tr>\n",
       "      <th>2</th>\n",
       "      <td>21</td>\n",
       "      <td>0</td>\n",
       "      <td>0</td>\n",
       "      <td>0</td>\n",
       "      <td>0</td>\n",
       "      <td>2</td>\n",
       "      <td>0</td>\n",
       "      <td>1</td>\n",
       "      <td>1</td>\n",
       "      <td>1</td>\n",
       "      <td>...</td>\n",
       "      <td>0</td>\n",
       "      <td>0</td>\n",
       "      <td>3</td>\n",
       "      <td>0</td>\n",
       "      <td>0</td>\n",
       "      <td>0</td>\n",
       "      <td>1</td>\n",
       "      <td>1</td>\n",
       "      <td>3</td>\n",
       "      <td>0</td>\n",
       "    </tr>\n",
       "    <tr>\n",
       "      <th>3</th>\n",
       "      <td>23</td>\n",
       "      <td>0</td>\n",
       "      <td>0</td>\n",
       "      <td>0</td>\n",
       "      <td>0</td>\n",
       "      <td>1</td>\n",
       "      <td>0</td>\n",
       "      <td>0</td>\n",
       "      <td>1</td>\n",
       "      <td>1</td>\n",
       "      <td>...</td>\n",
       "      <td>2</td>\n",
       "      <td>0</td>\n",
       "      <td>2</td>\n",
       "      <td>2</td>\n",
       "      <td>1</td>\n",
       "      <td>1</td>\n",
       "      <td>2</td>\n",
       "      <td>2</td>\n",
       "      <td>6</td>\n",
       "      <td>1</td>\n",
       "    </tr>\n",
       "    <tr>\n",
       "      <th>4</th>\n",
       "      <td>28</td>\n",
       "      <td>0</td>\n",
       "      <td>1</td>\n",
       "      <td>1</td>\n",
       "      <td>1</td>\n",
       "      <td>2</td>\n",
       "      <td>0</td>\n",
       "      <td>1</td>\n",
       "      <td>1</td>\n",
       "      <td>1</td>\n",
       "      <td>...</td>\n",
       "      <td>0</td>\n",
       "      <td>0</td>\n",
       "      <td>2</td>\n",
       "      <td>2</td>\n",
       "      <td>1</td>\n",
       "      <td>1</td>\n",
       "      <td>2</td>\n",
       "      <td>2</td>\n",
       "      <td>2</td>\n",
       "      <td>1</td>\n",
       "    </tr>\n",
       "  </tbody>\n",
       "</table>\n",
       "<p>5 rows × 24 columns</p>\n",
       "</div>"
      ],
      "text/plain": [
       "   Age  Gender  Marital status  Profession  Living With Family  \\\n",
       "0   22       0               0           0                   0   \n",
       "1   56       0               1           1                   0   \n",
       "2   21       0               0           0                   0   \n",
       "3   23       0               0           0                   0   \n",
       "4   28       0               1           1                   1   \n",
       "\n",
       "   Sleeping Duration  Tested Positive For COVID  \\\n",
       "0                  1                          0   \n",
       "1                  1                          0   \n",
       "2                  2                          0   \n",
       "3                  1                          0   \n",
       "4                  2                          0   \n",
       "\n",
       "   Depression Problems From Past  Still Having Depression  Depression tenure  \\\n",
       "0                              0                        1                  1   \n",
       "1                              0                        1                  1   \n",
       "2                              1                        1                  1   \n",
       "3                              0                        1                  1   \n",
       "4                              1                        1                  1   \n",
       "\n",
       "   ...  Hours spent on your own per day  Member of any club  \\\n",
       "0  ...                                0                   1   \n",
       "1  ...                                2                   0   \n",
       "2  ...                                0                   0   \n",
       "3  ...                                2                   0   \n",
       "4  ...                                0                   0   \n",
       "\n",
       "   Time With Friends  Do you have Social Media Addiction  \\\n",
       "0                  3                                   2   \n",
       "1                  1                                   2   \n",
       "2                  3                                   0   \n",
       "3                  2                                   2   \n",
       "4                  2                                   2   \n",
       "\n",
       "   Worried all the time  Get easily annoyed or irritable  Explorer  \\\n",
       "0                     1                                1         2   \n",
       "1                     1                                1         2   \n",
       "2                     0                                0         1   \n",
       "3                     1                                1         2   \n",
       "4                     1                                1         2   \n",
       "\n",
       "   Tended to overreact on Situations  Select a Quote  \\\n",
       "0                                  0               3   \n",
       "1                                  0               3   \n",
       "2                                  1               3   \n",
       "3                                  2               6   \n",
       "4                                  2               2   \n",
       "\n",
       "   Please rate your recent Mental Situation  \n",
       "0                                         1  \n",
       "1                                         0  \n",
       "2                                         0  \n",
       "3                                         1  \n",
       "4                                         1  \n",
       "\n",
       "[5 rows x 24 columns]"
      ]
     },
     "execution_count": 123,
     "metadata": {},
     "output_type": "execute_result"
    }
   ],
   "source": [
    "df1.head()\n"
   ]
  },
  {
   "cell_type": "code",
   "execution_count": 74,
   "metadata": {},
   "outputs": [
    {
     "data": {
      "text/plain": [
       "<AxesSubplot:xlabel='Please rate your recent Mental Situation', ylabel='Age'>"
      ]
     },
     "execution_count": 74,
     "metadata": {},
     "output_type": "execute_result"
    },
    {
     "data": {
      "image/png": "[encoded data removed]",
      "text/plain": [
       "<Figure size 360x360 with 1 Axes>"
      ]
     },
     "metadata": {
      "needs_background": "light"
     },
     "output_type": "display_data"
    }
   ],
   "source": [
    "#age vs ratings\n",
    "plot=plt.figure(figsize=(5,5))\n",
    "sns.barplot(x='Please rate your recent Mental Situation',y='Age',data=df1)"
   ]
  },
  {
   "cell_type": "code",
   "execution_count": 76,
   "metadata": {},
   "outputs": [
    {
     "data": {
      "text/plain": [
       "<AxesSubplot:xlabel='Depression Problems From Past', ylabel='Please rate your recent Mental Situation'>"
      ]
     },
     "execution_count": 76,
     "metadata": {},
     "output_type": "execute_result"
    },
    {
     "data": {
      "image/png": "[encoded data removed]",
      "text/plain": [
       "<Figure size 360x360 with 1 Axes>"
      ]
     },
     "metadata": {
      "needs_background": "light"
     },
     "output_type": "display_data"
    }
   ],
   "source": [
    "#Did you have/had depression problems vs ratings\n",
    "plot=plt.figure(figsize=(5,5))\n",
    "sns.barplot(y='Please rate your recent Mental Situation',x='Depression Problems From Past',data=df1)"
   ]
  },
  {
   "cell_type": "code",
   "execution_count": 74,
   "metadata": {},
   "outputs": [
    {
     "ename": "ValueError",
     "evalue": "Could not interpret input 'Did you ever tested positive in Covid-19'",
     "output_type": "error",
     "traceback": [
      "\u001b[1;31m---------------------------------------------------------------------------\u001b[0m",
      "\u001b[1;31mValueError\u001b[0m                                Traceback (most recent call last)",
      "\u001b[1;32m<ipython-input-74-db4caafcad8d>\u001b[0m in \u001b[0;36m<module>\u001b[1;34m\u001b[0m\n\u001b[0;32m      1\u001b[0m \u001b[1;31m#covid vs ratings\u001b[0m\u001b[1;33m\u001b[0m\u001b[1;33m\u001b[0m\u001b[1;33m\u001b[0m\u001b[0m\n\u001b[0;32m      2\u001b[0m \u001b[0mplot\u001b[0m\u001b[1;33m=\u001b[0m\u001b[0mplt\u001b[0m\u001b[1;33m.\u001b[0m\u001b[0mfigure\u001b[0m\u001b[1;33m(\u001b[0m\u001b[0mfigsize\u001b[0m\u001b[1;33m=\u001b[0m\u001b[1;33m(\u001b[0m\u001b[1;36m5\u001b[0m\u001b[1;33m,\u001b[0m\u001b[1;36m5\u001b[0m\u001b[1;33m)\u001b[0m\u001b[1;33m)\u001b[0m\u001b[1;33m\u001b[0m\u001b[1;33m\u001b[0m\u001b[0m\n\u001b[1;32m----> 3\u001b[1;33m \u001b[0msns\u001b[0m\u001b[1;33m.\u001b[0m\u001b[0mbarplot\u001b[0m\u001b[1;33m(\u001b[0m\u001b[0mx\u001b[0m\u001b[1;33m=\u001b[0m\u001b[1;34m'Please rate your recent Mental Situation'\u001b[0m\u001b[1;33m,\u001b[0m\u001b[0my\u001b[0m\u001b[1;33m=\u001b[0m\u001b[1;34m'Did you ever tested positive in Covid-19'\u001b[0m\u001b[1;33m,\u001b[0m\u001b[0mdata\u001b[0m\u001b[1;33m=\u001b[0m\u001b[0mdf1\u001b[0m\u001b[1;33m)\u001b[0m\u001b[1;33m\u001b[0m\u001b[1;33m\u001b[0m\u001b[0m\n\u001b[0m",
      "\u001b[1;32mD:\\Python\\lib\\site-packages\\seaborn\\categorical.py\u001b[0m in \u001b[0;36mbarplot\u001b[1;34m(x, y, hue, data, order, hue_order, estimator, ci, n_boot, units, orient, color, palette, saturation, errcolor, errwidth, capsize, dodge, ax, **kwargs)\u001b[0m\n\u001b[0;32m   3147\u001b[0m                           \u001b[0mestimator\u001b[0m\u001b[1;33m,\u001b[0m \u001b[0mci\u001b[0m\u001b[1;33m,\u001b[0m \u001b[0mn_boot\u001b[0m\u001b[1;33m,\u001b[0m \u001b[0munits\u001b[0m\u001b[1;33m,\u001b[0m\u001b[1;33m\u001b[0m\u001b[1;33m\u001b[0m\u001b[0m\n\u001b[0;32m   3148\u001b[0m                           \u001b[0morient\u001b[0m\u001b[1;33m,\u001b[0m \u001b[0mcolor\u001b[0m\u001b[1;33m,\u001b[0m \u001b[0mpalette\u001b[0m\u001b[1;33m,\u001b[0m \u001b[0msaturation\u001b[0m\u001b[1;33m,\u001b[0m\u001b[1;33m\u001b[0m\u001b[1;33m\u001b[0m\u001b[0m\n\u001b[1;32m-> 3149\u001b[1;33m                           errcolor, errwidth, capsize, dodge)\n\u001b[0m\u001b[0;32m   3150\u001b[0m \u001b[1;33m\u001b[0m\u001b[0m\n\u001b[0;32m   3151\u001b[0m     \u001b[1;32mif\u001b[0m \u001b[0max\u001b[0m \u001b[1;32mis\u001b[0m \u001b[1;32mNone\u001b[0m\u001b[1;33m:\u001b[0m\u001b[1;33m\u001b[0m\u001b[1;33m\u001b[0m\u001b[0m\n",
      "\u001b[1;32mD:\\Python\\lib\\site-packages\\seaborn\\categorical.py\u001b[0m in \u001b[0;36m__init__\u001b[1;34m(self, x, y, hue, data, order, hue_order, estimator, ci, n_boot, units, orient, color, palette, saturation, errcolor, errwidth, capsize, dodge)\u001b[0m\n\u001b[0;32m   1605\u001b[0m         \u001b[1;34m\"\"\"Initialize the plotter.\"\"\"\u001b[0m\u001b[1;33m\u001b[0m\u001b[1;33m\u001b[0m\u001b[0m\n\u001b[0;32m   1606\u001b[0m         self.establish_variables(x, y, hue, data, orient,\n\u001b[1;32m-> 1607\u001b[1;33m                                  order, hue_order, units)\n\u001b[0m\u001b[0;32m   1608\u001b[0m         \u001b[0mself\u001b[0m\u001b[1;33m.\u001b[0m\u001b[0mestablish_colors\u001b[0m\u001b[1;33m(\u001b[0m\u001b[0mcolor\u001b[0m\u001b[1;33m,\u001b[0m \u001b[0mpalette\u001b[0m\u001b[1;33m,\u001b[0m \u001b[0msaturation\u001b[0m\u001b[1;33m)\u001b[0m\u001b[1;33m\u001b[0m\u001b[1;33m\u001b[0m\u001b[0m\n\u001b[0;32m   1609\u001b[0m         \u001b[0mself\u001b[0m\u001b[1;33m.\u001b[0m\u001b[0mestimate_statistic\u001b[0m\u001b[1;33m(\u001b[0m\u001b[0mestimator\u001b[0m\u001b[1;33m,\u001b[0m \u001b[0mci\u001b[0m\u001b[1;33m,\u001b[0m \u001b[0mn_boot\u001b[0m\u001b[1;33m)\u001b[0m\u001b[1;33m\u001b[0m\u001b[1;33m\u001b[0m\u001b[0m\n",
      "\u001b[1;32mD:\\Python\\lib\\site-packages\\seaborn\\categorical.py\u001b[0m in \u001b[0;36mestablish_variables\u001b[1;34m(self, x, y, hue, data, orient, order, hue_order, units)\u001b[0m\n\u001b[0;32m    153\u001b[0m                 \u001b[1;32mif\u001b[0m \u001b[0misinstance\u001b[0m\u001b[1;33m(\u001b[0m\u001b[0minput\u001b[0m\u001b[1;33m,\u001b[0m \u001b[0mstring_types\u001b[0m\u001b[1;33m)\u001b[0m\u001b[1;33m:\u001b[0m\u001b[1;33m\u001b[0m\u001b[1;33m\u001b[0m\u001b[0m\n\u001b[0;32m    154\u001b[0m                     \u001b[0merr\u001b[0m \u001b[1;33m=\u001b[0m \u001b[1;34m\"Could not interpret input '{}'\"\u001b[0m\u001b[1;33m.\u001b[0m\u001b[0mformat\u001b[0m\u001b[1;33m(\u001b[0m\u001b[0minput\u001b[0m\u001b[1;33m)\u001b[0m\u001b[1;33m\u001b[0m\u001b[1;33m\u001b[0m\u001b[0m\n\u001b[1;32m--> 155\u001b[1;33m                     \u001b[1;32mraise\u001b[0m \u001b[0mValueError\u001b[0m\u001b[1;33m(\u001b[0m\u001b[0merr\u001b[0m\u001b[1;33m)\u001b[0m\u001b[1;33m\u001b[0m\u001b[1;33m\u001b[0m\u001b[0m\n\u001b[0m\u001b[0;32m    156\u001b[0m \u001b[1;33m\u001b[0m\u001b[0m\n\u001b[0;32m    157\u001b[0m             \u001b[1;31m# Figure out the plotting orientation\u001b[0m\u001b[1;33m\u001b[0m\u001b[1;33m\u001b[0m\u001b[1;33m\u001b[0m\u001b[0m\n",
      "\u001b[1;31mValueError\u001b[0m: Could not interpret input 'Did you ever tested positive in Covid-19'"
     ]
    },
    {
     "data": {
      "text/plain": [
       "<Figure size 360x360 with 0 Axes>"
      ]
     },
     "metadata": {},
     "output_type": "display_data"
    }
   ],
   "source": [
    "#covid vs ratings\n",
    "plot=plt.figure(figsize=(5,5))\n",
    "sns.barplot(x='Please rate your recent Mental Situation',y='Did you ever tested positive in Covid-19',data=df1)"
   ]
  },
  {
   "cell_type": "markdown",
   "metadata": {},
   "source": [
    "Correlation"
   ]
  },
  {
   "cell_type": "code",
   "execution_count": 75,
   "metadata": {},
   "outputs": [],
   "source": [
    "correlation=df1.corr()"
   ]
  },
  {
   "cell_type": "code",
   "execution_count": 76,
   "metadata": {},
   "outputs": [
    {
     "data": {
      "text/plain": [
       "<matplotlib.axes._subplots.AxesSubplot at 0x1e948953948>"
      ]
     },
     "execution_count": 76,
     "metadata": {},
     "output_type": "execute_result"
    },
    {
     "data": {
      "image/png": "[encoded data removed]",
      "text/plain": [
       "<Figure size 4320x720 with 2 Axes>"
      ]
     },
     "metadata": {
      "needs_background": "light"
     },
     "output_type": "display_data"
    }
   ],
   "source": [
    "plt.figure(figsize=(60,10))\n",
    "sns.heatmap(correlation,cbar=True,square=True,fmt='.1f',annot=True,annot_kws={'size':8},cmap='Reds')"
   ]
  },
  {
   "cell_type": "code",
   "execution_count": 77,
   "metadata": {},
   "outputs": [],
   "source": [
    "df1=df1.drop(columns='Marital status',axis=1)\n",
    "df1=df1.drop(columns='Profession',axis=1)"
   ]
  },
  {
   "cell_type": "markdown",
   "metadata": {},
   "source": [
    "# Neural Network\n"
   ]
  },
  {
   "cell_type": "code",
   "execution_count": 70,
   "metadata": {},
   "outputs": [
    {
     "name": "stdout",
     "output_type": "stream",
     "text": [
      "23\n"
     ]
    }
   ],
   "source": [
    "df2=df1.drop(columns='Please rate your recent Mental Situation',axis=1)\n",
    "num_features = df2.shape[1]\n",
    "print(num_features)"
   ]
  },
  {
   "cell_type": "code",
   "execution_count": 71,
   "metadata": {},
   "outputs": [
    {
     "data": {
      "text/plain": [
       "{0: 1, 1: 2, 2: 3, 3: 4, 4: 5}"
      ]
     },
     "execution_count": 71,
     "metadata": {},
     "output_type": "execute_result"
    }
   ],
   "source": [
    "from sklearn.preprocessing import LabelEncoder, StandardScaler\n",
    "encoder = LabelEncoder()\n",
    "\n",
    "df1['Please rate your recent Mental Situation'] = encoder.fit_transform(df1['Please rate your recent Mental Situation'])\n",
    "{index: label for index, label in enumerate(encoder.classes_)}"
   ]
  },
  {
   "cell_type": "code",
   "execution_count": 72,
   "metadata": {},
   "outputs": [
    {
     "name": "stdout",
     "output_type": "stream",
     "text": [
      "5\n"
     ]
    }
   ],
   "source": [
    "Y=df1['Please rate your recent Mental Situation']\n",
    "num_classes = len(Y.unique())\n",
    "print(num_classes)"
   ]
  },
  {
   "cell_type": "code",
   "execution_count": 73,
   "metadata": {},
   "outputs": [],
   "source": [
    "from sklearn.model_selection import train_test_split\n",
    "X_train,X_test,y_train,y_test=train_test_split(df1.drop(['Please rate your recent Mental Situation'],axis='columns'),Y,random_state=42)"
   ]
  },
  {
   "cell_type": "code",
   "execution_count": 74,
   "metadata": {},
   "outputs": [],
   "source": [
    "import tensorflow as tf\n",
    "from tensorflow import keras"
   ]
  },
  {
   "cell_type": "code",
   "execution_count": 75,
   "metadata": {},
   "outputs": [
    {
     "name": "stdout",
     "output_type": "stream",
     "text": [
      "Epoch 1/100\n",
      "8/8 [==============================] - 0s 21ms/step - loss: 1.9677 - accuracy: 0.1845 - val_loss: 1.4852 - val_accuracy: 0.3729 - lr: 0.0010\n",
      "Epoch 2/100\n",
      "8/8 [==============================] - 0s 4ms/step - loss: 1.5871 - accuracy: 0.3562 - val_loss: 1.4619 - val_accuracy: 0.3559 - lr: 0.0010\n",
      "Epoch 3/100\n",
      "8/8 [==============================] - 0s 5ms/step - loss: 1.5115 - accuracy: 0.2833 - val_loss: 1.4437 - val_accuracy: 0.3898 - lr: 0.0010\n",
      "Epoch 4/100\n",
      "8/8 [==============================] - 0s 5ms/step - loss: 1.4518 - accuracy: 0.3262 - val_loss: 1.4351 - val_accuracy: 0.4068 - lr: 0.0010\n",
      "Epoch 5/100\n",
      "8/8 [==============================] - 0s 4ms/step - loss: 1.4192 - accuracy: 0.3691 - val_loss: 1.4097 - val_accuracy: 0.4068 - lr: 0.0010\n",
      "Epoch 6/100\n",
      "8/8 [==============================] - 0s 4ms/step - loss: 1.3836 - accuracy: 0.3519 - val_loss: 1.3820 - val_accuracy: 0.4407 - lr: 0.0010\n",
      "Epoch 7/100\n",
      "8/8 [==============================] - 0s 4ms/step - loss: 1.3495 - accuracy: 0.3863 - val_loss: 1.3575 - val_accuracy: 0.4237 - lr: 0.0010\n",
      "Epoch 8/100\n",
      "8/8 [==============================] - 0s 4ms/step - loss: 1.3371 - accuracy: 0.3820 - val_loss: 1.3402 - val_accuracy: 0.4068 - lr: 0.0010\n",
      "Epoch 9/100\n",
      "8/8 [==============================] - 0s 4ms/step - loss: 1.3266 - accuracy: 0.3863 - val_loss: 1.3619 - val_accuracy: 0.4237 - lr: 0.0010\n",
      "Epoch 10/100\n",
      "8/8 [==============================] - 0s 4ms/step - loss: 1.2812 - accuracy: 0.4163 - val_loss: 1.3483 - val_accuracy: 0.4237 - lr: 0.0010\n",
      "Epoch 11/100\n",
      "8/8 [==============================] - 0s 5ms/step - loss: 1.2882 - accuracy: 0.4034 - val_loss: 1.3323 - val_accuracy: 0.4237 - lr: 0.0010\n",
      "Epoch 12/100\n",
      "8/8 [==============================] - 0s 5ms/step - loss: 1.2593 - accuracy: 0.4335 - val_loss: 1.3321 - val_accuracy: 0.4407 - lr: 0.0010\n",
      "Epoch 13/100\n",
      "8/8 [==============================] - 0s 4ms/step - loss: 1.2398 - accuracy: 0.4163 - val_loss: 1.3122 - val_accuracy: 0.4746 - lr: 0.0010\n",
      "Epoch 14/100\n",
      "8/8 [==============================] - 0s 4ms/step - loss: 1.2358 - accuracy: 0.4635 - val_loss: 1.2818 - val_accuracy: 0.4237 - lr: 0.0010\n",
      "Epoch 15/100\n",
      "8/8 [==============================] - 0s 4ms/step - loss: 1.2130 - accuracy: 0.4378 - val_loss: 1.3025 - val_accuracy: 0.4068 - lr: 0.0010\n",
      "Epoch 16/100\n",
      "8/8 [==============================] - 0s 4ms/step - loss: 1.2005 - accuracy: 0.4635 - val_loss: 1.2991 - val_accuracy: 0.4915 - lr: 0.0010\n",
      "Epoch 17/100\n",
      "8/8 [==============================] - 0s 4ms/step - loss: 1.1897 - accuracy: 0.4807 - val_loss: 1.3127 - val_accuracy: 0.5593 - lr: 0.0010\n",
      "Epoch 18/100\n",
      "8/8 [==============================] - 0s 4ms/step - loss: 1.1897 - accuracy: 0.4850 - val_loss: 1.3315 - val_accuracy: 0.4576 - lr: 0.0010\n",
      "Epoch 19/100\n",
      "8/8 [==============================] - 0s 5ms/step - loss: 1.1730 - accuracy: 0.4764 - val_loss: 1.2919 - val_accuracy: 0.4746 - lr: 0.0010\n",
      "Epoch 20/100\n",
      "8/8 [==============================] - 0s 5ms/step - loss: 1.1489 - accuracy: 0.5064 - val_loss: 1.3075 - val_accuracy: 0.4746 - lr: 0.0010\n",
      "Epoch 21/100\n",
      "8/8 [==============================] - 0s 4ms/step - loss: 1.1509 - accuracy: 0.4721 - val_loss: 1.2621 - val_accuracy: 0.4576 - lr: 0.0010\n",
      "Epoch 22/100\n",
      "8/8 [==============================] - 0s 4ms/step - loss: 1.1284 - accuracy: 0.4936 - val_loss: 1.2659 - val_accuracy: 0.4915 - lr: 0.0010\n",
      "Epoch 23/100\n",
      "8/8 [==============================] - 0s 5ms/step - loss: 1.1216 - accuracy: 0.5193 - val_loss: 1.2745 - val_accuracy: 0.4915 - lr: 0.0010\n",
      "Epoch 24/100\n",
      "8/8 [==============================] - 0s 4ms/step - loss: 1.1264 - accuracy: 0.5279 - val_loss: 1.3036 - val_accuracy: 0.4915 - lr: 0.0010\n",
      "Epoch 25/100\n",
      "8/8 [==============================] - 0s 5ms/step - loss: 1.1164 - accuracy: 0.4893 - val_loss: 1.2755 - val_accuracy: 0.5085 - lr: 0.0010\n",
      "Epoch 26/100\n",
      "8/8 [==============================] - 0s 4ms/step - loss: 1.1104 - accuracy: 0.5236 - val_loss: 1.2735 - val_accuracy: 0.4576 - lr: 0.0010\n",
      "Epoch 27/100\n",
      "8/8 [==============================] - 0s 4ms/step - loss: 1.0781 - accuracy: 0.5193 - val_loss: 1.2803 - val_accuracy: 0.5254 - lr: 0.0010\n",
      "Epoch 28/100\n",
      "8/8 [==============================] - 0s 5ms/step - loss: 1.0891 - accuracy: 0.5451 - val_loss: 1.2755 - val_accuracy: 0.4915 - lr: 0.0010\n",
      "Epoch 29/100\n",
      "8/8 [==============================] - 0s 4ms/step - loss: 1.0732 - accuracy: 0.5408 - val_loss: 1.2342 - val_accuracy: 0.5424 - lr: 0.0010\n",
      "Epoch 30/100\n",
      "8/8 [==============================] - 0s 4ms/step - loss: 1.0832 - accuracy: 0.5408 - val_loss: 1.3050 - val_accuracy: 0.5085 - lr: 0.0010\n",
      "Epoch 31/100\n",
      "8/8 [==============================] - 0s 5ms/step - loss: 1.0994 - accuracy: 0.5021 - val_loss: 1.2565 - val_accuracy: 0.5593 - lr: 0.0010\n",
      "Epoch 32/100\n",
      "8/8 [==============================] - 0s 4ms/step - loss: 1.0936 - accuracy: 0.4936 - val_loss: 1.2674 - val_accuracy: 0.4746 - lr: 0.0010\n",
      "Epoch 33/100\n",
      "8/8 [==============================] - 0s 5ms/step - loss: 1.0397 - accuracy: 0.5322 - val_loss: 1.2449 - val_accuracy: 0.5593 - lr: 0.0010\n",
      "Epoch 34/100\n",
      "8/8 [==============================] - 0s 4ms/step - loss: 1.0431 - accuracy: 0.5751 - val_loss: 1.2637 - val_accuracy: 0.5085 - lr: 0.0010\n",
      "Epoch 35/100\n",
      "8/8 [==============================] - 0s 4ms/step - loss: 1.0207 - accuracy: 0.5536 - val_loss: 1.2732 - val_accuracy: 0.5085 - lr: 0.0010\n",
      "Epoch 36/100\n",
      "8/8 [==============================] - 0s 5ms/step - loss: 1.0193 - accuracy: 0.5708 - val_loss: 1.2659 - val_accuracy: 0.5254 - lr: 0.0010\n",
      "Epoch 37/100\n",
      "8/8 [==============================] - 0s 4ms/step - loss: 1.0159 - accuracy: 0.5880 - val_loss: 1.2563 - val_accuracy: 0.4915 - lr: 0.0010\n",
      "Epoch 38/100\n",
      "8/8 [==============================] - 0s 5ms/step - loss: 1.0047 - accuracy: 0.5494 - val_loss: 1.2584 - val_accuracy: 0.4915 - lr: 0.0010\n",
      "Epoch 39/100\n",
      "8/8 [==============================] - 0s 4ms/step - loss: 1.0046 - accuracy: 0.5751 - val_loss: 1.2795 - val_accuracy: 0.4746 - lr: 0.0010\n",
      "Epoch 40/100\n",
      "8/8 [==============================] - 0s 4ms/step - loss: 0.9872 - accuracy: 0.5622 - val_loss: 1.2676 - val_accuracy: 0.4746 - lr: 1.0000e-04\n",
      "Epoch 41/100\n",
      "8/8 [==============================] - 0s 5ms/step - loss: 0.9848 - accuracy: 0.5708 - val_loss: 1.2589 - val_accuracy: 0.4915 - lr: 1.0000e-04\n",
      "Epoch 42/100\n",
      "8/8 [==============================] - 0s 4ms/step - loss: 0.9851 - accuracy: 0.5708 - val_loss: 1.2549 - val_accuracy: 0.5085 - lr: 1.0000e-04\n",
      "Epoch 43/100\n",
      "8/8 [==============================] - 0s 4ms/step - loss: 0.9828 - accuracy: 0.5794 - val_loss: 1.2543 - val_accuracy: 0.5085 - lr: 1.0000e-04\n",
      "Epoch 44/100\n",
      "8/8 [==============================] - 0s 4ms/step - loss: 0.9817 - accuracy: 0.5837 - val_loss: 1.2550 - val_accuracy: 0.5085 - lr: 1.0000e-04\n",
      "Epoch 45/100\n",
      "8/8 [==============================] - 0s 4ms/step - loss: 0.9805 - accuracy: 0.5794 - val_loss: 1.2578 - val_accuracy: 0.5085 - lr: 1.0000e-04\n",
      "Epoch 46/100\n",
      "8/8 [==============================] - 0s 4ms/step - loss: 0.9796 - accuracy: 0.5751 - val_loss: 1.2601 - val_accuracy: 0.4915 - lr: 1.0000e-04\n",
      "Epoch 47/100\n",
      "8/8 [==============================] - 0s 4ms/step - loss: 0.9794 - accuracy: 0.5837 - val_loss: 1.2626 - val_accuracy: 0.5254 - lr: 1.0000e-04\n",
      "Epoch 48/100\n",
      "8/8 [==============================] - 0s 6ms/step - loss: 0.9788 - accuracy: 0.5923 - val_loss: 1.2623 - val_accuracy: 0.4915 - lr: 1.0000e-04\n",
      "Epoch 49/100\n",
      "8/8 [==============================] - 0s 4ms/step - loss: 0.9776 - accuracy: 0.5794 - val_loss: 1.2651 - val_accuracy: 0.4915 - lr: 1.0000e-04\n",
      "Epoch 50/100\n",
      "8/8 [==============================] - 0s 4ms/step - loss: 0.9761 - accuracy: 0.5837 - val_loss: 1.2650 - val_accuracy: 0.4915 - lr: 1.0000e-05\n",
      "Epoch 51/100\n",
      "8/8 [==============================] - 0s 4ms/step - loss: 0.9760 - accuracy: 0.5837 - val_loss: 1.2646 - val_accuracy: 0.4915 - lr: 1.0000e-05\n",
      "Epoch 52/100\n",
      "8/8 [==============================] - 0s 4ms/step - loss: 0.9760 - accuracy: 0.5794 - val_loss: 1.2646 - val_accuracy: 0.4915 - lr: 1.0000e-05\n",
      "Epoch 53/100\n",
      "8/8 [==============================] - 0s 4ms/step - loss: 0.9759 - accuracy: 0.5751 - val_loss: 1.2639 - val_accuracy: 0.4915 - lr: 1.0000e-05\n",
      "Epoch 54/100\n",
      "8/8 [==============================] - 0s 4ms/step - loss: 0.9757 - accuracy: 0.5751 - val_loss: 1.2639 - val_accuracy: 0.4915 - lr: 1.0000e-05\n",
      "Epoch 55/100\n",
      "8/8 [==============================] - 0s 4ms/step - loss: 0.9757 - accuracy: 0.5751 - val_loss: 1.2636 - val_accuracy: 0.4915 - lr: 1.0000e-05\n",
      "Epoch 56/100\n",
      "8/8 [==============================] - 0s 4ms/step - loss: 0.9756 - accuracy: 0.5837 - val_loss: 1.2634 - val_accuracy: 0.4915 - lr: 1.0000e-05\n",
      "Epoch 57/100\n",
      "8/8 [==============================] - 0s 4ms/step - loss: 0.9755 - accuracy: 0.5837 - val_loss: 1.2634 - val_accuracy: 0.4915 - lr: 1.0000e-05\n",
      "Epoch 58/100\n",
      "8/8 [==============================] - 0s 5ms/step - loss: 0.9754 - accuracy: 0.5794 - val_loss: 1.2634 - val_accuracy: 0.4915 - lr: 1.0000e-05\n",
      "Epoch 59/100\n",
      "8/8 [==============================] - 0s 4ms/step - loss: 0.9754 - accuracy: 0.5794 - val_loss: 1.2628 - val_accuracy: 0.4915 - lr: 1.0000e-05\n",
      "Epoch 60/100\n",
      "8/8 [==============================] - 0s 4ms/step - loss: 0.9752 - accuracy: 0.5794 - val_loss: 1.2628 - val_accuracy: 0.4915 - lr: 1.0000e-06\n",
      "Epoch 61/100\n",
      "8/8 [==============================] - 0s 5ms/step - loss: 0.9752 - accuracy: 0.5794 - val_loss: 1.2627 - val_accuracy: 0.4915 - lr: 1.0000e-06\n",
      "Epoch 62/100\n",
      "8/8 [==============================] - 0s 5ms/step - loss: 0.9752 - accuracy: 0.5794 - val_loss: 1.2627 - val_accuracy: 0.4915 - lr: 1.0000e-06\n",
      "Epoch 63/100\n",
      "8/8 [==============================] - 0s 4ms/step - loss: 0.9752 - accuracy: 0.5794 - val_loss: 1.2627 - val_accuracy: 0.4915 - lr: 1.0000e-06\n",
      "Epoch 64/100\n",
      "8/8 [==============================] - 0s 4ms/step - loss: 0.9752 - accuracy: 0.5794 - val_loss: 1.2627 - val_accuracy: 0.4915 - lr: 1.0000e-06\n",
      "Epoch 65/100\n",
      "8/8 [==============================] - 0s 4ms/step - loss: 0.9752 - accuracy: 0.5794 - val_loss: 1.2627 - val_accuracy: 0.4915 - lr: 1.0000e-06\n",
      "Epoch 66/100\n",
      "8/8 [==============================] - 0s 4ms/step - loss: 0.9752 - accuracy: 0.5794 - val_loss: 1.2627 - val_accuracy: 0.4915 - lr: 1.0000e-06\n",
      "Epoch 67/100\n",
      "8/8 [==============================] - 0s 4ms/step - loss: 0.9752 - accuracy: 0.5794 - val_loss: 1.2627 - val_accuracy: 0.4915 - lr: 1.0000e-06\n",
      "Epoch 68/100\n",
      "8/8 [==============================] - 0s 4ms/step - loss: 0.9752 - accuracy: 0.5794 - val_loss: 1.2627 - val_accuracy: 0.4915 - lr: 1.0000e-06\n",
      "Epoch 69/100\n",
      "8/8 [==============================] - 0s 4ms/step - loss: 0.9752 - accuracy: 0.5794 - val_loss: 1.2627 - val_accuracy: 0.4915 - lr: 1.0000e-06\n",
      "Epoch 70/100\n",
      "8/8 [==============================] - 0s 4ms/step - loss: 0.9752 - accuracy: 0.5794 - val_loss: 1.2627 - val_accuracy: 0.4915 - lr: 1.0000e-07\n",
      "Epoch 71/100\n",
      "8/8 [==============================] - 0s 4ms/step - loss: 0.9752 - accuracy: 0.5794 - val_loss: 1.2627 - val_accuracy: 0.4915 - lr: 1.0000e-07\n",
      "Epoch 72/100\n",
      "8/8 [==============================] - 0s 4ms/step - loss: 0.9752 - accuracy: 0.5794 - val_loss: 1.2627 - val_accuracy: 0.4915 - lr: 1.0000e-07\n",
      "Epoch 73/100\n",
      "8/8 [==============================] - 0s 4ms/step - loss: 0.9752 - accuracy: 0.5794 - val_loss: 1.2627 - val_accuracy: 0.4915 - lr: 1.0000e-07\n",
      "Epoch 74/100\n",
      "8/8 [==============================] - 0s 4ms/step - loss: 0.9752 - accuracy: 0.5794 - val_loss: 1.2627 - val_accuracy: 0.4915 - lr: 1.0000e-07\n",
      "Epoch 75/100\n",
      "8/8 [==============================] - 0s 4ms/step - loss: 0.9752 - accuracy: 0.5794 - val_loss: 1.2627 - val_accuracy: 0.4915 - lr: 1.0000e-07\n",
      "Epoch 76/100\n",
      "8/8 [==============================] - 0s 6ms/step - loss: 0.9752 - accuracy: 0.5794 - val_loss: 1.2627 - val_accuracy: 0.4915 - lr: 1.0000e-07\n",
      "Epoch 77/100\n",
      "8/8 [==============================] - 0s 4ms/step - loss: 0.9752 - accuracy: 0.5794 - val_loss: 1.2627 - val_accuracy: 0.4915 - lr: 1.0000e-07\n",
      "Epoch 78/100\n",
      "8/8 [==============================] - 0s 4ms/step - loss: 0.9752 - accuracy: 0.5794 - val_loss: 1.2627 - val_accuracy: 0.4915 - lr: 1.0000e-07\n",
      "Epoch 79/100\n",
      "8/8 [==============================] - 0s 5ms/step - loss: 0.9752 - accuracy: 0.5794 - val_loss: 1.2627 - val_accuracy: 0.4915 - lr: 1.0000e-07\n",
      "Epoch 80/100\n",
      "8/8 [==============================] - 0s 4ms/step - loss: 0.9752 - accuracy: 0.5794 - val_loss: 1.2627 - val_accuracy: 0.4915 - lr: 1.0000e-08\n",
      "Epoch 81/100\n",
      "8/8 [==============================] - 0s 4ms/step - loss: 0.9752 - accuracy: 0.5794 - val_loss: 1.2627 - val_accuracy: 0.4915 - lr: 1.0000e-08\n",
      "Epoch 82/100\n",
      "8/8 [==============================] - 0s 4ms/step - loss: 0.9751 - accuracy: 0.5794 - val_loss: 1.2627 - val_accuracy: 0.4915 - lr: 1.0000e-08\n",
      "Epoch 83/100\n",
      "8/8 [==============================] - 0s 4ms/step - loss: 0.9752 - accuracy: 0.5794 - val_loss: 1.2627 - val_accuracy: 0.4915 - lr: 1.0000e-08\n",
      "Epoch 84/100\n",
      "8/8 [==============================] - 0s 4ms/step - loss: 0.9752 - accuracy: 0.5794 - val_loss: 1.2627 - val_accuracy: 0.4915 - lr: 1.0000e-08\n",
      "Epoch 85/100\n",
      "8/8 [==============================] - 0s 4ms/step - loss: 0.9752 - accuracy: 0.5794 - val_loss: 1.2627 - val_accuracy: 0.4915 - lr: 1.0000e-08\n",
      "Epoch 86/100\n",
      "8/8 [==============================] - 0s 4ms/step - loss: 0.9752 - accuracy: 0.5794 - val_loss: 1.2627 - val_accuracy: 0.4915 - lr: 1.0000e-08\n",
      "Epoch 87/100\n",
      "8/8 [==============================] - 0s 4ms/step - loss: 0.9751 - accuracy: 0.5794 - val_loss: 1.2627 - val_accuracy: 0.4915 - lr: 1.0000e-08\n",
      "Epoch 88/100\n",
      "8/8 [==============================] - 0s 4ms/step - loss: 0.9752 - accuracy: 0.5794 - val_loss: 1.2627 - val_accuracy: 0.4915 - lr: 1.0000e-08\n",
      "Epoch 89/100\n",
      "8/8 [==============================] - 0s 4ms/step - loss: 0.9752 - accuracy: 0.5794 - val_loss: 1.2627 - val_accuracy: 0.4915 - lr: 1.0000e-08\n",
      "Epoch 90/100\n",
      "8/8 [==============================] - 0s 4ms/step - loss: 0.9751 - accuracy: 0.5794 - val_loss: 1.2627 - val_accuracy: 0.4915 - lr: 1.0000e-09\n",
      "Epoch 91/100\n",
      "8/8 [==============================] - 0s 4ms/step - loss: 0.9751 - accuracy: 0.5794 - val_loss: 1.2627 - val_accuracy: 0.4915 - lr: 1.0000e-09\n",
      "Epoch 92/100\n",
      "8/8 [==============================] - 0s 4ms/step - loss: 0.9751 - accuracy: 0.5794 - val_loss: 1.2627 - val_accuracy: 0.4915 - lr: 1.0000e-09\n",
      "Epoch 93/100\n",
      "8/8 [==============================] - 0s 4ms/step - loss: 0.9751 - accuracy: 0.5794 - val_loss: 1.2627 - val_accuracy: 0.4915 - lr: 1.0000e-09\n",
      "Epoch 94/100\n",
      "8/8 [==============================] - 0s 4ms/step - loss: 0.9751 - accuracy: 0.5794 - val_loss: 1.2627 - val_accuracy: 0.4915 - lr: 1.0000e-09\n",
      "Epoch 95/100\n",
      "8/8 [==============================] - 0s 4ms/step - loss: 0.9751 - accuracy: 0.5794 - val_loss: 1.2627 - val_accuracy: 0.4915 - lr: 1.0000e-09\n",
      "Epoch 96/100\n",
      "8/8 [==============================] - 0s 4ms/step - loss: 0.9751 - accuracy: 0.5794 - val_loss: 1.2627 - val_accuracy: 0.4915 - lr: 1.0000e-09\n",
      "Epoch 97/100\n",
      "8/8 [==============================] - 0s 4ms/step - loss: 0.9751 - accuracy: 0.5794 - val_loss: 1.2627 - val_accuracy: 0.4915 - lr: 1.0000e-09\n",
      "Epoch 98/100\n",
      "8/8 [==============================] - 0s 4ms/step - loss: 0.9751 - accuracy: 0.5794 - val_loss: 1.2627 - val_accuracy: 0.4915 - lr: 1.0000e-09\n",
      "Epoch 99/100\n",
      "8/8 [==============================] - 0s 4ms/step - loss: 0.9751 - accuracy: 0.5794 - val_loss: 1.2627 - val_accuracy: 0.4915 - lr: 1.0000e-09\n",
      "Epoch 100/100\n",
      "8/8 [==============================] - 0s 4ms/step - loss: 0.9751 - accuracy: 0.5794 - val_loss: 1.2627 - val_accuracy: 0.4915 - lr: 1.0000e-10\n"
     ]
    }
   ],
   "source": [
    "inputs = tf.keras.Input(shape=(num_features,))\n",
    "x = tf.keras.layers.Dense(64, activation='relu')(inputs)\n",
    "x = tf.keras.layers.Dense(64, activation='relu')(x)\n",
    "outputs = tf.keras.layers.Dense(num_classes, activation='softmax')(x)\n",
    "\n",
    "model = tf.keras.Model(inputs=inputs, outputs=outputs)\n",
    "\n",
    "\n",
    "model.compile(\n",
    "    optimizer='adam',\n",
    "    loss='sparse_categorical_crossentropy',\n",
    "    metrics=['accuracy']\n",
    ")\n",
    "\n",
    "\n",
    "batch_size = 32\n",
    "epochs = 100\n",
    "\n",
    "history = model.fit(\n",
    "    X_train,\n",
    "    y_train,\n",
    "    validation_split=0.2,\n",
    "    batch_size=batch_size,\n",
    "    epochs=epochs,\n",
    "    callbacks=[tf.keras.callbacks.ReduceLROnPlateau()]\n",
    ")"
   ]
  },
  {
   "cell_type": "code",
   "execution_count": 76,
   "metadata": {},
   "outputs": [
    {
     "name": "stdout",
     "output_type": "stream",
     "text": [
      "4/4 [==============================] - 0s 1ms/step - loss: 1.2882 - accuracy: 0.3878\n"
     ]
    },
    {
     "data": {
      "text/plain": [
       "[1.2881531715393066, 0.3877550959587097]"
      ]
     },
     "execution_count": 76,
     "metadata": {},
     "output_type": "execute_result"
    }
   ],
   "source": [
    "model.evaluate(X_test, y_test)"
   ]
  },
  {
   "cell_type": "markdown",
   "metadata": {},
   "source": [
    "Restructuring of the target variable"
   ]
  },
  {
   "cell_type": "code",
   "execution_count": 77,
   "metadata": {},
   "outputs": [],
   "source": [
    "Y = df1['Please rate your recent Mental Situation'].apply(lambda y_value : 1 if y_value>=2 else 0 )"
   ]
  },
  {
   "cell_type": "code",
   "execution_count": 78,
   "metadata": {},
   "outputs": [
    {
     "name": "stdout",
     "output_type": "stream",
     "text": [
      "0      1\n",
      "1      0\n",
      "2      0\n",
      "3      1\n",
      "4      1\n",
      "      ..\n",
      "385    1\n",
      "386    1\n",
      "387    1\n",
      "388    1\n",
      "389    1\n",
      "Name: Please rate your recent Mental Situation, Length: 390, dtype: int64\n"
     ]
    }
   ],
   "source": [
    "print(Y)"
   ]
  },
  {
   "cell_type": "code",
   "execution_count": 79,
   "metadata": {},
   "outputs": [
    {
     "name": "stdout",
     "output_type": "stream",
     "text": [
      "2\n"
     ]
    }
   ],
   "source": [
    "num_classes = len(Y.unique())\n",
    "print(num_classes)"
   ]
  },
  {
   "cell_type": "code",
   "execution_count": 80,
   "metadata": {},
   "outputs": [],
   "source": [
    "X_train,X_test,y_train,y_test=train_test_split(df1.drop(['Please rate your recent Mental Situation'],axis='columns'),Y,random_state=42)"
   ]
  },
  {
   "cell_type": "markdown",
   "metadata": {},
   "source": [
    "ternary data "
   ]
  },
  {
   "cell_type": "code",
   "execution_count": 83,
   "metadata": {},
   "outputs": [],
   "source": [
    "Yt = df1['Please rate your recent Mental Situation'].apply(lambda y_value : 1 if y_value>2 else (0 if y_value<2 else 2) )"
   ]
  },
  {
   "cell_type": "code",
   "execution_count": 92,
   "metadata": {},
   "outputs": [
    {
     "name": "stdout",
     "output_type": "stream",
     "text": [
      "3\n"
     ]
    }
   ],
   "source": [
    "num_classes = len(Yt.unique())\n",
    "print(num_classes)"
   ]
  },
  {
   "cell_type": "code",
   "execution_count": 93,
   "metadata": {},
   "outputs": [],
   "source": [
    "X_train,X_test,y_train,y_test=train_test_split(df1.drop(['Please rate your recent Mental Situation'],axis='columns'),Yt,random_state=42)"
   ]
  },
  {
   "cell_type": "code",
   "execution_count": 104,
   "metadata": {},
   "outputs": [
    {
     "name": "stdout",
     "output_type": "stream",
     "text": [
      "Epoch 1/100\n",
      "8/8 [==============================] - 0s 17ms/step - loss: 1.4315 - accuracy: 0.4850 - val_loss: 1.1026 - val_accuracy: 0.4915 - lr: 0.0010\n",
      "Epoch 2/100\n",
      "8/8 [==============================] - 0s 4ms/step - loss: 1.0602 - accuracy: 0.5064 - val_loss: 0.9967 - val_accuracy: 0.5932 - lr: 0.0010\n",
      "Epoch 3/100\n",
      "8/8 [==============================] - 0s 5ms/step - loss: 0.9815 - accuracy: 0.5966 - val_loss: 0.9726 - val_accuracy: 0.5763 - lr: 0.0010\n",
      "Epoch 4/100\n",
      "8/8 [==============================] - 0s 4ms/step - loss: 0.9348 - accuracy: 0.5880 - val_loss: 0.9448 - val_accuracy: 0.6441 - lr: 0.0010\n",
      "Epoch 5/100\n",
      "8/8 [==============================] - 0s 5ms/step - loss: 0.8993 - accuracy: 0.6094 - val_loss: 0.9172 - val_accuracy: 0.6102 - lr: 0.0010\n",
      "Epoch 6/100\n",
      "8/8 [==============================] - 0s 4ms/step - loss: 0.8692 - accuracy: 0.6094 - val_loss: 0.9117 - val_accuracy: 0.6610 - lr: 0.0010\n",
      "Epoch 7/100\n",
      "8/8 [==============================] - 0s 4ms/step - loss: 0.8581 - accuracy: 0.6567 - val_loss: 0.8855 - val_accuracy: 0.6271 - lr: 0.0010\n",
      "Epoch 8/100\n",
      "8/8 [==============================] - 0s 4ms/step - loss: 0.8370 - accuracy: 0.6009 - val_loss: 0.8702 - val_accuracy: 0.6102 - lr: 0.0010\n",
      "Epoch 9/100\n",
      "8/8 [==============================] - 0s 4ms/step - loss: 0.8149 - accuracy: 0.6137 - val_loss: 0.8721 - val_accuracy: 0.6949 - lr: 0.0010\n",
      "Epoch 10/100\n",
      "8/8 [==============================] - 0s 4ms/step - loss: 0.7803 - accuracy: 0.6438 - val_loss: 0.8443 - val_accuracy: 0.6441 - lr: 0.0010\n",
      "Epoch 11/100\n",
      "8/8 [==============================] - 0s 4ms/step - loss: 0.7887 - accuracy: 0.6266 - val_loss: 0.8409 - val_accuracy: 0.6610 - lr: 0.0010\n",
      "Epoch 12/100\n",
      "8/8 [==============================] - 0s 4ms/step - loss: 0.7879 - accuracy: 0.6910 - val_loss: 0.8347 - val_accuracy: 0.6610 - lr: 0.0010\n",
      "Epoch 13/100\n",
      "8/8 [==============================] - 0s 5ms/step - loss: 0.7628 - accuracy: 0.6309 - val_loss: 0.8355 - val_accuracy: 0.6610 - lr: 0.0010\n",
      "Epoch 14/100\n",
      "8/8 [==============================] - 0s 4ms/step - loss: 0.7615 - accuracy: 0.7124 - val_loss: 0.8313 - val_accuracy: 0.6780 - lr: 0.0010\n",
      "Epoch 15/100\n",
      "8/8 [==============================] - 0s 4ms/step - loss: 0.7187 - accuracy: 0.6781 - val_loss: 0.8286 - val_accuracy: 0.6780 - lr: 0.0010\n",
      "Epoch 16/100\n",
      "8/8 [==============================] - 0s 4ms/step - loss: 0.7141 - accuracy: 0.7210 - val_loss: 0.8179 - val_accuracy: 0.6610 - lr: 0.0010\n",
      "Epoch 17/100\n",
      "8/8 [==============================] - 0s 4ms/step - loss: 0.7024 - accuracy: 0.7082 - val_loss: 0.8230 - val_accuracy: 0.6610 - lr: 0.0010\n",
      "Epoch 18/100\n",
      "8/8 [==============================] - 0s 4ms/step - loss: 0.6903 - accuracy: 0.7253 - val_loss: 0.8208 - val_accuracy: 0.6780 - lr: 0.0010\n",
      "Epoch 19/100\n",
      "8/8 [==============================] - 0s 4ms/step - loss: 0.6941 - accuracy: 0.7296 - val_loss: 0.8271 - val_accuracy: 0.6610 - lr: 0.0010\n",
      "Epoch 20/100\n",
      "8/8 [==============================] - 0s 4ms/step - loss: 0.6826 - accuracy: 0.7296 - val_loss: 0.8102 - val_accuracy: 0.6610 - lr: 0.0010\n",
      "Epoch 21/100\n",
      "8/8 [==============================] - 0s 4ms/step - loss: 0.6725 - accuracy: 0.7468 - val_loss: 0.8000 - val_accuracy: 0.6610 - lr: 0.0010\n",
      "Epoch 22/100\n",
      "8/8 [==============================] - 0s 4ms/step - loss: 0.6721 - accuracy: 0.7382 - val_loss: 0.8215 - val_accuracy: 0.6610 - lr: 0.0010\n",
      "Epoch 23/100\n",
      "8/8 [==============================] - 0s 4ms/step - loss: 0.6727 - accuracy: 0.7167 - val_loss: 0.8129 - val_accuracy: 0.6780 - lr: 0.0010\n",
      "Epoch 24/100\n",
      "8/8 [==============================] - 0s 4ms/step - loss: 0.6676 - accuracy: 0.7082 - val_loss: 0.8445 - val_accuracy: 0.6610 - lr: 0.0010\n",
      "Epoch 25/100\n",
      "8/8 [==============================] - 0s 4ms/step - loss: 0.6565 - accuracy: 0.7511 - val_loss: 0.8232 - val_accuracy: 0.6441 - lr: 0.0010\n",
      "Epoch 26/100\n",
      "8/8 [==============================] - 0s 4ms/step - loss: 0.6448 - accuracy: 0.7425 - val_loss: 0.8246 - val_accuracy: 0.6610 - lr: 0.0010\n",
      "Epoch 27/100\n",
      "8/8 [==============================] - 0s 4ms/step - loss: 0.6415 - accuracy: 0.7511 - val_loss: 0.8399 - val_accuracy: 0.6610 - lr: 0.0010\n",
      "Epoch 28/100\n",
      "8/8 [==============================] - 0s 5ms/step - loss: 0.6475 - accuracy: 0.7296 - val_loss: 0.8233 - val_accuracy: 0.6780 - lr: 0.0010\n",
      "Epoch 29/100\n",
      "8/8 [==============================] - 0s 5ms/step - loss: 0.6388 - accuracy: 0.7468 - val_loss: 0.8136 - val_accuracy: 0.6949 - lr: 0.0010\n",
      "Epoch 30/100\n",
      "8/8 [==============================] - 0s 4ms/step - loss: 0.6317 - accuracy: 0.7253 - val_loss: 0.8204 - val_accuracy: 0.6780 - lr: 0.0010\n",
      "Epoch 31/100\n",
      "8/8 [==============================] - 0s 4ms/step - loss: 0.6143 - accuracy: 0.7682 - val_loss: 0.8570 - val_accuracy: 0.6441 - lr: 0.0010\n",
      "Epoch 32/100\n",
      "8/8 [==============================] - 0s 4ms/step - loss: 0.6169 - accuracy: 0.7554 - val_loss: 0.8499 - val_accuracy: 0.6441 - lr: 1.0000e-04\n",
      "Epoch 33/100\n",
      "8/8 [==============================] - 0s 4ms/step - loss: 0.6131 - accuracy: 0.7597 - val_loss: 0.8391 - val_accuracy: 0.6441 - lr: 1.0000e-04\n",
      "Epoch 34/100\n",
      "8/8 [==============================] - 0s 4ms/step - loss: 0.6118 - accuracy: 0.7682 - val_loss: 0.8336 - val_accuracy: 0.6610 - lr: 1.0000e-04\n",
      "Epoch 35/100\n",
      "8/8 [==============================] - 0s 4ms/step - loss: 0.6106 - accuracy: 0.7597 - val_loss: 0.8296 - val_accuracy: 0.6610 - lr: 1.0000e-04\n",
      "Epoch 36/100\n",
      "8/8 [==============================] - 0s 4ms/step - loss: 0.6104 - accuracy: 0.7639 - val_loss: 0.8268 - val_accuracy: 0.6610 - lr: 1.0000e-04\n",
      "Epoch 37/100\n",
      "8/8 [==============================] - 0s 4ms/step - loss: 0.6088 - accuracy: 0.7682 - val_loss: 0.8287 - val_accuracy: 0.6610 - lr: 1.0000e-04\n",
      "Epoch 38/100\n",
      "8/8 [==============================] - 0s 4ms/step - loss: 0.6081 - accuracy: 0.7682 - val_loss: 0.8304 - val_accuracy: 0.6610 - lr: 1.0000e-04\n",
      "Epoch 39/100\n",
      "8/8 [==============================] - 0s 4ms/step - loss: 0.6086 - accuracy: 0.7682 - val_loss: 0.8314 - val_accuracy: 0.6441 - lr: 1.0000e-04\n",
      "Epoch 40/100\n",
      "8/8 [==============================] - 0s 4ms/step - loss: 0.6088 - accuracy: 0.7682 - val_loss: 0.8337 - val_accuracy: 0.6441 - lr: 1.0000e-04\n",
      "Epoch 41/100\n",
      "8/8 [==============================] - 0s 4ms/step - loss: 0.6088 - accuracy: 0.7682 - val_loss: 0.8237 - val_accuracy: 0.6441 - lr: 1.0000e-04\n",
      "Epoch 42/100\n",
      "8/8 [==============================] - 0s 4ms/step - loss: 0.6064 - accuracy: 0.7639 - val_loss: 0.8235 - val_accuracy: 0.6441 - lr: 1.0000e-05\n",
      "Epoch 43/100\n",
      "8/8 [==============================] - 0s 4ms/step - loss: 0.6063 - accuracy: 0.7639 - val_loss: 0.8234 - val_accuracy: 0.6441 - lr: 1.0000e-05\n",
      "Epoch 44/100\n",
      "8/8 [==============================] - 0s 4ms/step - loss: 0.6061 - accuracy: 0.7639 - val_loss: 0.8239 - val_accuracy: 0.6610 - lr: 1.0000e-05\n",
      "Epoch 45/100\n",
      "8/8 [==============================] - 0s 4ms/step - loss: 0.6060 - accuracy: 0.7682 - val_loss: 0.8244 - val_accuracy: 0.6610 - lr: 1.0000e-05\n",
      "Epoch 46/100\n",
      "8/8 [==============================] - 0s 4ms/step - loss: 0.6060 - accuracy: 0.7682 - val_loss: 0.8246 - val_accuracy: 0.6610 - lr: 1.0000e-05\n",
      "Epoch 47/100\n",
      "8/8 [==============================] - 0s 5ms/step - loss: 0.6060 - accuracy: 0.7682 - val_loss: 0.8246 - val_accuracy: 0.6610 - lr: 1.0000e-05\n",
      "Epoch 48/100\n",
      "8/8 [==============================] - 0s 5ms/step - loss: 0.6059 - accuracy: 0.7682 - val_loss: 0.8245 - val_accuracy: 0.6610 - lr: 1.0000e-05\n",
      "Epoch 49/100\n",
      "8/8 [==============================] - 0s 4ms/step - loss: 0.6059 - accuracy: 0.7682 - val_loss: 0.8249 - val_accuracy: 0.6610 - lr: 1.0000e-05\n",
      "Epoch 50/100\n",
      "8/8 [==============================] - 0s 4ms/step - loss: 0.6058 - accuracy: 0.7682 - val_loss: 0.8254 - val_accuracy: 0.6610 - lr: 1.0000e-05\n",
      "Epoch 51/100\n",
      "8/8 [==============================] - 0s 4ms/step - loss: 0.6058 - accuracy: 0.7682 - val_loss: 0.8260 - val_accuracy: 0.6610 - lr: 1.0000e-05\n",
      "Epoch 52/100\n",
      "8/8 [==============================] - 0s 4ms/step - loss: 0.6056 - accuracy: 0.7682 - val_loss: 0.8260 - val_accuracy: 0.6610 - lr: 1.0000e-06\n",
      "Epoch 53/100\n",
      "8/8 [==============================] - 0s 4ms/step - loss: 0.6056 - accuracy: 0.7682 - val_loss: 0.8260 - val_accuracy: 0.6610 - lr: 1.0000e-06\n",
      "Epoch 54/100\n"
     ]
    },
    {
     "name": "stdout",
     "output_type": "stream",
     "text": [
      "8/8 [==============================] - 0s 5ms/step - loss: 0.6056 - accuracy: 0.7682 - val_loss: 0.8261 - val_accuracy: 0.6610 - lr: 1.0000e-06\n",
      "Epoch 55/100\n",
      "8/8 [==============================] - 0s 4ms/step - loss: 0.6056 - accuracy: 0.7682 - val_loss: 0.8262 - val_accuracy: 0.6610 - lr: 1.0000e-06\n",
      "Epoch 56/100\n",
      "8/8 [==============================] - 0s 4ms/step - loss: 0.6056 - accuracy: 0.7682 - val_loss: 0.8262 - val_accuracy: 0.6610 - lr: 1.0000e-06\n",
      "Epoch 57/100\n",
      "8/8 [==============================] - 0s 4ms/step - loss: 0.6056 - accuracy: 0.7682 - val_loss: 0.8262 - val_accuracy: 0.6610 - lr: 1.0000e-06\n",
      "Epoch 58/100\n",
      "8/8 [==============================] - 0s 4ms/step - loss: 0.6056 - accuracy: 0.7682 - val_loss: 0.8262 - val_accuracy: 0.6610 - lr: 1.0000e-06\n",
      "Epoch 59/100\n",
      "8/8 [==============================] - 0s 4ms/step - loss: 0.6056 - accuracy: 0.7682 - val_loss: 0.8262 - val_accuracy: 0.6610 - lr: 1.0000e-06\n",
      "Epoch 60/100\n",
      "8/8 [==============================] - 0s 3ms/step - loss: 0.6056 - accuracy: 0.7682 - val_loss: 0.8263 - val_accuracy: 0.6610 - lr: 1.0000e-06\n",
      "Epoch 61/100\n",
      "8/8 [==============================] - 0s 4ms/step - loss: 0.6056 - accuracy: 0.7682 - val_loss: 0.8263 - val_accuracy: 0.6610 - lr: 1.0000e-06\n",
      "Epoch 62/100\n",
      "8/8 [==============================] - 0s 4ms/step - loss: 0.6056 - accuracy: 0.7682 - val_loss: 0.8263 - val_accuracy: 0.6610 - lr: 1.0000e-07\n",
      "Epoch 63/100\n",
      "8/8 [==============================] - 0s 4ms/step - loss: 0.6056 - accuracy: 0.7682 - val_loss: 0.8263 - val_accuracy: 0.6610 - lr: 1.0000e-07\n",
      "Epoch 64/100\n",
      "8/8 [==============================] - 0s 4ms/step - loss: 0.6056 - accuracy: 0.7682 - val_loss: 0.8263 - val_accuracy: 0.6610 - lr: 1.0000e-07\n",
      "Epoch 65/100\n",
      "8/8 [==============================] - 0s 4ms/step - loss: 0.6056 - accuracy: 0.7682 - val_loss: 0.8263 - val_accuracy: 0.6610 - lr: 1.0000e-07\n",
      "Epoch 66/100\n",
      "8/8 [==============================] - 0s 4ms/step - loss: 0.6056 - accuracy: 0.7682 - val_loss: 0.8263 - val_accuracy: 0.6610 - lr: 1.0000e-07\n",
      "Epoch 67/100\n",
      "8/8 [==============================] - 0s 4ms/step - loss: 0.6056 - accuracy: 0.7682 - val_loss: 0.8263 - val_accuracy: 0.6610 - lr: 1.0000e-07\n",
      "Epoch 68/100\n",
      "8/8 [==============================] - 0s 4ms/step - loss: 0.6056 - accuracy: 0.7682 - val_loss: 0.8263 - val_accuracy: 0.6610 - lr: 1.0000e-07\n",
      "Epoch 69/100\n",
      "8/8 [==============================] - 0s 4ms/step - loss: 0.6056 - accuracy: 0.7682 - val_loss: 0.8262 - val_accuracy: 0.6610 - lr: 1.0000e-07\n",
      "Epoch 70/100\n",
      "8/8 [==============================] - 0s 4ms/step - loss: 0.6056 - accuracy: 0.7682 - val_loss: 0.8262 - val_accuracy: 0.6610 - lr: 1.0000e-07\n",
      "Epoch 71/100\n",
      "8/8 [==============================] - 0s 4ms/step - loss: 0.6056 - accuracy: 0.7682 - val_loss: 0.8263 - val_accuracy: 0.6610 - lr: 1.0000e-07\n",
      "Epoch 72/100\n",
      "8/8 [==============================] - 0s 4ms/step - loss: 0.6056 - accuracy: 0.7682 - val_loss: 0.8263 - val_accuracy: 0.6610 - lr: 1.0000e-08\n",
      "Epoch 73/100\n",
      "8/8 [==============================] - 0s 4ms/step - loss: 0.6056 - accuracy: 0.7682 - val_loss: 0.8263 - val_accuracy: 0.6610 - lr: 1.0000e-08\n",
      "Epoch 74/100\n",
      "8/8 [==============================] - 0s 4ms/step - loss: 0.6056 - accuracy: 0.7682 - val_loss: 0.8263 - val_accuracy: 0.6610 - lr: 1.0000e-08\n",
      "Epoch 75/100\n",
      "8/8 [==============================] - 0s 4ms/step - loss: 0.6056 - accuracy: 0.7682 - val_loss: 0.8263 - val_accuracy: 0.6610 - lr: 1.0000e-08\n",
      "Epoch 76/100\n",
      "8/8 [==============================] - 0s 4ms/step - loss: 0.6056 - accuracy: 0.7682 - val_loss: 0.8263 - val_accuracy: 0.6610 - lr: 1.0000e-08\n",
      "Epoch 77/100\n",
      "8/8 [==============================] - 0s 4ms/step - loss: 0.6056 - accuracy: 0.7682 - val_loss: 0.8263 - val_accuracy: 0.6610 - lr: 1.0000e-08\n",
      "Epoch 78/100\n",
      "8/8 [==============================] - 0s 4ms/step - loss: 0.6056 - accuracy: 0.7682 - val_loss: 0.8263 - val_accuracy: 0.6610 - lr: 1.0000e-08\n",
      "Epoch 79/100\n",
      "8/8 [==============================] - 0s 3ms/step - loss: 0.6056 - accuracy: 0.7682 - val_loss: 0.8263 - val_accuracy: 0.6610 - lr: 1.0000e-08\n",
      "Epoch 80/100\n",
      "8/8 [==============================] - 0s 4ms/step - loss: 0.6056 - accuracy: 0.7682 - val_loss: 0.8263 - val_accuracy: 0.6610 - lr: 1.0000e-08\n",
      "Epoch 81/100\n",
      "8/8 [==============================] - 0s 4ms/step - loss: 0.6056 - accuracy: 0.7682 - val_loss: 0.8263 - val_accuracy: 0.6610 - lr: 1.0000e-08\n",
      "Epoch 82/100\n",
      "8/8 [==============================] - 0s 4ms/step - loss: 0.6056 - accuracy: 0.7682 - val_loss: 0.8263 - val_accuracy: 0.6610 - lr: 1.0000e-09\n",
      "Epoch 83/100\n",
      "8/8 [==============================] - 0s 4ms/step - loss: 0.6056 - accuracy: 0.7682 - val_loss: 0.8263 - val_accuracy: 0.6610 - lr: 1.0000e-09\n",
      "Epoch 84/100\n",
      "8/8 [==============================] - 0s 4ms/step - loss: 0.6056 - accuracy: 0.7682 - val_loss: 0.8263 - val_accuracy: 0.6610 - lr: 1.0000e-09\n",
      "Epoch 85/100\n",
      "8/8 [==============================] - 0s 4ms/step - loss: 0.6056 - accuracy: 0.7682 - val_loss: 0.8263 - val_accuracy: 0.6610 - lr: 1.0000e-09\n",
      "Epoch 86/100\n",
      "8/8 [==============================] - 0s 4ms/step - loss: 0.6056 - accuracy: 0.7682 - val_loss: 0.8263 - val_accuracy: 0.6610 - lr: 1.0000e-09\n",
      "Epoch 87/100\n",
      "8/8 [==============================] - 0s 4ms/step - loss: 0.6056 - accuracy: 0.7682 - val_loss: 0.8263 - val_accuracy: 0.6610 - lr: 1.0000e-09\n",
      "Epoch 88/100\n",
      "8/8 [==============================] - 0s 4ms/step - loss: 0.6056 - accuracy: 0.7682 - val_loss: 0.8263 - val_accuracy: 0.6610 - lr: 1.0000e-09\n",
      "Epoch 89/100\n",
      "8/8 [==============================] - 0s 4ms/step - loss: 0.6056 - accuracy: 0.7682 - val_loss: 0.8263 - val_accuracy: 0.6610 - lr: 1.0000e-09\n",
      "Epoch 90/100\n",
      "8/8 [==============================] - 0s 4ms/step - loss: 0.6056 - accuracy: 0.7682 - val_loss: 0.8263 - val_accuracy: 0.6610 - lr: 1.0000e-09\n",
      "Epoch 91/100\n",
      "8/8 [==============================] - 0s 4ms/step - loss: 0.6056 - accuracy: 0.7682 - val_loss: 0.8263 - val_accuracy: 0.6610 - lr: 1.0000e-09\n",
      "Epoch 92/100\n",
      "8/8 [==============================] - 0s 4ms/step - loss: 0.6056 - accuracy: 0.7682 - val_loss: 0.8263 - val_accuracy: 0.6610 - lr: 1.0000e-10\n",
      "Epoch 93/100\n",
      "8/8 [==============================] - 0s 4ms/step - loss: 0.6056 - accuracy: 0.7682 - val_loss: 0.8263 - val_accuracy: 0.6610 - lr: 1.0000e-10\n",
      "Epoch 94/100\n",
      "8/8 [==============================] - 0s 4ms/step - loss: 0.6056 - accuracy: 0.7682 - val_loss: 0.8263 - val_accuracy: 0.6610 - lr: 1.0000e-10\n",
      "Epoch 95/100\n",
      "8/8 [==============================] - 0s 4ms/step - loss: 0.6056 - accuracy: 0.7682 - val_loss: 0.8263 - val_accuracy: 0.6610 - lr: 1.0000e-10\n",
      "Epoch 96/100\n",
      "8/8 [==============================] - 0s 4ms/step - loss: 0.6056 - accuracy: 0.7682 - val_loss: 0.8263 - val_accuracy: 0.6610 - lr: 1.0000e-10\n",
      "Epoch 97/100\n",
      "8/8 [==============================] - 0s 4ms/step - loss: 0.6056 - accuracy: 0.7682 - val_loss: 0.8263 - val_accuracy: 0.6610 - lr: 1.0000e-10\n",
      "Epoch 98/100\n",
      "8/8 [==============================] - 0s 4ms/step - loss: 0.6056 - accuracy: 0.7682 - val_loss: 0.8263 - val_accuracy: 0.6610 - lr: 1.0000e-10\n",
      "Epoch 99/100\n",
      "8/8 [==============================] - 0s 4ms/step - loss: 0.6056 - accuracy: 0.7682 - val_loss: 0.8263 - val_accuracy: 0.6610 - lr: 1.0000e-10\n",
      "Epoch 100/100\n",
      "8/8 [==============================] - 0s 4ms/step - loss: 0.6056 - accuracy: 0.7682 - val_loss: 0.8263 - val_accuracy: 0.6610 - lr: 1.0000e-10\n"
     ]
    }
   ],
   "source": [
    "inputs = tf.keras.Input(shape=(num_features,))\n",
    "x = tf.keras.layers.Dense(64, activation='relu')(inputs)\n",
    "x = tf.keras.layers.Dense(64, activation='relu')(x)\n",
    "outputs = tf.keras.layers.Dense(num_classes, activation='softmax')(x)\n",
    "\n",
    "model = tf.keras.Model(inputs=inputs, outputs=outputs)\n",
    "\n",
    "\n",
    "model.compile(\n",
    "    optimizer='adam',\n",
    "    loss='sparse_categorical_crossentropy',\n",
    "    metrics=['accuracy']\n",
    ")\n",
    "\n",
    "\n",
    "batch_size = 32\n",
    "epochs = 100\n",
    "\n",
    "history = model.fit(\n",
    "    X_train,\n",
    "    y_train,\n",
    "    validation_split=0.2,\n",
    "    batch_size=batch_size,\n",
    "    epochs=epochs,\n",
    "    callbacks=[tf.keras.callbacks.ReduceLROnPlateau()]\n",
    ")"
   ]
  },
  {
   "cell_type": "code",
   "execution_count": 105,
   "metadata": {},
   "outputs": [
    {
     "name": "stdout",
     "output_type": "stream",
     "text": [
      "4/4 [==============================] - 0s 1ms/step - loss: 0.8539 - accuracy: 0.6122\n"
     ]
    },
    {
     "data": {
      "text/plain": [
       "[0.8538872599601746, 0.6122449040412903]"
      ]
     },
     "execution_count": 105,
     "metadata": {},
     "output_type": "execute_result"
    }
   ],
   "source": [
    "model.evaluate(X_test, y_test)"
   ]
  },
  {
   "cell_type": "code",
   "execution_count": 90,
   "metadata": {},
   "outputs": [
    {
     "name": "stdout",
     "output_type": "stream",
     "text": [
      "Epoch 1/100\n",
      "15/15 [==============================] - 0s 9ms/step - loss: -0.7302 - accuracy: 0.5794 - val_loss: -0.5224 - val_accuracy: 0.5932 - lr: 0.0010\n",
      "Epoch 2/100\n",
      "15/15 [==============================] - 0s 3ms/step - loss: -1.3333 - accuracy: 0.5794 - val_loss: -0.8036 - val_accuracy: 0.5932 - lr: 0.0010\n",
      "Epoch 3/100\n",
      "15/15 [==============================] - 0s 3ms/step - loss: -1.9987 - accuracy: 0.5794 - val_loss: -1.1249 - val_accuracy: 0.5932 - lr: 0.0010\n",
      "Epoch 4/100\n",
      "15/15 [==============================] - 0s 3ms/step - loss: -2.7570 - accuracy: 0.5794 - val_loss: -1.5461 - val_accuracy: 0.5932 - lr: 0.0010\n",
      "Epoch 5/100\n",
      "15/15 [==============================] - 0s 3ms/step - loss: -3.8497 - accuracy: 0.5794 - val_loss: -2.0466 - val_accuracy: 0.5932 - lr: 0.0010\n",
      "Epoch 6/100\n",
      "15/15 [==============================] - 0s 3ms/step - loss: -5.1820 - accuracy: 0.5794 - val_loss: -2.6038 - val_accuracy: 0.5932 - lr: 0.0010\n",
      "Epoch 7/100\n",
      "15/15 [==============================] - 0s 3ms/step - loss: -6.8332 - accuracy: 0.5794 - val_loss: -3.6489 - val_accuracy: 0.5932 - lr: 0.0010\n",
      "Epoch 8/100\n",
      "15/15 [==============================] - 0s 3ms/step - loss: -9.4652 - accuracy: 0.5794 - val_loss: -4.8100 - val_accuracy: 0.5932 - lr: 0.0010\n",
      "Epoch 9/100\n",
      "15/15 [==============================] - 0s 3ms/step - loss: -11.6788 - accuracy: 0.5794 - val_loss: -6.6779 - val_accuracy: 0.5932 - lr: 0.0010\n",
      "Epoch 10/100\n",
      "15/15 [==============================] - 0s 3ms/step - loss: -16.0256 - accuracy: 0.5794 - val_loss: -8.2728 - val_accuracy: 0.5932 - lr: 0.0010\n",
      "Epoch 11/100\n",
      "15/15 [==============================] - 0s 2ms/step - loss: -19.7795 - accuracy: 0.5794 - val_loss: -10.6882 - val_accuracy: 0.5932 - lr: 0.0010\n",
      "Epoch 12/100\n",
      "15/15 [==============================] - 0s 3ms/step - loss: -25.0575 - accuracy: 0.5794 - val_loss: -13.8142 - val_accuracy: 0.5932 - lr: 0.0010\n",
      "Epoch 13/100\n",
      "15/15 [==============================] - 0s 3ms/step - loss: -33.3478 - accuracy: 0.5794 - val_loss: -17.0540 - val_accuracy: 0.5932 - lr: 0.0010\n",
      "Epoch 14/100\n",
      "15/15 [==============================] - 0s 3ms/step - loss: -41.9459 - accuracy: 0.5794 - val_loss: -20.7444 - val_accuracy: 0.5932 - lr: 0.0010\n",
      "Epoch 15/100\n",
      "15/15 [==============================] - 0s 3ms/step - loss: -51.0065 - accuracy: 0.5794 - val_loss: -26.3630 - val_accuracy: 0.5932 - lr: 0.0010\n",
      "Epoch 16/100\n",
      "15/15 [==============================] - 0s 3ms/step - loss: -63.6069 - accuracy: 0.5794 - val_loss: -32.5542 - val_accuracy: 0.5932 - lr: 0.0010\n",
      "Epoch 17/100\n",
      "15/15 [==============================] - 0s 3ms/step - loss: -76.9706 - accuracy: 0.5794 - val_loss: -39.4585 - val_accuracy: 0.5932 - lr: 0.0010\n",
      "Epoch 18/100\n",
      "15/15 [==============================] - 0s 3ms/step - loss: -93.2606 - accuracy: 0.5794 - val_loss: -46.2907 - val_accuracy: 0.5932 - lr: 0.0010\n",
      "Epoch 19/100\n",
      "15/15 [==============================] - 0s 3ms/step - loss: -110.3816 - accuracy: 0.5794 - val_loss: -54.1997 - val_accuracy: 0.5932 - lr: 0.0010\n",
      "Epoch 20/100\n",
      "15/15 [==============================] - 0s 2ms/step - loss: -129.5624 - accuracy: 0.5794 - val_loss: -63.0997 - val_accuracy: 0.5932 - lr: 0.0010\n",
      "Epoch 21/100\n",
      "15/15 [==============================] - 0s 3ms/step - loss: -150.9692 - accuracy: 0.5794 - val_loss: -74.6754 - val_accuracy: 0.5932 - lr: 0.0010\n",
      "Epoch 22/100\n",
      "15/15 [==============================] - 0s 3ms/step - loss: -175.7744 - accuracy: 0.5794 - val_loss: -88.4419 - val_accuracy: 0.5932 - lr: 0.0010\n",
      "Epoch 23/100\n",
      "15/15 [==============================] - 0s 2ms/step - loss: -204.6777 - accuracy: 0.5794 - val_loss: -102.8564 - val_accuracy: 0.5932 - lr: 0.0010\n",
      "Epoch 24/100\n",
      "15/15 [==============================] - 0s 2ms/step - loss: -237.5887 - accuracy: 0.5794 - val_loss: -114.7570 - val_accuracy: 0.5932 - lr: 0.0010\n",
      "Epoch 25/100\n",
      "15/15 [==============================] - 0s 3ms/step - loss: -266.0941 - accuracy: 0.5794 - val_loss: -131.7881 - val_accuracy: 0.5932 - lr: 0.0010\n",
      "Epoch 26/100\n",
      "15/15 [==============================] - 0s 3ms/step - loss: -306.8998 - accuracy: 0.5794 - val_loss: -147.8627 - val_accuracy: 0.5932 - lr: 0.0010\n",
      "Epoch 27/100\n",
      "15/15 [==============================] - 0s 3ms/step - loss: -340.5706 - accuracy: 0.5794 - val_loss: -170.8232 - val_accuracy: 0.5932 - lr: 0.0010\n",
      "Epoch 28/100\n",
      "15/15 [==============================] - 0s 3ms/step - loss: -394.9610 - accuracy: 0.5794 - val_loss: -190.7863 - val_accuracy: 0.5932 - lr: 0.0010\n",
      "Epoch 29/100\n",
      "15/15 [==============================] - 0s 3ms/step - loss: -442.5254 - accuracy: 0.5794 - val_loss: -215.1482 - val_accuracy: 0.5932 - lr: 0.0010\n",
      "Epoch 30/100\n",
      "15/15 [==============================] - 0s 2ms/step - loss: -500.4879 - accuracy: 0.5794 - val_loss: -240.0353 - val_accuracy: 0.5932 - lr: 0.0010\n",
      "Epoch 31/100\n",
      "15/15 [==============================] - 0s 3ms/step - loss: -557.8993 - accuracy: 0.5794 - val_loss: -269.1365 - val_accuracy: 0.5932 - lr: 0.0010\n",
      "Epoch 32/100\n",
      "15/15 [==============================] - 0s 3ms/step - loss: -616.8159 - accuracy: 0.5794 - val_loss: -300.3911 - val_accuracy: 0.5932 - lr: 0.0010\n",
      "Epoch 33/100\n",
      "15/15 [==============================] - 0s 3ms/step - loss: -686.2585 - accuracy: 0.5794 - val_loss: -331.9967 - val_accuracy: 0.5932 - lr: 0.0010\n",
      "Epoch 34/100\n",
      "15/15 [==============================] - 0s 3ms/step - loss: -753.5886 - accuracy: 0.5794 - val_loss: -369.9867 - val_accuracy: 0.5932 - lr: 0.0010\n",
      "Epoch 35/100\n",
      "15/15 [==============================] - 0s 3ms/step - loss: -838.2576 - accuracy: 0.5794 - val_loss: -408.1823 - val_accuracy: 0.5932 - lr: 0.0010\n",
      "Epoch 36/100\n",
      "15/15 [==============================] - 0s 3ms/step - loss: -932.2820 - accuracy: 0.5794 - val_loss: -447.4163 - val_accuracy: 0.5932 - lr: 0.0010\n",
      "Epoch 37/100\n",
      "15/15 [==============================] - 0s 2ms/step - loss: -1022.7208 - accuracy: 0.5794 - val_loss: -494.4749 - val_accuracy: 0.5932 - lr: 0.0010\n",
      "Epoch 38/100\n",
      "15/15 [==============================] - 0s 2ms/step - loss: -1126.6329 - accuracy: 0.5794 - val_loss: -542.7521 - val_accuracy: 0.5932 - lr: 0.0010\n",
      "Epoch 39/100\n",
      "15/15 [==============================] - 0s 2ms/step - loss: -1234.9268 - accuracy: 0.5794 - val_loss: -594.4260 - val_accuracy: 0.5932 - lr: 0.0010\n",
      "Epoch 40/100\n",
      "15/15 [==============================] - 0s 3ms/step - loss: -1349.3409 - accuracy: 0.5794 - val_loss: -647.5882 - val_accuracy: 0.5932 - lr: 0.0010\n",
      "Epoch 41/100\n",
      "15/15 [==============================] - 0s 3ms/step - loss: -1475.9971 - accuracy: 0.5794 - val_loss: -704.0861 - val_accuracy: 0.5932 - lr: 0.0010\n",
      "Epoch 42/100\n",
      "15/15 [==============================] - 0s 3ms/step - loss: -1601.0793 - accuracy: 0.5794 - val_loss: -761.1907 - val_accuracy: 0.5932 - lr: 0.0010\n",
      "Epoch 43/100\n",
      "15/15 [==============================] - 0s 3ms/step - loss: -1730.8491 - accuracy: 0.5794 - val_loss: -819.9240 - val_accuracy: 0.5932 - lr: 0.0010\n",
      "Epoch 44/100\n",
      "15/15 [==============================] - 0s 2ms/step - loss: -1851.7650 - accuracy: 0.5794 - val_loss: -885.6087 - val_accuracy: 0.5932 - lr: 0.0010\n",
      "Epoch 45/100\n",
      "15/15 [==============================] - 0s 2ms/step - loss: -1986.9508 - accuracy: 0.5794 - val_loss: -959.9258 - val_accuracy: 0.5932 - lr: 0.0010\n",
      "Epoch 46/100\n",
      "15/15 [==============================] - 0s 3ms/step - loss: -2155.2688 - accuracy: 0.5794 - val_loss: -1013.3748 - val_accuracy: 0.5932 - lr: 0.0010\n",
      "Epoch 47/100\n",
      "15/15 [==============================] - 0s 2ms/step - loss: -2275.2288 - accuracy: 0.5794 - val_loss: -1086.7317 - val_accuracy: 0.5932 - lr: 0.0010\n",
      "Epoch 48/100\n",
      "15/15 [==============================] - 0s 3ms/step - loss: -2426.7415 - accuracy: 0.5794 - val_loss: -1159.2434 - val_accuracy: 0.5932 - lr: 0.0010\n",
      "Epoch 49/100\n",
      "15/15 [==============================] - 0s 2ms/step - loss: -2573.7639 - accuracy: 0.5794 - val_loss: -1238.9760 - val_accuracy: 0.5932 - lr: 0.0010\n",
      "Epoch 50/100\n",
      "15/15 [==============================] - 0s 3ms/step - loss: -2749.5200 - accuracy: 0.5794 - val_loss: -1314.3315 - val_accuracy: 0.5932 - lr: 0.0010\n",
      "Epoch 51/100\n",
      "15/15 [==============================] - 0s 3ms/step - loss: -2921.7708 - accuracy: 0.5794 - val_loss: -1391.1388 - val_accuracy: 0.5932 - lr: 0.0010\n",
      "Epoch 52/100\n",
      "15/15 [==============================] - 0s 3ms/step - loss: -3107.1799 - accuracy: 0.5794 - val_loss: -1455.4507 - val_accuracy: 0.5932 - lr: 0.0010\n",
      "Epoch 53/100\n",
      "15/15 [==============================] - 0s 3ms/step - loss: -3257.6011 - accuracy: 0.5794 - val_loss: -1542.2714 - val_accuracy: 0.5932 - lr: 0.0010\n",
      "Epoch 54/100\n",
      "15/15 [==============================] - 0s 3ms/step - loss: -3456.8262 - accuracy: 0.5794 - val_loss: -1627.5035 - val_accuracy: 0.5932 - lr: 0.0010\n",
      "Epoch 55/100\n",
      "15/15 [==============================] - 0s 3ms/step - loss: -3659.8796 - accuracy: 0.5794 - val_loss: -1713.0254 - val_accuracy: 0.5932 - lr: 0.0010\n",
      "Epoch 56/100\n",
      "15/15 [==============================] - 0s 2ms/step - loss: -3846.5427 - accuracy: 0.5794 - val_loss: -1812.1066 - val_accuracy: 0.5932 - lr: 0.0010\n",
      "Epoch 57/100\n",
      "15/15 [==============================] - 0s 2ms/step - loss: -4045.9993 - accuracy: 0.5794 - val_loss: -1913.9968 - val_accuracy: 0.5932 - lr: 0.0010\n",
      "Epoch 58/100\n",
      "15/15 [==============================] - 0s 2ms/step - loss: -4271.4341 - accuracy: 0.5794 - val_loss: -2013.4294 - val_accuracy: 0.5932 - lr: 0.0010\n",
      "Epoch 59/100\n",
      "15/15 [==============================] - 0s 2ms/step - loss: -4489.1733 - accuracy: 0.5794 - val_loss: -2108.2058 - val_accuracy: 0.5932 - lr: 0.0010\n",
      "Epoch 60/100\n",
      "15/15 [==============================] - 0s 2ms/step - loss: -4692.5591 - accuracy: 0.5794 - val_loss: -2212.8340 - val_accuracy: 0.5932 - lr: 0.0010\n",
      "Epoch 61/100\n",
      "15/15 [==============================] - 0s 2ms/step - loss: -4945.3188 - accuracy: 0.5794 - val_loss: -2312.3469 - val_accuracy: 0.5932 - lr: 0.0010\n",
      "Epoch 62/100\n",
      "15/15 [==============================] - 0s 3ms/step - loss: -5166.4795 - accuracy: 0.5794 - val_loss: -2418.2664 - val_accuracy: 0.5932 - lr: 0.0010\n",
      "Epoch 63/100\n",
      "15/15 [==============================] - 0s 2ms/step - loss: -5390.3657 - accuracy: 0.5794 - val_loss: -2535.8342 - val_accuracy: 0.5932 - lr: 0.0010\n",
      "Epoch 64/100\n",
      "15/15 [==============================] - 0s 3ms/step - loss: -5601.7422 - accuracy: 0.5794 - val_loss: -2654.3723 - val_accuracy: 0.5932 - lr: 0.0010\n",
      "Epoch 65/100\n",
      "15/15 [==============================] - 0s 2ms/step - loss: -5878.6128 - accuracy: 0.5794 - val_loss: -2727.5747 - val_accuracy: 0.5932 - lr: 0.0010\n",
      "Epoch 66/100\n",
      "15/15 [==============================] - 0s 2ms/step - loss: -6086.4033 - accuracy: 0.5794 - val_loss: -2852.8174 - val_accuracy: 0.5932 - lr: 0.0010\n",
      "Epoch 67/100\n",
      "15/15 [==============================] - 0s 3ms/step - loss: -6354.6421 - accuracy: 0.5794 - val_loss: -2978.0713 - val_accuracy: 0.5932 - lr: 0.0010\n",
      "Epoch 68/100\n",
      "15/15 [==============================] - 0s 3ms/step - loss: -6629.7031 - accuracy: 0.5794 - val_loss: -3101.5994 - val_accuracy: 0.5932 - lr: 0.0010\n",
      "Epoch 69/100\n",
      "15/15 [==============================] - 0s 3ms/step - loss: -6853.2383 - accuracy: 0.5794 - val_loss: -3241.1526 - val_accuracy: 0.5932 - lr: 0.0010\n",
      "Epoch 70/100\n",
      "15/15 [==============================] - 0s 3ms/step - loss: -7183.0059 - accuracy: 0.5794 - val_loss: -3356.8269 - val_accuracy: 0.5932 - lr: 0.0010\n",
      "Epoch 71/100\n",
      "15/15 [==============================] - 0s 3ms/step - loss: -7467.2729 - accuracy: 0.5794 - val_loss: -3475.8386 - val_accuracy: 0.5932 - lr: 0.0010\n",
      "Epoch 72/100\n",
      "15/15 [==============================] - 0s 3ms/step - loss: -7739.0000 - accuracy: 0.5794 - val_loss: -3611.6804 - val_accuracy: 0.5932 - lr: 0.0010\n",
      "Epoch 73/100\n",
      "15/15 [==============================] - 0s 2ms/step - loss: -8003.0430 - accuracy: 0.5794 - val_loss: -3774.9519 - val_accuracy: 0.5932 - lr: 0.0010\n",
      "Epoch 74/100\n",
      "15/15 [==============================] - 0s 2ms/step - loss: -8376.9980 - accuracy: 0.5794 - val_loss: -3894.0803 - val_accuracy: 0.5932 - lr: 0.0010\n",
      "Epoch 75/100\n",
      "15/15 [==============================] - 0s 3ms/step - loss: -8685.5576 - accuracy: 0.5794 - val_loss: -4035.8667 - val_accuracy: 0.5932 - lr: 0.0010\n",
      "Epoch 76/100\n",
      "15/15 [==============================] - 0s 3ms/step - loss: -9009.9785 - accuracy: 0.5794 - val_loss: -4199.5620 - val_accuracy: 0.5932 - lr: 0.0010\n",
      "Epoch 77/100\n",
      "15/15 [==============================] - 0s 2ms/step - loss: -9365.2930 - accuracy: 0.5794 - val_loss: -4376.6284 - val_accuracy: 0.5932 - lr: 0.0010\n",
      "Epoch 78/100\n",
      "15/15 [==============================] - 0s 2ms/step - loss: -9731.2637 - accuracy: 0.5794 - val_loss: -4538.5371 - val_accuracy: 0.5932 - lr: 0.0010\n",
      "Epoch 79/100\n",
      "15/15 [==============================] - 0s 3ms/step - loss: -10069.4277 - accuracy: 0.5794 - val_loss: -4712.7949 - val_accuracy: 0.5932 - lr: 0.0010\n",
      "Epoch 80/100\n",
      "15/15 [==============================] - 0s 2ms/step - loss: -10477.2217 - accuracy: 0.5794 - val_loss: -4875.6890 - val_accuracy: 0.5932 - lr: 0.0010\n",
      "Epoch 81/100\n",
      "15/15 [==============================] - 0s 2ms/step - loss: -10838.3506 - accuracy: 0.5794 - val_loss: -5033.1313 - val_accuracy: 0.5932 - lr: 0.0010\n",
      "Epoch 82/100\n",
      "15/15 [==============================] - 0s 2ms/step - loss: -11223.5430 - accuracy: 0.5794 - val_loss: -5204.4370 - val_accuracy: 0.5932 - lr: 0.0010\n",
      "Epoch 83/100\n",
      "15/15 [==============================] - 0s 2ms/step - loss: -11549.0010 - accuracy: 0.5794 - val_loss: -5420.5698 - val_accuracy: 0.5932 - lr: 0.0010\n",
      "Epoch 84/100\n",
      "15/15 [==============================] - 0s 2ms/step - loss: -12041.1787 - accuracy: 0.5794 - val_loss: -5600.9209 - val_accuracy: 0.5932 - lr: 0.0010\n",
      "Epoch 85/100\n",
      "15/15 [==============================] - 0s 2ms/step - loss: -12448.9844 - accuracy: 0.5794 - val_loss: -5780.0981 - val_accuracy: 0.5932 - lr: 0.0010\n",
      "Epoch 86/100\n",
      "15/15 [==============================] - 0s 2ms/step - loss: -12820.7822 - accuracy: 0.5794 - val_loss: -5968.9141 - val_accuracy: 0.5932 - lr: 0.0010\n",
      "Epoch 87/100\n",
      "15/15 [==============================] - 0s 2ms/step - loss: -13244.6289 - accuracy: 0.5794 - val_loss: -6173.7300 - val_accuracy: 0.5932 - lr: 0.0010\n",
      "Epoch 88/100\n",
      "15/15 [==============================] - 0s 2ms/step - loss: -13664.8359 - accuracy: 0.5794 - val_loss: -6377.7646 - val_accuracy: 0.5932 - lr: 0.0010\n",
      "Epoch 89/100\n",
      "15/15 [==============================] - 0s 2ms/step - loss: -14116.5684 - accuracy: 0.5794 - val_loss: -6562.4897 - val_accuracy: 0.5932 - lr: 0.0010\n",
      "Epoch 90/100\n",
      "15/15 [==============================] - 0s 2ms/step - loss: -14561.7021 - accuracy: 0.5794 - val_loss: -6770.8506 - val_accuracy: 0.5932 - lr: 0.0010\n",
      "Epoch 91/100\n",
      "15/15 [==============================] - 0s 2ms/step - loss: -15026.9932 - accuracy: 0.5794 - val_loss: -6936.3340 - val_accuracy: 0.5932 - lr: 0.0010\n",
      "Epoch 92/100\n",
      "15/15 [==============================] - 0s 3ms/step - loss: -15433.3262 - accuracy: 0.5794 - val_loss: -7151.1304 - val_accuracy: 0.5932 - lr: 0.0010\n",
      "Epoch 93/100\n",
      "15/15 [==============================] - 0s 2ms/step - loss: -15881.9551 - accuracy: 0.5794 - val_loss: -7398.9292 - val_accuracy: 0.5932 - lr: 0.0010\n",
      "Epoch 94/100\n",
      "15/15 [==============================] - 0s 2ms/step - loss: -16412.8418 - accuracy: 0.5794 - val_loss: -7603.4902 - val_accuracy: 0.5932 - lr: 0.0010\n",
      "Epoch 95/100\n",
      "15/15 [==============================] - 0s 2ms/step - loss: -16799.8906 - accuracy: 0.5794 - val_loss: -7855.4990 - val_accuracy: 0.5932 - lr: 0.0010\n",
      "Epoch 96/100\n",
      "15/15 [==============================] - 0s 2ms/step - loss: -17361.8730 - accuracy: 0.5794 - val_loss: -8093.4214 - val_accuracy: 0.5932 - lr: 0.0010\n",
      "Epoch 97/100\n",
      "15/15 [==============================] - 0s 3ms/step - loss: -17906.5508 - accuracy: 0.5794 - val_loss: -8294.4395 - val_accuracy: 0.5932 - lr: 0.0010\n",
      "Epoch 98/100\n",
      "15/15 [==============================] - 0s 3ms/step - loss: -18334.0391 - accuracy: 0.5794 - val_loss: -8554.1416 - val_accuracy: 0.5932 - lr: 0.0010\n",
      "Epoch 99/100\n",
      "15/15 [==============================] - 0s 2ms/step - loss: -18886.3262 - accuracy: 0.5794 - val_loss: -8750.7021 - val_accuracy: 0.5932 - lr: 0.0010\n",
      "Epoch 100/100\n",
      "15/15 [==============================] - 0s 2ms/step - loss: -19360.5527 - accuracy: 0.5794 - val_loss: -9000.3193 - val_accuracy: 0.5932 - lr: 0.0010\n"
     ]
    }
   ],
   "source": [
    "inputs = tf.keras.Input(shape=(num_features,))\n",
    "x = tf.keras.layers.Dense(64, activation='relu')(inputs)\n",
    "x = tf.keras.layers.Dense(64, activation='relu')(x)\n",
    "outputs = tf.keras.layers.Dense(1, activation='sigmoid')(x)\n",
    "\n",
    "model = tf.keras.Model(inputs=inputs, outputs=outputs)\n",
    "\n",
    "\n",
    "model.compile(\n",
    "    optimizer='adam',\n",
    "    loss='binary_crossentropy',\n",
    "    metrics=['accuracy']\n",
    ")\n",
    "\n",
    "\n",
    "batch_size = 16\n",
    "epochs = 100\n",
    "\n",
    "history = model.fit(\n",
    "    X_train,\n",
    "    y_train,\n",
    "    validation_split=0.2,\n",
    "    batch_size=batch_size,\n",
    "    epochs=epochs,\n",
    "    callbacks=[tf.keras.callbacks.ReduceLROnPlateau()]\n",
    ")"
   ]
  },
  {
   "cell_type": "code",
   "execution_count": 91,
   "metadata": {},
   "outputs": [
    {
     "name": "stdout",
     "output_type": "stream",
     "text": [
      "4/4 [==============================] - 0s 1ms/step - loss: -5247.8237 - accuracy: 0.4898\n"
     ]
    },
    {
     "data": {
      "text/plain": [
       "[-5247.82373046875, 0.4897959232330322]"
      ]
     },
     "execution_count": 91,
     "metadata": {},
     "output_type": "execute_result"
    }
   ],
   "source": [
    "model.evaluate(X_test, y_test)\n"
   ]
  },
  {
   "cell_type": "code",
   "execution_count": 92,
   "metadata": {},
   "outputs": [],
   "source": [
    "model.save(\"df.h5\")"
   ]
  },
  {
   "cell_type": "code",
   "execution_count": 93,
   "metadata": {},
   "outputs": [
    {
     "ename": "TypeError",
     "evalue": "can't pickle _thread.RLock objects",
     "output_type": "error",
     "traceback": [
      "\u001b[1;31m---------------------------------------------------------------------------\u001b[0m",
      "\u001b[1;31mTypeError\u001b[0m                                 Traceback (most recent call last)",
      "\u001b[1;32m<ipython-input-93-8b32a8cdab8e>\u001b[0m in \u001b[0;36m<module>\u001b[1;34m\u001b[0m\n\u001b[0;32m      1\u001b[0m \u001b[1;32mimport\u001b[0m \u001b[0mpickle\u001b[0m\u001b[1;33m\u001b[0m\u001b[1;33m\u001b[0m\u001b[0m\n\u001b[0;32m      2\u001b[0m \u001b[0mpickle_out\u001b[0m\u001b[1;33m=\u001b[0m\u001b[0mopen\u001b[0m\u001b[1;33m(\u001b[0m\u001b[1;34m'model.pkl'\u001b[0m\u001b[1;33m,\u001b[0m\u001b[1;34m'wb'\u001b[0m\u001b[1;33m)\u001b[0m\u001b[1;33m\u001b[0m\u001b[1;33m\u001b[0m\u001b[0m\n\u001b[1;32m----> 3\u001b[1;33m \u001b[0mpickle\u001b[0m\u001b[1;33m.\u001b[0m\u001b[0mdump\u001b[0m\u001b[1;33m(\u001b[0m\u001b[0mmodel\u001b[0m\u001b[1;33m,\u001b[0m\u001b[0mpickle_out\u001b[0m\u001b[1;33m)\u001b[0m\u001b[1;33m\u001b[0m\u001b[1;33m\u001b[0m\u001b[0m\n\u001b[0m\u001b[0;32m      4\u001b[0m \u001b[0mpickle_out\u001b[0m\u001b[1;33m.\u001b[0m\u001b[0mclose\u001b[0m\u001b[1;33m(\u001b[0m\u001b[1;33m)\u001b[0m\u001b[1;33m\u001b[0m\u001b[1;33m\u001b[0m\u001b[0m\n",
      "\u001b[1;31mTypeError\u001b[0m: can't pickle _thread.RLock objects"
     ]
    }
   ],
   "source": [
    "import pickle\n",
    "pickle_out=open('model.pkl','wb')\n",
    "pickle.dump(model,pickle_out)\n",
    "pickle_out.close()"
   ]
  },
  {
   "cell_type": "code",
   "execution_count": null,
   "metadata": {},
   "outputs": [],
   "source": []
  },
  {
   "cell_type": "markdown",
   "metadata": {},
   "source": [
    "# Ensemble Learning in ML\n"
   ]
  },
  {
   "cell_type": "markdown",
   "metadata": {},
   "source": [
    "Over categorical data"
   ]
  },
  {
   "cell_type": "code",
   "execution_count": 96,
   "metadata": {},
   "outputs": [
    {
     "name": "stdout",
     "output_type": "stream",
     "text": [
      "0      3\n",
      "1      1\n",
      "2      1\n",
      "3      3\n",
      "4      4\n",
      "      ..\n",
      "385    4\n",
      "386    4\n",
      "387    4\n",
      "388    4\n",
      "389    4\n",
      "Name: Please rate your recent Mental Situation, Length: 390, dtype: int64\n"
     ]
    }
   ],
   "source": [
    "Y = df1['Please rate your recent Mental Situation']\n",
    "print(Y)"
   ]
  },
  {
   "cell_type": "code",
   "execution_count": 97,
   "metadata": {},
   "outputs": [],
   "source": [
    "from sklearn.model_selection import train_test_split"
   ]
  },
  {
   "cell_type": "code",
   "execution_count": 98,
   "metadata": {},
   "outputs": [],
   "source": [
    "X_train,X_test,y_train,y_test=train_test_split(df1.drop(['Please rate your recent Mental Situation'],axis='columns'),Y,random_state=42)"
   ]
  },
  {
   "cell_type": "code",
   "execution_count": 96,
   "metadata": {},
   "outputs": [],
   "source": [
    "from sklearn.ensemble import RandomForestClassifier\n",
    "from sklearn.linear_model import LogisticRegression\n",
    "from sklearn.tree import DecisionTreeClassifier\n",
    "from sklearn.svm import SVC"
   ]
  },
  {
   "cell_type": "code",
   "execution_count": 97,
   "metadata": {},
   "outputs": [],
   "source": [
    "m1=RandomForestClassifier()\n",
    "m2=LogisticRegression(multi_class='ovr')\n",
    "m3=DecisionTreeClassifier()\n",
    "m4=SVC() "
   ]
  },
  {
   "cell_type": "code",
   "execution_count": 98,
   "metadata": {},
   "outputs": [],
   "source": [
    "from sklearn.ensemble import VotingClassifier"
   ]
  },
  {
   "cell_type": "code",
   "execution_count": 99,
   "metadata": {},
   "outputs": [],
   "source": [
    "model=VotingClassifier([('rfc',m1),('lr',m2),('dtc',m3),('svm',m4)\n",
    "                       ]\n",
    "                      )"
   ]
  },
  {
   "cell_type": "code",
   "execution_count": 100,
   "metadata": {},
   "outputs": [
    {
     "name": "stderr",
     "output_type": "stream",
     "text": [
      "C:\\Users\\User\\Anaconda3\\envs\\mentalhealthprediction\\lib\\site-packages\\sklearn\\linear_model\\_logistic.py:818: ConvergenceWarning: lbfgs failed to converge (status=1):\n",
      "STOP: TOTAL NO. of ITERATIONS REACHED LIMIT.\n",
      "\n",
      "Increase the number of iterations (max_iter) or scale the data as shown in:\n",
      "    https://scikit-learn.org/stable/modules/preprocessing.html\n",
      "Please also refer to the documentation for alternative solver options:\n",
      "    https://scikit-learn.org/stable/modules/linear_model.html#logistic-regression\n",
      "  extra_warning_msg=_LOGISTIC_SOLVER_CONVERGENCE_MSG,\n",
      "C:\\Users\\User\\Anaconda3\\envs\\mentalhealthprediction\\lib\\site-packages\\sklearn\\linear_model\\_logistic.py:818: ConvergenceWarning: lbfgs failed to converge (status=1):\n",
      "STOP: TOTAL NO. of ITERATIONS REACHED LIMIT.\n",
      "\n",
      "Increase the number of iterations (max_iter) or scale the data as shown in:\n",
      "    https://scikit-learn.org/stable/modules/preprocessing.html\n",
      "Please also refer to the documentation for alternative solver options:\n",
      "    https://scikit-learn.org/stable/modules/linear_model.html#logistic-regression\n",
      "  extra_warning_msg=_LOGISTIC_SOLVER_CONVERGENCE_MSG,\n",
      "C:\\Users\\User\\Anaconda3\\envs\\mentalhealthprediction\\lib\\site-packages\\sklearn\\linear_model\\_logistic.py:818: ConvergenceWarning: lbfgs failed to converge (status=1):\n",
      "STOP: TOTAL NO. of ITERATIONS REACHED LIMIT.\n",
      "\n",
      "Increase the number of iterations (max_iter) or scale the data as shown in:\n",
      "    https://scikit-learn.org/stable/modules/preprocessing.html\n",
      "Please also refer to the documentation for alternative solver options:\n",
      "    https://scikit-learn.org/stable/modules/linear_model.html#logistic-regression\n",
      "  extra_warning_msg=_LOGISTIC_SOLVER_CONVERGENCE_MSG,\n"
     ]
    },
    {
     "data": {
      "text/plain": [
       "VotingClassifier(estimators=[('rfc', RandomForestClassifier()),\n",
       "                             ('lr', LogisticRegression(multi_class='ovr')),\n",
       "                             ('dtc', DecisionTreeClassifier()),\n",
       "                             ('svm', SVC())])"
      ]
     },
     "execution_count": 100,
     "metadata": {},
     "output_type": "execute_result"
    }
   ],
   "source": [
    "model.fit(X_train,y_train)"
   ]
  },
  {
   "cell_type": "code",
   "execution_count": 101,
   "metadata": {},
   "outputs": [
    {
     "data": {
      "text/plain": [
       "61.224489795918366"
      ]
     },
     "execution_count": 101,
     "metadata": {},
     "output_type": "execute_result"
    }
   ],
   "source": [
    "model.score(X_test,y_test)*100"
   ]
  },
  {
   "cell_type": "markdown",
   "metadata": {},
   "source": [
    "Ensemble over binary data"
   ]
  },
  {
   "cell_type": "code",
   "execution_count": 105,
   "metadata": {},
   "outputs": [],
   "source": [
    "#over binary data\n",
    "Y = df1['Please rate your recent Mental Situation'].apply(lambda y_value : 1 if y_value>=2 else 0 )"
   ]
  },
  {
   "cell_type": "code",
   "execution_count": 106,
   "metadata": {},
   "outputs": [],
   "source": [
    "X_train,X_test,y_train,y_test=train_test_split(df1.drop(['Please rate your recent Mental Situation'],axis='columns'),Y,random_state=42)"
   ]
  },
  {
   "cell_type": "code",
   "execution_count": 107,
   "metadata": {},
   "outputs": [],
   "source": [
    "from sklearn.ensemble import RandomForestClassifier\n",
    "from sklearn.linear_model import LogisticRegression\n",
    "from sklearn.tree import DecisionTreeClassifier\n",
    "from sklearn.svm import SVC"
   ]
  },
  {
   "cell_type": "code",
   "execution_count": 108,
   "metadata": {},
   "outputs": [],
   "source": [
    "m1=RandomForestClassifier()\n",
    "m2=LogisticRegression()\n",
    "m3=DecisionTreeClassifier()\n",
    "m4=SVC() "
   ]
  },
  {
   "cell_type": "code",
   "execution_count": 109,
   "metadata": {},
   "outputs": [],
   "source": [
    "from sklearn.ensemble import VotingClassifier"
   ]
  },
  {
   "cell_type": "code",
   "execution_count": 110,
   "metadata": {},
   "outputs": [],
   "source": [
    "modelben=VotingClassifier([('rfc',m1),('lr',m2),('dtc',m3),('svm',m4)\n",
    "                       ]\n",
    "                      )"
   ]
  },
  {
   "cell_type": "code",
   "execution_count": 111,
   "metadata": {},
   "outputs": [
    {
     "name": "stderr",
     "output_type": "stream",
     "text": [
      "D:\\Python\\lib\\site-packages\\sklearn\\ensemble\\forest.py:245: FutureWarning: The default value of n_estimators will change from 10 in version 0.20 to 100 in 0.22.\n",
      "  \"10 in version 0.20 to 100 in 0.22.\", FutureWarning)\n",
      "D:\\Python\\lib\\site-packages\\sklearn\\linear_model\\logistic.py:432: FutureWarning: Default solver will be changed to 'lbfgs' in 0.22. Specify a solver to silence this warning.\n",
      "  FutureWarning)\n",
      "D:\\Python\\lib\\site-packages\\sklearn\\svm\\base.py:193: FutureWarning: The default value of gamma will change from 'auto' to 'scale' in version 0.22 to account better for unscaled features. Set gamma explicitly to 'auto' or 'scale' to avoid this warning.\n",
      "  \"avoid this warning.\", FutureWarning)\n"
     ]
    },
    {
     "data": {
      "text/plain": [
       "VotingClassifier(estimators=[('rfc',\n",
       "                              RandomForestClassifier(bootstrap=True,\n",
       "                                                     class_weight=None,\n",
       "                                                     criterion='gini',\n",
       "                                                     max_depth=None,\n",
       "                                                     max_features='auto',\n",
       "                                                     max_leaf_nodes=None,\n",
       "                                                     min_impurity_decrease=0.0,\n",
       "                                                     min_impurity_split=None,\n",
       "                                                     min_samples_leaf=1,\n",
       "                                                     min_samples_split=2,\n",
       "                                                     min_weight_fraction_leaf=0.0,\n",
       "                                                     n_estimators='warn',\n",
       "                                                     n_jobs=None,\n",
       "                                                     oob_score=False,\n",
       "                                                     random_state=None,\n",
       "                                                     ve...\n",
       "                                                     min_weight_fraction_leaf=0.0,\n",
       "                                                     presort=False,\n",
       "                                                     random_state=None,\n",
       "                                                     splitter='best')),\n",
       "                             ('svm',\n",
       "                              SVC(C=1.0, cache_size=200, class_weight=None,\n",
       "                                  coef0=0.0, decision_function_shape='ovr',\n",
       "                                  degree=3, gamma='auto_deprecated',\n",
       "                                  kernel='rbf', max_iter=-1, probability=False,\n",
       "                                  random_state=None, shrinking=True, tol=0.001,\n",
       "                                  verbose=False))],\n",
       "                 flatten_transform=True, n_jobs=None, voting='hard',\n",
       "                 weights=None)"
      ]
     },
     "execution_count": 111,
     "metadata": {},
     "output_type": "execute_result"
    }
   ],
   "source": [
    "modelben.fit(X_train,y_train)"
   ]
  },
  {
   "cell_type": "code",
   "execution_count": 112,
   "metadata": {},
   "outputs": [
    {
     "data": {
      "text/plain": [
       "82.6530612244898"
      ]
     },
     "execution_count": 112,
     "metadata": {},
     "output_type": "execute_result"
    }
   ],
   "source": [
    "modelben.score(X_test,y_test)*100"
   ]
  },
  {
   "cell_type": "code",
   "execution_count": 114,
   "metadata": {},
   "outputs": [],
   "source": [
    "import pickle\n",
    "pickle_out=open(\"modelben.pkl\",\"wb\")\n",
    "pickle.dump(modelben,pickle_out)\n",
    "pickle_out.close()"
   ]
  },
  {
   "cell_type": "code",
   "execution_count": null,
   "metadata": {},
   "outputs": [],
   "source": []
  },
  {
   "cell_type": "code",
   "execution_count": null,
   "metadata": {},
   "outputs": [],
   "source": []
  },
  {
   "cell_type": "code",
   "execution_count": null,
   "metadata": {},
   "outputs": [],
   "source": []
  },
  {
   "cell_type": "code",
   "execution_count": null,
   "metadata": {},
   "outputs": [],
   "source": []
  },
  {
   "cell_type": "code",
   "execution_count": null,
   "metadata": {},
   "outputs": [],
   "source": []
  },
  {
   "cell_type": "code",
   "execution_count": null,
   "metadata": {},
   "outputs": [],
   "source": []
  },
  {
   "cell_type": "code",
   "execution_count": null,
   "metadata": {},
   "outputs": [],
   "source": []
  },
  {
   "cell_type": "code",
   "execution_count": null,
   "metadata": {},
   "outputs": [],
   "source": []
  },
  {
   "cell_type": "code",
   "execution_count": null,
   "metadata": {},
   "outputs": [],
   "source": []
  },
  {
   "cell_type": "code",
   "execution_count": null,
   "metadata": {},
   "outputs": [],
   "source": []
  },
  {
   "cell_type": "code",
   "execution_count": null,
   "metadata": {},
   "outputs": [],
   "source": []
  },
  {
   "cell_type": "code",
   "execution_count": null,
   "metadata": {},
   "outputs": [],
   "source": []
  },
  {
   "cell_type": "code",
   "execution_count": null,
   "metadata": {},
   "outputs": [],
   "source": []
  },
  {
   "cell_type": "markdown",
   "metadata": {},
   "source": [
    "# ML algos\n",
    "\n"
   ]
  },
  {
   "cell_type": "code",
   "execution_count": 106,
   "metadata": {},
   "outputs": [
    {
     "data": {
      "text/html": [
       "<div>\n",
       "<style scoped>\n",
       "    .dataframe tbody tr th:only-of-type {\n",
       "        vertical-align: middle;\n",
       "    }\n",
       "\n",
       "    .dataframe tbody tr th {\n",
       "        vertical-align: top;\n",
       "    }\n",
       "\n",
       "    .dataframe thead th {\n",
       "        text-align: right;\n",
       "    }\n",
       "</style>\n",
       "<table border=\"1\" class=\"dataframe\">\n",
       "  <thead>\n",
       "    <tr style=\"text-align: right;\">\n",
       "      <th></th>\n",
       "      <th>Age</th>\n",
       "      <th>Gender</th>\n",
       "      <th>Marital status</th>\n",
       "      <th>Profession</th>\n",
       "      <th>Living With Family</th>\n",
       "      <th>Sleeping Duration</th>\n",
       "      <th>Tested Positive For COVID</th>\n",
       "      <th>Depression Problems From Past</th>\n",
       "      <th>Still Having Depression</th>\n",
       "      <th>Depression tenure</th>\n",
       "      <th>...</th>\n",
       "      <th>Hours spent on your own per day</th>\n",
       "      <th>Member of any club</th>\n",
       "      <th>Time With Friends</th>\n",
       "      <th>Do you have Social Media Addiction</th>\n",
       "      <th>Worried all the time</th>\n",
       "      <th>Get easily annoyed or irritable</th>\n",
       "      <th>Explorer</th>\n",
       "      <th>Tended to overreact on Situations</th>\n",
       "      <th>Select a Quote</th>\n",
       "      <th>Please rate your recent Mental Situation</th>\n",
       "    </tr>\n",
       "  </thead>\n",
       "  <tbody>\n",
       "    <tr>\n",
       "      <th>0</th>\n",
       "      <td>22</td>\n",
       "      <td>0</td>\n",
       "      <td>0</td>\n",
       "      <td>0</td>\n",
       "      <td>0</td>\n",
       "      <td>1</td>\n",
       "      <td>0</td>\n",
       "      <td>0</td>\n",
       "      <td>1</td>\n",
       "      <td>1</td>\n",
       "      <td>...</td>\n",
       "      <td>0</td>\n",
       "      <td>1</td>\n",
       "      <td>3</td>\n",
       "      <td>2</td>\n",
       "      <td>1</td>\n",
       "      <td>1</td>\n",
       "      <td>2</td>\n",
       "      <td>0</td>\n",
       "      <td>3</td>\n",
       "      <td>3</td>\n",
       "    </tr>\n",
       "    <tr>\n",
       "      <th>1</th>\n",
       "      <td>56</td>\n",
       "      <td>0</td>\n",
       "      <td>1</td>\n",
       "      <td>1</td>\n",
       "      <td>0</td>\n",
       "      <td>1</td>\n",
       "      <td>0</td>\n",
       "      <td>0</td>\n",
       "      <td>1</td>\n",
       "      <td>1</td>\n",
       "      <td>...</td>\n",
       "      <td>2</td>\n",
       "      <td>0</td>\n",
       "      <td>1</td>\n",
       "      <td>2</td>\n",
       "      <td>1</td>\n",
       "      <td>1</td>\n",
       "      <td>2</td>\n",
       "      <td>0</td>\n",
       "      <td>3</td>\n",
       "      <td>1</td>\n",
       "    </tr>\n",
       "    <tr>\n",
       "      <th>2</th>\n",
       "      <td>21</td>\n",
       "      <td>0</td>\n",
       "      <td>0</td>\n",
       "      <td>0</td>\n",
       "      <td>0</td>\n",
       "      <td>2</td>\n",
       "      <td>0</td>\n",
       "      <td>1</td>\n",
       "      <td>1</td>\n",
       "      <td>1</td>\n",
       "      <td>...</td>\n",
       "      <td>0</td>\n",
       "      <td>0</td>\n",
       "      <td>3</td>\n",
       "      <td>0</td>\n",
       "      <td>0</td>\n",
       "      <td>0</td>\n",
       "      <td>1</td>\n",
       "      <td>1</td>\n",
       "      <td>3</td>\n",
       "      <td>1</td>\n",
       "    </tr>\n",
       "    <tr>\n",
       "      <th>3</th>\n",
       "      <td>23</td>\n",
       "      <td>0</td>\n",
       "      <td>0</td>\n",
       "      <td>0</td>\n",
       "      <td>0</td>\n",
       "      <td>1</td>\n",
       "      <td>0</td>\n",
       "      <td>0</td>\n",
       "      <td>1</td>\n",
       "      <td>1</td>\n",
       "      <td>...</td>\n",
       "      <td>2</td>\n",
       "      <td>0</td>\n",
       "      <td>2</td>\n",
       "      <td>2</td>\n",
       "      <td>1</td>\n",
       "      <td>1</td>\n",
       "      <td>2</td>\n",
       "      <td>2</td>\n",
       "      <td>6</td>\n",
       "      <td>3</td>\n",
       "    </tr>\n",
       "    <tr>\n",
       "      <th>4</th>\n",
       "      <td>28</td>\n",
       "      <td>0</td>\n",
       "      <td>1</td>\n",
       "      <td>1</td>\n",
       "      <td>1</td>\n",
       "      <td>2</td>\n",
       "      <td>0</td>\n",
       "      <td>1</td>\n",
       "      <td>1</td>\n",
       "      <td>1</td>\n",
       "      <td>...</td>\n",
       "      <td>0</td>\n",
       "      <td>0</td>\n",
       "      <td>2</td>\n",
       "      <td>2</td>\n",
       "      <td>1</td>\n",
       "      <td>1</td>\n",
       "      <td>2</td>\n",
       "      <td>2</td>\n",
       "      <td>2</td>\n",
       "      <td>4</td>\n",
       "    </tr>\n",
       "  </tbody>\n",
       "</table>\n",
       "<p>5 rows × 24 columns</p>\n",
       "</div>"
      ],
      "text/plain": [
       "   Age  Gender  Marital status  Profession  Living With Family  \\\n",
       "0   22       0               0           0                   0   \n",
       "1   56       0               1           1                   0   \n",
       "2   21       0               0           0                   0   \n",
       "3   23       0               0           0                   0   \n",
       "4   28       0               1           1                   1   \n",
       "\n",
       "   Sleeping Duration  Tested Positive For COVID  \\\n",
       "0                  1                          0   \n",
       "1                  1                          0   \n",
       "2                  2                          0   \n",
       "3                  1                          0   \n",
       "4                  2                          0   \n",
       "\n",
       "   Depression Problems From Past  Still Having Depression  Depression tenure  \\\n",
       "0                              0                        1                  1   \n",
       "1                              0                        1                  1   \n",
       "2                              1                        1                  1   \n",
       "3                              0                        1                  1   \n",
       "4                              1                        1                  1   \n",
       "\n",
       "   ...  Hours spent on your own per day  Member of any club  \\\n",
       "0  ...                                0                   1   \n",
       "1  ...                                2                   0   \n",
       "2  ...                                0                   0   \n",
       "3  ...                                2                   0   \n",
       "4  ...                                0                   0   \n",
       "\n",
       "   Time With Friends  Do you have Social Media Addiction  \\\n",
       "0                  3                                   2   \n",
       "1                  1                                   2   \n",
       "2                  3                                   0   \n",
       "3                  2                                   2   \n",
       "4                  2                                   2   \n",
       "\n",
       "   Worried all the time  Get easily annoyed or irritable  Explorer  \\\n",
       "0                     1                                1         2   \n",
       "1                     1                                1         2   \n",
       "2                     0                                0         1   \n",
       "3                     1                                1         2   \n",
       "4                     1                                1         2   \n",
       "\n",
       "   Tended to overreact on Situations  Select a Quote  \\\n",
       "0                                  0               3   \n",
       "1                                  0               3   \n",
       "2                                  1               3   \n",
       "3                                  2               6   \n",
       "4                                  2               2   \n",
       "\n",
       "   Please rate your recent Mental Situation  \n",
       "0                                         3  \n",
       "1                                         1  \n",
       "2                                         1  \n",
       "3                                         3  \n",
       "4                                         4  \n",
       "\n",
       "[5 rows x 24 columns]"
      ]
     },
     "execution_count": 106,
     "metadata": {},
     "output_type": "execute_result"
    }
   ],
   "source": [
    "df1.head(5)"
   ]
  },
  {
   "cell_type": "code",
   "execution_count": 107,
   "metadata": {},
   "outputs": [],
   "source": [
    "Y1 = df1['Please rate your recent Mental Situation'].apply(lambda y_value : 1 if y_value>=2 else 0 )"
   ]
  },
  {
   "cell_type": "code",
   "execution_count": 108,
   "metadata": {},
   "outputs": [
    {
     "name": "stdout",
     "output_type": "stream",
     "text": [
      "0      1\n",
      "1      0\n",
      "2      0\n",
      "3      1\n",
      "4      1\n",
      "      ..\n",
      "385    1\n",
      "386    1\n",
      "387    1\n",
      "388    1\n",
      "389    1\n",
      "Name: Please rate your recent Mental Situation, Length: 390, dtype: int64\n"
     ]
    }
   ],
   "source": [
    "#Y1 = df1['Please rate your recent Mental Situation']\n",
    "print(Y1)"
   ]
  },
  {
   "cell_type": "code",
   "execution_count": 109,
   "metadata": {},
   "outputs": [],
   "source": [
    "X_train,X_test,y_train,y_test=train_test_split(df1.drop(['Please rate your recent Mental Situation'],axis='columns'),Y1,random_state=42)"
   ]
  },
  {
   "cell_type": "code",
   "execution_count": 110,
   "metadata": {},
   "outputs": [
    {
     "data": {
      "text/plain": [
       "RandomForestClassifier()"
      ]
     },
     "execution_count": 110,
     "metadata": {},
     "output_type": "execute_result"
    }
   ],
   "source": [
    "from sklearn.ensemble import RandomForestClassifier\n",
    "modelrf=RandomForestClassifier()\n",
    "modelrf.fit(X_train,y_train)"
   ]
  },
  {
   "cell_type": "code",
   "execution_count": 111,
   "metadata": {},
   "outputs": [
    {
     "data": {
      "text/plain": [
       "0.8367346938775511"
      ]
     },
     "execution_count": 111,
     "metadata": {},
     "output_type": "execute_result"
    }
   ],
   "source": [
    "modelrf.score(X_test,y_test)"
   ]
  },
  {
   "cell_type": "code",
   "execution_count": 112,
   "metadata": {},
   "outputs": [
    {
     "name": "stdout",
     "output_type": "stream",
     "text": [
      "1 9      1\n",
      "42     1\n",
      "33     1\n",
      "311    1\n",
      "272    1\n",
      "      ..\n",
      "75     1\n",
      "101    0\n",
      "104    1\n",
      "16     0\n",
      "66     1\n",
      "Name: Please rate your recent Mental Situation, Length: 98, dtype: int64\n"
     ]
    }
   ],
   "source": [
    "print(Y[42],y_test)"
   ]
  },
  {
   "cell_type": "code",
   "execution_count": 113,
   "metadata": {},
   "outputs": [
    {
     "name": "stdout",
     "output_type": "stream",
     "text": [
      "0      1\n",
      "1      0\n",
      "2      0\n",
      "3      1\n",
      "4      1\n",
      "      ..\n",
      "385    1\n",
      "386    1\n",
      "387    1\n",
      "388    1\n",
      "389    1\n",
      "Name: Please rate your recent Mental Situation, Length: 390, dtype: int64\n"
     ]
    }
   ],
   "source": [
    "print(Y)"
   ]
  },
  {
   "cell_type": "code",
   "execution_count": 114,
   "metadata": {},
   "outputs": [],
   "source": [
    "import pickle\n",
    "pickle1=open(\"randomforest.pkl\",\"wb\")\n",
    "pickle.dump(modelrf,pickle1)\n",
    "pickle1.close()"
   ]
  },
  {
   "cell_type": "code",
   "execution_count": 261,
   "metadata": {},
   "outputs": [],
   "source": [
    "N=df['Name']"
   ]
  },
  {
   "cell_type": "code",
   "execution_count": 262,
   "metadata": {},
   "outputs": [
    {
     "name": "stdout",
     "output_type": "stream",
     "text": [
      "Rishab das\n"
     ]
    }
   ],
   "source": [
    "print(N[42])"
   ]
  },
  {
   "cell_type": "code",
   "execution_count": 263,
   "metadata": {},
   "outputs": [
    {
     "name": "stdout",
     "output_type": "stream",
     "text": [
      "2\n"
     ]
    }
   ],
   "source": [
    "print(y_test[42])"
   ]
  },
  {
   "cell_type": "code",
   "execution_count": 106,
   "metadata": {},
   "outputs": [
    {
     "name": "stderr",
     "output_type": "stream",
     "text": [
      "C:\\Users\\User\\Anaconda3\\envs\\mentalhealthprediction\\lib\\site-packages\\sklearn\\linear_model\\_logistic.py:818: ConvergenceWarning: lbfgs failed to converge (status=1):\n",
      "STOP: TOTAL NO. of ITERATIONS REACHED LIMIT.\n",
      "\n",
      "Increase the number of iterations (max_iter) or scale the data as shown in:\n",
      "    https://scikit-learn.org/stable/modules/preprocessing.html\n",
      "Please also refer to the documentation for alternative solver options:\n",
      "    https://scikit-learn.org/stable/modules/linear_model.html#logistic-regression\n",
      "  extra_warning_msg=_LOGISTIC_SOLVER_CONVERGENCE_MSG,\n"
     ]
    },
    {
     "data": {
      "text/plain": [
       "LogisticRegression(multi_class='ovr')"
      ]
     },
     "execution_count": 106,
     "metadata": {},
     "output_type": "execute_result"
    }
   ],
   "source": [
    "from sklearn.linear_model import LogisticRegression\n",
    "modelml=LogisticRegression(multi_class='ovr')\n",
    "modelml.fit(X_train,y_train)"
   ]
  },
  {
   "cell_type": "code",
   "execution_count": 107,
   "metadata": {},
   "outputs": [
    {
     "data": {
      "text/plain": [
       "0.826530612244898"
      ]
     },
     "execution_count": 107,
     "metadata": {},
     "output_type": "execute_result"
    }
   ],
   "source": [
    "modelml.score(X_test,y_test)"
   ]
  },
  {
   "cell_type": "code",
   "execution_count": 108,
   "metadata": {},
   "outputs": [],
   "source": [
    "import pickle\n",
    "pickle_out=open(\"logistic_reg.pkl\",\"wb\")\n",
    "pickle.dump(modelml,pickle_out)\n",
    "pickle_out.close()"
   ]
  },
  {
   "cell_type": "code",
   "execution_count": 109,
   "metadata": {},
   "outputs": [
    {
     "data": {
      "text/html": [
       "<div>\n",
       "<style scoped>\n",
       "    .dataframe tbody tr th:only-of-type {\n",
       "        vertical-align: middle;\n",
       "    }\n",
       "\n",
       "    .dataframe tbody tr th {\n",
       "        vertical-align: top;\n",
       "    }\n",
       "\n",
       "    .dataframe thead th {\n",
       "        text-align: right;\n",
       "    }\n",
       "</style>\n",
       "<table border=\"1\" class=\"dataframe\">\n",
       "  <thead>\n",
       "    <tr style=\"text-align: right;\">\n",
       "      <th></th>\n",
       "      <th>Age</th>\n",
       "      <th>Gender</th>\n",
       "      <th>Marital status</th>\n",
       "      <th>Profession</th>\n",
       "      <th>Living With Family</th>\n",
       "      <th>Sleeping Duration</th>\n",
       "      <th>Tested Positive For COVID</th>\n",
       "      <th>Depression Problems From Past</th>\n",
       "      <th>Still Having Depression</th>\n",
       "      <th>Depression tenure</th>\n",
       "      <th>...</th>\n",
       "      <th>Hours spent on your own per day</th>\n",
       "      <th>Member of any club</th>\n",
       "      <th>Time With Friends</th>\n",
       "      <th>Do you have Social Media Addiction</th>\n",
       "      <th>Worried all the time</th>\n",
       "      <th>Get easily annoyed or irritable</th>\n",
       "      <th>Explorer</th>\n",
       "      <th>Tended to overreact on Situations</th>\n",
       "      <th>Select a Quote</th>\n",
       "      <th>Please rate your recent Mental Situation</th>\n",
       "    </tr>\n",
       "  </thead>\n",
       "  <tbody>\n",
       "    <tr>\n",
       "      <th>0</th>\n",
       "      <td>22</td>\n",
       "      <td>0</td>\n",
       "      <td>0</td>\n",
       "      <td>0</td>\n",
       "      <td>0</td>\n",
       "      <td>1</td>\n",
       "      <td>0</td>\n",
       "      <td>0</td>\n",
       "      <td>1</td>\n",
       "      <td>1</td>\n",
       "      <td>...</td>\n",
       "      <td>0</td>\n",
       "      <td>1</td>\n",
       "      <td>3</td>\n",
       "      <td>2</td>\n",
       "      <td>1</td>\n",
       "      <td>1</td>\n",
       "      <td>2</td>\n",
       "      <td>0</td>\n",
       "      <td>3</td>\n",
       "      <td>3</td>\n",
       "    </tr>\n",
       "    <tr>\n",
       "      <th>1</th>\n",
       "      <td>56</td>\n",
       "      <td>0</td>\n",
       "      <td>1</td>\n",
       "      <td>1</td>\n",
       "      <td>0</td>\n",
       "      <td>1</td>\n",
       "      <td>0</td>\n",
       "      <td>0</td>\n",
       "      <td>1</td>\n",
       "      <td>1</td>\n",
       "      <td>...</td>\n",
       "      <td>2</td>\n",
       "      <td>0</td>\n",
       "      <td>1</td>\n",
       "      <td>2</td>\n",
       "      <td>1</td>\n",
       "      <td>1</td>\n",
       "      <td>2</td>\n",
       "      <td>0</td>\n",
       "      <td>3</td>\n",
       "      <td>1</td>\n",
       "    </tr>\n",
       "    <tr>\n",
       "      <th>2</th>\n",
       "      <td>21</td>\n",
       "      <td>0</td>\n",
       "      <td>0</td>\n",
       "      <td>0</td>\n",
       "      <td>0</td>\n",
       "      <td>2</td>\n",
       "      <td>0</td>\n",
       "      <td>1</td>\n",
       "      <td>1</td>\n",
       "      <td>1</td>\n",
       "      <td>...</td>\n",
       "      <td>0</td>\n",
       "      <td>0</td>\n",
       "      <td>3</td>\n",
       "      <td>0</td>\n",
       "      <td>0</td>\n",
       "      <td>0</td>\n",
       "      <td>1</td>\n",
       "      <td>1</td>\n",
       "      <td>3</td>\n",
       "      <td>1</td>\n",
       "    </tr>\n",
       "    <tr>\n",
       "      <th>3</th>\n",
       "      <td>23</td>\n",
       "      <td>0</td>\n",
       "      <td>0</td>\n",
       "      <td>0</td>\n",
       "      <td>0</td>\n",
       "      <td>1</td>\n",
       "      <td>0</td>\n",
       "      <td>0</td>\n",
       "      <td>1</td>\n",
       "      <td>1</td>\n",
       "      <td>...</td>\n",
       "      <td>2</td>\n",
       "      <td>0</td>\n",
       "      <td>2</td>\n",
       "      <td>2</td>\n",
       "      <td>1</td>\n",
       "      <td>1</td>\n",
       "      <td>2</td>\n",
       "      <td>2</td>\n",
       "      <td>6</td>\n",
       "      <td>3</td>\n",
       "    </tr>\n",
       "    <tr>\n",
       "      <th>4</th>\n",
       "      <td>28</td>\n",
       "      <td>0</td>\n",
       "      <td>1</td>\n",
       "      <td>1</td>\n",
       "      <td>1</td>\n",
       "      <td>2</td>\n",
       "      <td>0</td>\n",
       "      <td>1</td>\n",
       "      <td>1</td>\n",
       "      <td>1</td>\n",
       "      <td>...</td>\n",
       "      <td>0</td>\n",
       "      <td>0</td>\n",
       "      <td>2</td>\n",
       "      <td>2</td>\n",
       "      <td>1</td>\n",
       "      <td>1</td>\n",
       "      <td>2</td>\n",
       "      <td>2</td>\n",
       "      <td>2</td>\n",
       "      <td>4</td>\n",
       "    </tr>\n",
       "  </tbody>\n",
       "</table>\n",
       "<p>5 rows × 24 columns</p>\n",
       "</div>"
      ],
      "text/plain": [
       "   Age  Gender  Marital status  Profession  Living With Family  \\\n",
       "0   22       0               0           0                   0   \n",
       "1   56       0               1           1                   0   \n",
       "2   21       0               0           0                   0   \n",
       "3   23       0               0           0                   0   \n",
       "4   28       0               1           1                   1   \n",
       "\n",
       "   Sleeping Duration  Tested Positive For COVID  \\\n",
       "0                  1                          0   \n",
       "1                  1                          0   \n",
       "2                  2                          0   \n",
       "3                  1                          0   \n",
       "4                  2                          0   \n",
       "\n",
       "   Depression Problems From Past  Still Having Depression  Depression tenure  \\\n",
       "0                              0                        1                  1   \n",
       "1                              0                        1                  1   \n",
       "2                              1                        1                  1   \n",
       "3                              0                        1                  1   \n",
       "4                              1                        1                  1   \n",
       "\n",
       "   ...  Hours spent on your own per day  Member of any club  \\\n",
       "0  ...                                0                   1   \n",
       "1  ...                                2                   0   \n",
       "2  ...                                0                   0   \n",
       "3  ...                                2                   0   \n",
       "4  ...                                0                   0   \n",
       "\n",
       "   Time With Friends  Do you have Social Media Addiction  \\\n",
       "0                  3                                   2   \n",
       "1                  1                                   2   \n",
       "2                  3                                   0   \n",
       "3                  2                                   2   \n",
       "4                  2                                   2   \n",
       "\n",
       "   Worried all the time  Get easily annoyed or irritable  Explorer  \\\n",
       "0                     1                                1         2   \n",
       "1                     1                                1         2   \n",
       "2                     0                                0         1   \n",
       "3                     1                                1         2   \n",
       "4                     1                                1         2   \n",
       "\n",
       "   Tended to overreact on Situations  Select a Quote  \\\n",
       "0                                  0               3   \n",
       "1                                  0               3   \n",
       "2                                  1               3   \n",
       "3                                  2               6   \n",
       "4                                  2               2   \n",
       "\n",
       "   Please rate your recent Mental Situation  \n",
       "0                                         3  \n",
       "1                                         1  \n",
       "2                                         1  \n",
       "3                                         3  \n",
       "4                                         4  \n",
       "\n",
       "[5 rows x 24 columns]"
      ]
     },
     "execution_count": 109,
     "metadata": {},
     "output_type": "execute_result"
    }
   ],
   "source": [
    "df1.head(5)"
   ]
  },
  {
   "cell_type": "code",
   "execution_count": 100,
   "metadata": {},
   "outputs": [
    {
     "name": "stderr",
     "output_type": "stream",
     "text": [
      "C:\\Users\\User\\Anaconda3\\envs\\mentalhealthprediction\\lib\\site-packages\\sklearn\\linear_model\\_logistic.py:818: ConvergenceWarning: lbfgs failed to converge (status=1):\n",
      "STOP: TOTAL NO. of ITERATIONS REACHED LIMIT.\n",
      "\n",
      "Increase the number of iterations (max_iter) or scale the data as shown in:\n",
      "    https://scikit-learn.org/stable/modules/preprocessing.html\n",
      "Please also refer to the documentation for alternative solver options:\n",
      "    https://scikit-learn.org/stable/modules/linear_model.html#logistic-regression\n",
      "  extra_warning_msg=_LOGISTIC_SOLVER_CONVERGENCE_MSG,\n"
     ]
    },
    {
     "data": {
      "text/plain": [
       "LogisticRegression()"
      ]
     },
     "execution_count": 100,
     "metadata": {},
     "output_type": "execute_result"
    }
   ],
   "source": [
    "from sklearn.linear_model import LogisticRegression\n",
    "model3=LogisticRegression()\n",
    "model3.fit(X_train,y_train)"
   ]
  },
  {
   "cell_type": "code",
   "execution_count": 101,
   "metadata": {},
   "outputs": [
    {
     "data": {
      "text/plain": [
       "0.42857142857142855"
      ]
     },
     "execution_count": 101,
     "metadata": {},
     "output_type": "execute_result"
    }
   ],
   "source": [
    "model3.score(X_test,y_test)"
   ]
  },
  {
   "cell_type": "code",
   "execution_count": null,
   "metadata": {},
   "outputs": [],
   "source": []
  },
  {
   "cell_type": "code",
   "execution_count": 83,
   "metadata": {},
   "outputs": [],
   "source": [
    "df2=pd.get_dummies(df1,columns=['Please rate your recent Mental Situation'])"
   ]
  },
  {
   "cell_type": "code",
   "execution_count": 84,
   "metadata": {},
   "outputs": [
    {
     "data": {
      "text/html": [
       "<div>\n",
       "<style scoped>\n",
       "    .dataframe tbody tr th:only-of-type {\n",
       "        vertical-align: middle;\n",
       "    }\n",
       "\n",
       "    .dataframe tbody tr th {\n",
       "        vertical-align: top;\n",
       "    }\n",
       "\n",
       "    .dataframe thead th {\n",
       "        text-align: right;\n",
       "    }\n",
       "</style>\n",
       "<table border=\"1\" class=\"dataframe\">\n",
       "  <thead>\n",
       "    <tr style=\"text-align: right;\">\n",
       "      <th></th>\n",
       "      <th>Age</th>\n",
       "      <th>Gender</th>\n",
       "      <th>Living with Family</th>\n",
       "      <th>Sleeping Duration</th>\n",
       "      <th>Did you ever tested positive in Covid-19</th>\n",
       "      <th>Did you have/had depression problems</th>\n",
       "      <th>If yes, did you still have depression?</th>\n",
       "      <th>if yes, how long  you are in depression?</th>\n",
       "      <th>Amount of time spent in physical activity in a day</th>\n",
       "      <th>Regular Diet</th>\n",
       "      <th>...</th>\n",
       "      <th>Get easily annoyed or irritable</th>\n",
       "      <th>Interest or pleasure in Exploring things</th>\n",
       "      <th>Tended to overreact on Situations</th>\n",
       "      <th>What Addiction are you concerned about:-</th>\n",
       "      <th>Select a Quote which you like from the following</th>\n",
       "      <th>Please rate your recent Mental Situation_1</th>\n",
       "      <th>Please rate your recent Mental Situation_2</th>\n",
       "      <th>Please rate your recent Mental Situation_3</th>\n",
       "      <th>Please rate your recent Mental Situation_4</th>\n",
       "      <th>Please rate your recent Mental Situation_5</th>\n",
       "    </tr>\n",
       "  </thead>\n",
       "  <tbody>\n",
       "    <tr>\n",
       "      <td>0</td>\n",
       "      <td>22</td>\n",
       "      <td>0.0</td>\n",
       "      <td>0</td>\n",
       "      <td>1.0</td>\n",
       "      <td>0.0</td>\n",
       "      <td>0.0</td>\n",
       "      <td>1</td>\n",
       "      <td>1</td>\n",
       "      <td>1</td>\n",
       "      <td>2.0</td>\n",
       "      <td>...</td>\n",
       "      <td>1</td>\n",
       "      <td>2</td>\n",
       "      <td>0</td>\n",
       "      <td>6</td>\n",
       "      <td>3</td>\n",
       "      <td>0</td>\n",
       "      <td>0</td>\n",
       "      <td>0</td>\n",
       "      <td>1</td>\n",
       "      <td>0</td>\n",
       "    </tr>\n",
       "    <tr>\n",
       "      <td>1</td>\n",
       "      <td>56</td>\n",
       "      <td>0.0</td>\n",
       "      <td>0</td>\n",
       "      <td>1.0</td>\n",
       "      <td>0.0</td>\n",
       "      <td>0.0</td>\n",
       "      <td>1</td>\n",
       "      <td>1</td>\n",
       "      <td>0</td>\n",
       "      <td>1.0</td>\n",
       "      <td>...</td>\n",
       "      <td>1</td>\n",
       "      <td>2</td>\n",
       "      <td>0</td>\n",
       "      <td>7</td>\n",
       "      <td>3</td>\n",
       "      <td>0</td>\n",
       "      <td>1</td>\n",
       "      <td>0</td>\n",
       "      <td>0</td>\n",
       "      <td>0</td>\n",
       "    </tr>\n",
       "    <tr>\n",
       "      <td>2</td>\n",
       "      <td>21</td>\n",
       "      <td>0.0</td>\n",
       "      <td>0</td>\n",
       "      <td>2.0</td>\n",
       "      <td>0.0</td>\n",
       "      <td>1.0</td>\n",
       "      <td>1</td>\n",
       "      <td>1</td>\n",
       "      <td>5</td>\n",
       "      <td>3.0</td>\n",
       "      <td>...</td>\n",
       "      <td>0</td>\n",
       "      <td>1</td>\n",
       "      <td>1</td>\n",
       "      <td>4</td>\n",
       "      <td>3</td>\n",
       "      <td>0</td>\n",
       "      <td>1</td>\n",
       "      <td>0</td>\n",
       "      <td>0</td>\n",
       "      <td>0</td>\n",
       "    </tr>\n",
       "    <tr>\n",
       "      <td>3</td>\n",
       "      <td>23</td>\n",
       "      <td>0.0</td>\n",
       "      <td>0</td>\n",
       "      <td>1.0</td>\n",
       "      <td>0.0</td>\n",
       "      <td>0.0</td>\n",
       "      <td>1</td>\n",
       "      <td>1</td>\n",
       "      <td>1</td>\n",
       "      <td>1.0</td>\n",
       "      <td>...</td>\n",
       "      <td>1</td>\n",
       "      <td>2</td>\n",
       "      <td>2</td>\n",
       "      <td>4</td>\n",
       "      <td>6</td>\n",
       "      <td>0</td>\n",
       "      <td>0</td>\n",
       "      <td>0</td>\n",
       "      <td>1</td>\n",
       "      <td>0</td>\n",
       "    </tr>\n",
       "    <tr>\n",
       "      <td>4</td>\n",
       "      <td>28</td>\n",
       "      <td>0.0</td>\n",
       "      <td>1</td>\n",
       "      <td>2.0</td>\n",
       "      <td>0.0</td>\n",
       "      <td>1.0</td>\n",
       "      <td>1</td>\n",
       "      <td>1</td>\n",
       "      <td>5</td>\n",
       "      <td>2.0</td>\n",
       "      <td>...</td>\n",
       "      <td>1</td>\n",
       "      <td>2</td>\n",
       "      <td>2</td>\n",
       "      <td>5</td>\n",
       "      <td>2</td>\n",
       "      <td>0</td>\n",
       "      <td>0</td>\n",
       "      <td>0</td>\n",
       "      <td>0</td>\n",
       "      <td>1</td>\n",
       "    </tr>\n",
       "  </tbody>\n",
       "</table>\n",
       "<p>5 rows × 27 columns</p>\n",
       "</div>"
      ],
      "text/plain": [
       "   Age  Gender  Living with Family  Sleeping Duration  \\\n",
       "0   22     0.0                   0                1.0   \n",
       "1   56     0.0                   0                1.0   \n",
       "2   21     0.0                   0                2.0   \n",
       "3   23     0.0                   0                1.0   \n",
       "4   28     0.0                   1                2.0   \n",
       "\n",
       "   Did you ever tested positive in Covid-19  \\\n",
       "0                                       0.0   \n",
       "1                                       0.0   \n",
       "2                                       0.0   \n",
       "3                                       0.0   \n",
       "4                                       0.0   \n",
       "\n",
       "   Did you have/had depression problems  \\\n",
       "0                                   0.0   \n",
       "1                                   0.0   \n",
       "2                                   1.0   \n",
       "3                                   0.0   \n",
       "4                                   1.0   \n",
       "\n",
       "   If yes, did you still have depression?  \\\n",
       "0                                       1   \n",
       "1                                       1   \n",
       "2                                       1   \n",
       "3                                       1   \n",
       "4                                       1   \n",
       "\n",
       "   if yes, how long  you are in depression?  \\\n",
       "0                                         1   \n",
       "1                                         1   \n",
       "2                                         1   \n",
       "3                                         1   \n",
       "4                                         1   \n",
       "\n",
       "   Amount of time spent in physical activity in a day  Regular Diet  ...  \\\n",
       "0                                                  1            2.0  ...   \n",
       "1                                                  0            1.0  ...   \n",
       "2                                                  5            3.0  ...   \n",
       "3                                                  1            1.0  ...   \n",
       "4                                                  5            2.0  ...   \n",
       "\n",
       "   Get easily annoyed or irritable  Interest or pleasure in Exploring things  \\\n",
       "0                                1                                         2   \n",
       "1                                1                                         2   \n",
       "2                                0                                         1   \n",
       "3                                1                                         2   \n",
       "4                                1                                         2   \n",
       "\n",
       "   Tended to overreact on Situations  \\\n",
       "0                                  0   \n",
       "1                                  0   \n",
       "2                                  1   \n",
       "3                                  2   \n",
       "4                                  2   \n",
       "\n",
       "   What Addiction are you concerned about:-  \\\n",
       "0                                         6   \n",
       "1                                         7   \n",
       "2                                         4   \n",
       "3                                         4   \n",
       "4                                         5   \n",
       "\n",
       "   Select a Quote which you like from the following  \\\n",
       "0                                                 3   \n",
       "1                                                 3   \n",
       "2                                                 3   \n",
       "3                                                 6   \n",
       "4                                                 2   \n",
       "\n",
       "   Please rate your recent Mental Situation_1  \\\n",
       "0                                           0   \n",
       "1                                           0   \n",
       "2                                           0   \n",
       "3                                           0   \n",
       "4                                           0   \n",
       "\n",
       "   Please rate your recent Mental Situation_2  \\\n",
       "0                                           0   \n",
       "1                                           1   \n",
       "2                                           1   \n",
       "3                                           0   \n",
       "4                                           0   \n",
       "\n",
       "   Please rate your recent Mental Situation_3  \\\n",
       "0                                           0   \n",
       "1                                           0   \n",
       "2                                           0   \n",
       "3                                           0   \n",
       "4                                           0   \n",
       "\n",
       "   Please rate your recent Mental Situation_4  \\\n",
       "0                                           1   \n",
       "1                                           0   \n",
       "2                                           0   \n",
       "3                                           1   \n",
       "4                                           0   \n",
       "\n",
       "   Please rate your recent Mental Situation_5  \n",
       "0                                           0  \n",
       "1                                           0  \n",
       "2                                           0  \n",
       "3                                           0  \n",
       "4                                           1  \n",
       "\n",
       "[5 rows x 27 columns]"
      ]
     },
     "execution_count": 84,
     "metadata": {},
     "output_type": "execute_result"
    }
   ],
   "source": [
    "df2.head()"
   ]
  },
  {
   "cell_type": "code",
   "execution_count": 85,
   "metadata": {},
   "outputs": [],
   "source": [
    "Y1=df2['Please rate your recent Mental Situation_1'].values\n",
    "Y2=df2['Please rate your recent Mental Situation_2'].values\n",
    "Y3=df2['Please rate your recent Mental Situation_3'].values\n",
    "Y4=df2['Please rate your recent Mental Situation_4'].values\n",
    "Y5=df2['Please rate your recent Mental Situation_5'].values"
   ]
  },
  {
   "cell_type": "code",
   "execution_count": 86,
   "metadata": {},
   "outputs": [],
   "source": [
    "X_train1,X_test1,y_train1,y_test1=train_test_split(df2.drop(['Please rate your recent Mental Situation_1','Please rate your recent Mental Situation_2','Please rate your recent Mental Situation_3','Please rate your recent Mental Situation_4','Please rate your recent Mental Situation_5'],axis='columns'),Y1,random_state=42)"
   ]
  },
  {
   "cell_type": "code",
   "execution_count": 87,
   "metadata": {},
   "outputs": [
    {
     "name": "stderr",
     "output_type": "stream",
     "text": [
      "D:\\Python\\lib\\site-packages\\sklearn\\linear_model\\logistic.py:432: FutureWarning: Default solver will be changed to 'lbfgs' in 0.22. Specify a solver to silence this warning.\n",
      "  FutureWarning)\n"
     ]
    },
    {
     "data": {
      "text/plain": [
       "LogisticRegression(C=1.0, class_weight=None, dual=False, fit_intercept=True,\n",
       "                   intercept_scaling=1, l1_ratio=None, max_iter=100,\n",
       "                   multi_class='warn', n_jobs=None, penalty='l2',\n",
       "                   random_state=None, solver='warn', tol=0.0001, verbose=0,\n",
       "                   warm_start=False)"
      ]
     },
     "execution_count": 87,
     "metadata": {},
     "output_type": "execute_result"
    }
   ],
   "source": [
    "from sklearn.linear_model import LogisticRegression\n",
    "model5=LogisticRegression()\n",
    "model5.fit(X_train1,y_train1)"
   ]
  },
  {
   "cell_type": "code",
   "execution_count": 88,
   "metadata": {},
   "outputs": [],
   "source": [
    "a1=model5.score(X_test1,y_test1)"
   ]
  },
  {
   "cell_type": "code",
   "execution_count": 89,
   "metadata": {},
   "outputs": [
    {
     "name": "stdout",
     "output_type": "stream",
     "text": [
      "[0 0 0 0 0 0 0 1 0 0 0 0 0 0 0 0 0 0 1 0 0 0 0 0 0 0 0 0 0 1 0 0 1 0 0 0 0\n",
      " 0 0 0 0 0 0 0 0 0 1 0 0 0 1 0 0 0 0 0 0 0 1 1 0 0 0 0 0 0 1 0 0 0 0 0 1 0\n",
      " 0 0 0 0 0 0 0 0 0 0 0 0 0 0 1 1 0 0 0 0 0 0 0 0]\n"
     ]
    }
   ],
   "source": [
    "print(y_test1)"
   ]
  },
  {
   "cell_type": "code",
   "execution_count": 90,
   "metadata": {},
   "outputs": [
    {
     "name": "stderr",
     "output_type": "stream",
     "text": [
      "D:\\Python\\lib\\site-packages\\sklearn\\linear_model\\logistic.py:432: FutureWarning: Default solver will be changed to 'lbfgs' in 0.22. Specify a solver to silence this warning.\n",
      "  FutureWarning)\n"
     ]
    },
    {
     "data": {
      "text/plain": [
       "LogisticRegression(C=1.0, class_weight=None, dual=False, fit_intercept=True,\n",
       "                   intercept_scaling=1, l1_ratio=None, max_iter=100,\n",
       "                   multi_class='warn', n_jobs=None, penalty='l2',\n",
       "                   random_state=None, solver='warn', tol=0.0001, verbose=0,\n",
       "                   warm_start=False)"
      ]
     },
     "execution_count": 90,
     "metadata": {},
     "output_type": "execute_result"
    }
   ],
   "source": [
    "X_train2,X_test2,y_train2,y_test2=train_test_split(df2.drop(['Please rate your recent Mental Situation_1','Please rate your recent Mental Situation_2','Please rate your recent Mental Situation_3','Please rate your recent Mental Situation_4','Please rate your recent Mental Situation_5'],axis='columns'),Y2,random_state=42)\n",
    "from sklearn.linear_model import LogisticRegression\n",
    "model6=LogisticRegression()\n",
    "model6.fit(X_train2,y_train2)"
   ]
  },
  {
   "cell_type": "code",
   "execution_count": 91,
   "metadata": {},
   "outputs": [],
   "source": [
    "a2=model6.score(X_test2,y_test2)"
   ]
  },
  {
   "cell_type": "code",
   "execution_count": 92,
   "metadata": {},
   "outputs": [
    {
     "name": "stderr",
     "output_type": "stream",
     "text": [
      "D:\\Python\\lib\\site-packages\\sklearn\\linear_model\\logistic.py:432: FutureWarning: Default solver will be changed to 'lbfgs' in 0.22. Specify a solver to silence this warning.\n",
      "  FutureWarning)\n"
     ]
    },
    {
     "data": {
      "text/plain": [
       "LogisticRegression(C=1.0, class_weight=None, dual=False, fit_intercept=True,\n",
       "                   intercept_scaling=1, l1_ratio=None, max_iter=100,\n",
       "                   multi_class='warn', n_jobs=None, penalty='l2',\n",
       "                   random_state=None, solver='warn', tol=0.0001, verbose=0,\n",
       "                   warm_start=False)"
      ]
     },
     "execution_count": 92,
     "metadata": {},
     "output_type": "execute_result"
    }
   ],
   "source": [
    "X_train5,X_test5,y_train5,y_test5=train_test_split(df2.drop(['Please rate your recent Mental Situation_1','Please rate your recent Mental Situation_2','Please rate your recent Mental Situation_3','Please rate your recent Mental Situation_4','Please rate your recent Mental Situation_5'],axis='columns'),Y5,random_state=42)\n",
    "from sklearn.linear_model import LogisticRegression\n",
    "model9=LogisticRegression()\n",
    "model9.fit(X_train5,y_train5)"
   ]
  },
  {
   "cell_type": "code",
   "execution_count": 93,
   "metadata": {},
   "outputs": [],
   "source": [
    "a5=model9.score(X_test5,y_test5)"
   ]
  },
  {
   "cell_type": "code",
   "execution_count": 94,
   "metadata": {},
   "outputs": [
    {
     "name": "stderr",
     "output_type": "stream",
     "text": [
      "D:\\Python\\lib\\site-packages\\sklearn\\linear_model\\logistic.py:432: FutureWarning: Default solver will be changed to 'lbfgs' in 0.22. Specify a solver to silence this warning.\n",
      "  FutureWarning)\n"
     ]
    },
    {
     "data": {
      "text/plain": [
       "LogisticRegression(C=1.0, class_weight=None, dual=False, fit_intercept=True,\n",
       "                   intercept_scaling=1, l1_ratio=None, max_iter=100,\n",
       "                   multi_class='warn', n_jobs=None, penalty='l2',\n",
       "                   random_state=None, solver='warn', tol=0.0001, verbose=0,\n",
       "                   warm_start=False)"
      ]
     },
     "execution_count": 94,
     "metadata": {},
     "output_type": "execute_result"
    }
   ],
   "source": [
    "X_train3,X_test3,y_train3,y_test3=train_test_split(df2.drop(['Please rate your recent Mental Situation_1','Please rate your recent Mental Situation_2','Please rate your recent Mental Situation_3','Please rate your recent Mental Situation_4','Please rate your recent Mental Situation_5'],axis='columns'),Y3,random_state=42)\n",
    "from sklearn.linear_model import LogisticRegression\n",
    "model7=LogisticRegression()\n",
    "model7.fit(X_train3,y_train3)"
   ]
  },
  {
   "cell_type": "code",
   "execution_count": 95,
   "metadata": {},
   "outputs": [],
   "source": [
    "a3=model7.score(X_test3,y_test3)"
   ]
  },
  {
   "cell_type": "code",
   "execution_count": 96,
   "metadata": {},
   "outputs": [
    {
     "name": "stderr",
     "output_type": "stream",
     "text": [
      "D:\\Python\\lib\\site-packages\\sklearn\\linear_model\\logistic.py:432: FutureWarning: Default solver will be changed to 'lbfgs' in 0.22. Specify a solver to silence this warning.\n",
      "  FutureWarning)\n"
     ]
    },
    {
     "data": {
      "text/plain": [
       "LogisticRegression(C=1.0, class_weight=None, dual=False, fit_intercept=True,\n",
       "                   intercept_scaling=1, l1_ratio=None, max_iter=100,\n",
       "                   multi_class='warn', n_jobs=None, penalty='l2',\n",
       "                   random_state=None, solver='warn', tol=0.0001, verbose=0,\n",
       "                   warm_start=False)"
      ]
     },
     "execution_count": 96,
     "metadata": {},
     "output_type": "execute_result"
    }
   ],
   "source": [
    "X_train4,X_test4,y_train4,y_test4=train_test_split(df2.drop(['Please rate your recent Mental Situation_1','Please rate your recent Mental Situation_2','Please rate your recent Mental Situation_3','Please rate your recent Mental Situation_4','Please rate your recent Mental Situation_5'],axis='columns'),Y4,random_state=42)\n",
    "from sklearn.linear_model import LogisticRegression\n",
    "model8=LogisticRegression()\n",
    "model8.fit(X_train4,y_train4)"
   ]
  },
  {
   "cell_type": "code",
   "execution_count": 97,
   "metadata": {},
   "outputs": [],
   "source": [
    "a4=model8.score(X_test4,y_test4)"
   ]
  },
  {
   "cell_type": "code",
   "execution_count": 98,
   "metadata": {},
   "outputs": [],
   "source": [
    "my_list={'rating1':a1,'rating2':a2,'rating3':a3,'rating4':a4,'rating5':a5}"
   ]
  },
  {
   "cell_type": "code",
   "execution_count": 99,
   "metadata": {},
   "outputs": [
    {
     "data": {
      "image/png": "[encoded data removed]",
      "text/plain": [
       "<Figure size 720x360 with 1 Axes>"
      ]
     },
     "metadata": {
      "needs_background": "light"
     },
     "output_type": "display_data"
    }
   ],
   "source": [
    "fig=plt.figure(figsize=(10,5))\n",
    "plt.bar(list(my_list.keys()),list(my_list.values()),color='red',width=0.5)\n",
    "plt.xlabel('Ratings')\n",
    "plt.ylabel('Accuracy')\n",
    "plt.title('Logistic Regression accuracy')\n",
    "plt.show()"
   ]
  },
  {
   "cell_type": "code",
   "execution_count": 101,
   "metadata": {},
   "outputs": [
    {
     "data": {
      "image/png": "[encoded data removed]",
      "text/plain": [
       "<Figure size 720x360 with 1 Axes>"
      ]
     },
     "metadata": {
      "needs_background": "light"
     },
     "output_type": "display_data"
    }
   ],
   "source": [
    "fig=plt.figure(figsize=(10,5))\n",
    "plt.bar(list(my_list.keys()),list(my_list.values()),color='Blue',width=0.8)\n",
    "plt.xlabel('Algorithms')\n",
    "plt.ylabel('Accuracy')\n",
    "plt.title('Ratings accuracy')\n",
    "plt.show()"
   ]
  },
  {
   "cell_type": "code",
   "execution_count": null,
   "metadata": {},
   "outputs": [],
   "source": []
  }
 ],
 "metadata": {
  "kernelspec": {
   "display_name": "Python 3",
   "language": "python",
   "name": "python3"
  },
  "language_info": {
   "codemirror_mode": {
    "name": "ipython",
    "version": 3
   },
   "file_extension": ".py",
   "mimetype": "text/x-python",
   "name": "python",
   "nbconvert_exporter": "python",
   "pygments_lexer": "ipython3",
   "version": "3.7.4"
  }
 },
 "nbformat": 4,
 "nbformat_minor": 2
}
